{
 "cells": [
  {
   "cell_type": "markdown",
   "metadata": {
    "ExecuteTime": {
     "end_time": "2019-04-17T16:09:57.729873Z",
     "start_time": "2019-04-17T16:09:57.534450Z"
    }
   },
   "source": [
    "<font size=20>Learning regular sets from queries and counterexamples</font>"
   ]
  },
  {
   "cell_type": "markdown",
   "metadata": {
    "ExecuteTime": {
     "end_time": "2019-04-17T16:09:57.729873Z",
     "start_time": "2019-04-17T16:09:57.534450Z"
    }
   },
   "source": [
    "# Reference paper"
   ]
  },
  {
   "cell_type": "markdown",
   "metadata": {
    "ExecuteTime": {
     "end_time": "2019-04-17T16:09:57.729873Z",
     "start_time": "2019-04-17T16:09:57.534450Z"
    }
   },
   "source": [
    "## Problem statement"
   ]
  },
  {
   "cell_type": "markdown",
   "metadata": {
    "ExecuteTime": {
     "end_time": "2019-04-17T16:09:57.729873Z",
     "start_time": "2019-04-17T16:09:57.534450Z"
    }
   },
   "source": [
    "[Learning regular sets from queries and counterexamples](https://www.sciencedirect.com/science/article/pii/0890540187900526)\n",
    "\n",
    "A `Teacher` knows a regular language $\\mathcal{L}(M)$ over an alphabet $\\Sigma$ realized by a finite deterministic automaton $M$.\n",
    "\n",
    "A `Learner` tries to discover $M$. To this end, the `Learner` progressively builds an automaton $H$ based on the answers obtained from `Teacher`. The `Learner` can ask two types of questions:\n",
    "* Do $H$ and $M$ corresponds?\n",
    "  * ... where $H$ denotes the current hypothese automaton of the `Learner`.\n",
    "  * If not the teacher provides a counter example, i.e. a word $w \\in (L \\backslash \\mathcal{L}(H)) \\cup (\\mathcal{L}(H) \\backslash \\mathcal{L}(M))$\n",
    "* Does $w$ belong to $\\mathcal{L}(M)$?"
   ]
  },
  {
   "cell_type": "markdown",
   "metadata": {
    "ExecuteTime": {
     "end_time": "2019-04-17T16:09:57.729873Z",
     "start_time": "2019-04-17T16:09:57.534450Z"
    }
   },
   "source": [
    "## $L^*$ algorithm "
   ]
  },
  {
   "cell_type": "markdown",
   "metadata": {
    "ExecuteTime": {
     "end_time": "2019-04-17T16:09:57.729873Z",
     "start_time": "2019-04-17T16:09:57.534450Z"
    }
   },
   "source": [
    "We denote by the empty word by $\\varepsilon$ (N.B. In her article, D. Angluin uses $\\lambda$ instead).\n",
    "\n",
    "The `Learner` maintains a triple $(S, E, T)$:\n",
    "* $S$ is a set of prefixes over $\\Sigma^*$, initialized to $\\{\\varepsilon\\}$;\n",
    "* $E$ is a set of suffixes over $\\Sigma^*$, initialized to $\\{\\varepsilon\\}$;\n",
    "* $T$ is the `ObservationTable`, which is in practice a 0-1 matrix $T$.\n",
    "  * Each row $i$ corresponds to a given prefix $s \\in S \\cup S.\\Sigma$, where $S.\\Sigma = {s.a, s \\in S, a \\in \\Sigma}$;\n",
    "  * Each column $j$ corresponds to a given suffix $e \\in E$;\n",
    "  * $T(i,j)$ indicates whether the word $s.e$ belongs to $L$ or not.\n",
    "\n",
    "The `Learner` updates progressively its $(S,E,T)$ triple thanks to the $L^*$ algorithm. It derives the hypothese automaton $H$ from $T$. This work is made in two steps:"
   ]
  },
  {
   "cell_type": "markdown",
   "metadata": {
    "ExecuteTime": {
     "end_time": "2019-04-17T16:09:57.729873Z",
     "start_time": "2019-04-17T16:09:57.534450Z"
    }
   },
   "source": [
    "__Exploration:__\n",
    "\n",
    "To build the hypothese minimal complete DFA $H$, the `Learner` requires a _closed_ and _consistent_ `ObservationTable` (these properties are defined later). To this end, the `Learner` triggers membership queries to the `Teacher`, allowing to extend $(S, E, T)$ until these two properties hold.\n",
    "\n",
    "Once $(S,E,T)$ is closed and consistent, the `Learner` derives $H$ as follows:\n",
    "* _States:_ Each row of $S$ identifies a state of $H$. This $q$ state is when $H$ reads the prefix $s \\in S$ matching this row. $q$ is final iff $T(s, \\varepsilon)$ is true.\n",
    "* _Transitions:_ To determine egress transition of $q$, for all $a \\in \\Sigma$, the algorithm searches the row corresponding to $s+a$. This row identifies a prefix of $S$ and thus exactly one state $r$ of $H$. Thus, the $a$-transition from $q$ to $r$ is built.\n",
    "\n",
    "At the end, the `Learner` obtained a minimal finite deterministic automaton $H$."
   ]
  },
  {
   "cell_type": "markdown",
   "metadata": {
    "ExecuteTime": {
     "end_time": "2019-04-17T16:09:57.729873Z",
     "start_time": "2019-04-17T16:09:57.534450Z"
    }
   },
   "source": [
    "__Validation:__\n",
    "\n",
    "The `Learner` proposes $H$ the `Teacher`.\n",
    "* If the `Teacher` does not return counter example, it means that $H$ is the expected automaton.\n",
    "* Otherwise, the `Teacher` returns counter-example $t$. The `Learner` insert $t$ and all its prefixes into $S$. By doing so, the `Learner` is guaranteed to only propose in the future automata returning the right result for the word $t$. Then, the `Learner` repeats the Exploration and Validation phases until $H = M$."
   ]
  },
  {
   "cell_type": "markdown",
   "metadata": {
    "ExecuteTime": {
     "end_time": "2019-04-17T16:09:57.729873Z",
     "start_time": "2019-04-17T16:09:57.534450Z"
    }
   },
   "source": [
    "# Deterministic Finite Automaton (DFA)\n",
    "## Implementation"
   ]
  },
  {
   "cell_type": "code",
   "execution_count": 1,
   "metadata": {
    "ExecuteTime": {
     "end_time": "2020-03-09T14:20:06.243103Z",
     "start_time": "2020-03-09T14:20:06.235457Z"
    }
   },
   "outputs": [],
   "source": [
    "from pybgl.automaton import Automaton, accepts, add_edge, alphabet, delta, edge, \\\n",
    "    final, initial, is_complete, is_deterministic, is_final, is_finite, is_initial, \\\n",
    "    is_minimal, label, make_automaton, set_final, sigma"
   ]
  },
  {
   "cell_type": "markdown",
   "metadata": {},
   "source": [
    "# Teacher\n",
    "\n",
    "The teacher is just a wrapper around a (minimal) deterministic automaton $M$.\n",
    "\n",
    "It exposes two main primitives:\n",
    "* _membership queries:_ \"$w \\in \\mathcal{L}(M)$?\" for some word $w \\in \\Sigma^*$.\n",
    "* _equivalence queries:_ \"$\\mathcal{L}(H) = \\mathcal{L}(M)$?\" for some hypothesis automaton $H$.\n"
   ]
  },
  {
   "cell_type": "code",
   "execution_count": 2,
   "metadata": {
    "ExecuteTime": {
     "end_time": "2020-03-09T14:20:06.395340Z",
     "start_time": "2020-03-09T14:20:06.391688Z"
    }
   },
   "outputs": [],
   "source": [
    "from lstar.teacher import Teacher"
   ]
  },
  {
   "cell_type": "markdown",
   "metadata": {},
   "source": [
    "## Membership queries\n",
    "\n",
    "It just consists in testing whether $w$ is accepted by the automaton $M$."
   ]
  },
  {
   "cell_type": "markdown",
   "metadata": {},
   "source": [
    "## Equivalence queries\n",
    "\n",
    "The goal here is to determine whether two automata $G_1$ and $G_2$ recognize the same language, i.e. if $\\mathcal{L}(G_1)$ = $\\mathcal{L}(G_2)$.\n",
    "* __Method 1:__ build in polynomial time the automaton recognizing $(\\mathcal{L}(G_1) \\backslash \\mathcal{L}(G_2)) \\cup (\\mathcal{L}(G_2) \\backslash \\mathcal{L}(G_1))$, and then extract any accepted word by the resulting automaton. \n",
    "* __Method 2:__ build the product automaton $G_1 \\times G_2$. If a pair $(q_1,q_2) \\in (Q_1 \\times \\{\\perp\\}) \\times (\\{\\perp\\} \\times Q_2)$ is discovered then a contradiction has been stop and we can stop the exploration.\n",
    "\n",
    "In the $L^*$ algorithm, we can simplify this test. Indeed $H$ is complete and minimal. By assuming that $M$ is also minimal, our implementation `automaton_match` only needs to check if there is bijection between the states of $M$ and $H$."
   ]
  },
  {
   "cell_type": "code",
   "execution_count": 3,
   "metadata": {
    "ExecuteTime": {
     "end_time": "2020-03-09T14:20:06.642648Z",
     "start_time": "2020-03-09T14:20:06.639709Z"
    }
   },
   "outputs": [],
   "source": [
    "from lstar.automaton_match import automaton_match"
   ]
  },
  {
   "cell_type": "markdown",
   "metadata": {},
   "source": [
    "# Learner"
   ]
  },
  {
   "cell_type": "markdown",
   "metadata": {},
   "source": [
    "## Observation table $(S,E,T)$\n",
    "\n",
    "An `ObservationTable` is a matrix in ${0,1}^{|S \\cup S.\\Sigma| \\times |E|}$ used to build the hypothesis automaton $H$.\n",
    "* We call _signature_ the row vector in ${0,1}^{|E|}$ related to a suffix $s$ in $S \\cup S.\\Sigma$. We denote it by $\\mathrm{row}(s)$.\n",
    "* Each signature of $s \\in S$ identifies exactly one state in the inferred automaton $H$.\n",
    "* Each row corresponding to a suffix in $S.\\Sigma$ helps to build complete automaton.\n",
    "\n",
    "__Definitions:__\n",
    "* An `ObservationTable` is said to be _complete_ (or _closed_) iff $\\forall t \\in S.A, \\exists s \\in S~|~row(t) = row(s)$.\n",
    "* An `ObservationTable` is said to be _consistent_ (or _separable_) iff $\\forall s \\in S, \\forall s' \\in S, \\forall a \\in \\Sigma~|~row(s) = row(s) \\implies row(s.a) = row(s'.a)$."
   ]
  },
  {
   "cell_type": "code",
   "execution_count": 4,
   "metadata": {
    "ExecuteTime": {
     "end_time": "2020-03-09T14:20:06.969159Z",
     "start_time": "2020-03-09T14:20:06.867331Z"
    }
   },
   "outputs": [],
   "source": [
    "from lstar.observation_table import ObservationTable"
   ]
  },
  {
   "cell_type": "markdown",
   "metadata": {},
   "source": [
    "## Building the hypothesis automata $H$ from $(S,E,T)$\n",
    "\n",
    "If an `ObservationTable` is _complete_, _consistent_, then the `Learner` can derive a deterministic automaton $H$ and submit it to the `Teacher`.\n",
    "* __States:__ each state $q$ of $H$ is identified by a prefix $s \\in S$ (in particular $\\varepsilon$ identifies the initial state). Each state is identified $\\mathrm{row}(s)$. _Separability_ guarantees that these states are distinguishable\n",
    "* __Transitions:__  for each state $q$ related to a suffix $s$, and for all $a \\in \\Sigma$, the `Learner` can examine in $T$ the signature $\\mathrm{row}(s.a)$. This identifies a unique node $q'$ because $T$ is _separable_ and _closed_. This results to a $a$-transition from $q$ to $q'$.\n",
    "\n",
    "Once $H$ is built, the `Learner` can submit an equivalence query to the `Teacher` to test whether $H$ and $M$ match. If the `Teacher` returns a counter-example, the `Learner` updates its `ObservationTable` $T$. In particular, the `Learner` needs to fill $T$ and extend it until $T$ becomes complete and consistent. This forces the `Learner` to trigger several new membership queries."
   ]
  },
  {
   "cell_type": "code",
   "execution_count": 5,
   "metadata": {
    "ExecuteTime": {
     "end_time": "2020-03-09T14:20:07.016347Z",
     "start_time": "2020-03-09T14:20:07.009699Z"
    }
   },
   "outputs": [],
   "source": [
    "from lstar.learner import Learner, make_automaton_from_observation_table"
   ]
  },
  {
   "cell_type": "markdown",
   "metadata": {},
   "source": [
    "# Tests"
   ]
  },
  {
   "cell_type": "code",
   "execution_count": 6,
   "metadata": {
    "ExecuteTime": {
     "end_time": "2020-03-09T14:20:07.145284Z",
     "start_time": "2020-03-09T14:20:07.141746Z"
    }
   },
   "outputs": [],
   "source": [
    "from pybgl.graph import GraphvizStyle\n",
    "\n",
    "# Comment the following instruction for notebook using light theme\\n\",\n",
    "GraphvizStyle.set_fg_color(\"#cccccc\")\n",
    "GraphvizStyle.set_bg_color(\"#272727\")"
   ]
  },
  {
   "cell_type": "code",
   "execution_count": 7,
   "metadata": {
    "ExecuteTime": {
     "end_time": "2020-03-09T14:20:10.708865Z",
     "start_time": "2020-03-09T14:20:09.447564Z"
    },
    "scrolled": false
   },
   "outputs": [
    {
     "data": {
      "text/html": [
       "<h3>Test G1</h3>"
      ],
      "text/plain": [
       "<IPython.core.display.HTML object>"
      ]
     },
     "metadata": {},
     "output_type": "display_data"
    },
    {
     "data": {
      "text/html": [
       "<b>Teacher</b>"
      ],
      "text/plain": [
       "<IPython.core.display.HTML object>"
      ]
     },
     "metadata": {},
     "output_type": "display_data"
    },
    {
     "data": {
      "text/html": [
       "<?xml version=\"1.0\" encoding=\"UTF-8\" standalone=\"no\"?>\n",
       "<!DOCTYPE svg PUBLIC \"-//W3C//DTD SVG 1.1//EN\"\n",
       " \"http://www.w3.org/Graphics/SVG/1.1/DTD/svg11.dtd\">\n",
       "<!-- Generated by graphviz version 2.43.0 (0)\n",
       " -->\n",
       "<!-- Title: G Pages: 1 -->\n",
       "<svg width=\"210pt\" height=\"87pt\"\n",
       " viewBox=\"0.00 0.00 210.00 87.18\" xmlns=\"http://www.w3.org/2000/svg\" xmlns:xlink=\"http://www.w3.org/1999/xlink\">\n",
       "<g id=\"graph0\" class=\"graph\" transform=\"scale(1 1) rotate(0) translate(4 83.18)\">\n",
       "<title>G</title>\n",
       "<polygon fill=\"#272727\" stroke=\"transparent\" points=\"-4,4 -4,-83.18 206,-83.18 206,4 -4,4\"/>\n",
       "<!-- 0 -->\n",
       "<g id=\"node1\" class=\"node\">\n",
       "<title>0</title>\n",
       "<ellipse fill=\"none\" stroke=\"#cccccc\" cx=\"18\" cy=\"-24.18\" rx=\"18\" ry=\"18\"/>\n",
       "<text text-anchor=\"middle\" x=\"18\" y=\"-20.48\" font-family=\"Times,serif\" font-size=\"14.00\" fill=\"#cccccc\">0</text>\n",
       "</g>\n",
       "<!-- 0&#45;&gt;0 -->\n",
       "<g id=\"edge1\" class=\"edge\">\n",
       "<title>0&#45;&gt;0</title>\n",
       "<path fill=\"none\" stroke=\"#cccccc\" d=\"M11.27,-41.22C9.89,-51.04 12.14,-60.18 18,-60.18 21.66,-60.18 23.92,-56.61 24.75,-51.53\"/>\n",
       "<polygon fill=\"#cccccc\" stroke=\"#cccccc\" points=\"28.25,-51.21 24.73,-41.22 21.25,-51.22 28.25,-51.21\"/>\n",
       "<text text-anchor=\"middle\" x=\"18\" y=\"-63.98\" font-family=\"Times,serif\" font-size=\"14.00\" fill=\"#cccccc\">a</text>\n",
       "</g>\n",
       "<!-- 1 -->\n",
       "<g id=\"node2\" class=\"node\">\n",
       "<title>1</title>\n",
       "<ellipse fill=\"none\" stroke=\"#cccccc\" cx=\"101\" cy=\"-24.18\" rx=\"18\" ry=\"18\"/>\n",
       "<ellipse fill=\"none\" stroke=\"#cccccc\" cx=\"101\" cy=\"-24.18\" rx=\"22\" ry=\"22\"/>\n",
       "<text text-anchor=\"middle\" x=\"101\" y=\"-20.48\" font-family=\"Times,serif\" font-size=\"14.00\" fill=\"#cccccc\">1</text>\n",
       "</g>\n",
       "<!-- 0&#45;&gt;1 -->\n",
       "<g id=\"edge2\" class=\"edge\">\n",
       "<title>0&#45;&gt;1</title>\n",
       "<path fill=\"none\" stroke=\"#cccccc\" d=\"M36.18,-24.18C45.61,-24.18 57.6,-24.18 68.64,-24.18\"/>\n",
       "<polygon fill=\"#cccccc\" stroke=\"#cccccc\" points=\"68.81,-27.68 78.81,-24.18 68.81,-20.68 68.81,-27.68\"/>\n",
       "<text text-anchor=\"middle\" x=\"57.5\" y=\"-27.98\" font-family=\"Times,serif\" font-size=\"14.00\" fill=\"#cccccc\">b</text>\n",
       "</g>\n",
       "<!-- 1&#45;&gt;1 -->\n",
       "<g id=\"edge4\" class=\"edge\">\n",
       "<title>1&#45;&gt;1</title>\n",
       "<path fill=\"none\" stroke=\"#cccccc\" d=\"M93.32,-45.17C92.37,-55.27 94.93,-64.18 101,-64.18 104.89,-64.18 107.34,-60.52 108.35,-55.24\"/>\n",
       "<polygon fill=\"#cccccc\" stroke=\"#cccccc\" points=\"111.85,-55.28 108.68,-45.17 104.85,-55.05 111.85,-55.28\"/>\n",
       "<text text-anchor=\"middle\" x=\"101\" y=\"-67.98\" font-family=\"Times,serif\" font-size=\"14.00\" fill=\"#cccccc\">b</text>\n",
       "</g>\n",
       "<!-- 2 -->\n",
       "<g id=\"node3\" class=\"node\">\n",
       "<title>2</title>\n",
       "<ellipse fill=\"none\" stroke=\"#cccccc\" cx=\"184\" cy=\"-24.18\" rx=\"18\" ry=\"18\"/>\n",
       "<text text-anchor=\"middle\" x=\"184\" y=\"-20.48\" font-family=\"Times,serif\" font-size=\"14.00\" fill=\"#cccccc\">2</text>\n",
       "</g>\n",
       "<!-- 1&#45;&gt;2 -->\n",
       "<g id=\"edge3\" class=\"edge\">\n",
       "<title>1&#45;&gt;2</title>\n",
       "<path fill=\"none\" stroke=\"#cccccc\" d=\"M120.06,-35.38C128.43,-39.28 138.58,-42.23 148,-40.18 151.5,-39.42 155.07,-38.27 158.53,-36.94\"/>\n",
       "<polygon fill=\"#cccccc\" stroke=\"#cccccc\" points=\"160.08,-40.08 167.82,-32.84 157.25,-33.68 160.08,-40.08\"/>\n",
       "<text text-anchor=\"middle\" x=\"144.5\" y=\"-43.98\" font-family=\"Times,serif\" font-size=\"14.00\" fill=\"#cccccc\">a</text>\n",
       "</g>\n",
       "<!-- 2&#45;&gt;1 -->\n",
       "<g id=\"edge5\" class=\"edge\">\n",
       "<title>2&#45;&gt;1</title>\n",
       "<path fill=\"none\" stroke=\"#cccccc\" d=\"M165.93,-22.42C160.23,-21.92 153.85,-21.43 148,-21.18 143.28,-20.98 138.3,-21.03 133.42,-21.23\"/>\n",
       "<polygon fill=\"#cccccc\" stroke=\"#cccccc\" points=\"132.83,-17.76 123.06,-21.85 133.25,-24.74 132.83,-17.76\"/>\n",
       "<text text-anchor=\"middle\" x=\"144.5\" y=\"-24.98\" font-family=\"Times,serif\" font-size=\"14.00\" fill=\"#cccccc\">a</text>\n",
       "</g>\n",
       "<!-- 2&#45;&gt;1 -->\n",
       "<g id=\"edge6\" class=\"edge\">\n",
       "<title>2&#45;&gt;1</title>\n",
       "<path fill=\"none\" stroke=\"#cccccc\" d=\"M169.64,-12.75C163.48,-8.21 155.8,-3.51 148,-1.18 140.71,1 133.17,-0.82 126.36,-4.22\"/>\n",
       "<polygon fill=\"#cccccc\" stroke=\"#cccccc\" points=\"124.29,-1.38 117.62,-9.61 127.97,-7.34 124.29,-1.38\"/>\n",
       "<text text-anchor=\"middle\" x=\"144.5\" y=\"-4.98\" font-family=\"Times,serif\" font-size=\"14.00\" fill=\"#cccccc\">b</text>\n",
       "</g>\n",
       "</g>\n",
       "</svg>\n"
      ],
      "text/plain": [
       "<IPython.core.display.HTML object>"
      ]
     },
     "metadata": {},
     "output_type": "display_data"
    },
    {
     "data": {
      "text/html": [
       "<b>initialize</b>"
      ],
      "text/plain": [
       "<IPython.core.display.HTML object>"
      ]
     },
     "metadata": {},
     "output_type": "display_data"
    },
    {
     "data": {
      "text/html": [
       "\n",
       "        <table>\n",
       "            <tr><th></th><td>&#x3b5;</td></tr>\n",
       "            <tr><th><font color='red'>&#x3b5;</font></th><td>False</td></tr><tr><th>'a'</th><td>False</td></tr><tr><th>'b'</th><td>True</td></tr>\n",
       "        </table>\n",
       "        "
      ],
      "text/plain": [
       "<IPython.core.display.HTML object>"
      ]
     },
     "metadata": {},
     "output_type": "display_data"
    },
    {
     "data": {
      "text/html": [
       "<b>iteration 1</b>"
      ],
      "text/plain": [
       "<IPython.core.display.HTML object>"
      ]
     },
     "metadata": {},
     "output_type": "display_data"
    },
    {
     "data": {
      "text/html": [
       "\n",
       "        <table>\n",
       "            <tr><th></th><td>&#x3b5;</td></tr>\n",
       "            <tr><th><font color='red'>&#x3b5;</font></th><td>False</td></tr><tr><th>'a'</th><td>False</td></tr><tr><th>'b'</th><td>True</td></tr>\n",
       "        </table>\n",
       "        "
      ],
      "text/plain": [
       "<IPython.core.display.HTML object>"
      ]
     },
     "metadata": {},
     "output_type": "display_data"
    },
    {
     "data": {
      "text/html": [
       "Observation table is not closed: (s1, a) = ('', 'b'), adding s1 + a = b to S"
      ],
      "text/plain": [
       "<IPython.core.display.HTML object>"
      ]
     },
     "metadata": {},
     "output_type": "display_data"
    },
    {
     "data": {
      "text/html": [
       "Observation table is closed and consistent"
      ],
      "text/plain": [
       "<IPython.core.display.HTML object>"
      ]
     },
     "metadata": {},
     "output_type": "display_data"
    },
    {
     "data": {
      "text/html": [
       "\n",
       "                    <table>\n",
       "                        <tr>\n",
       "                            <th>Teacher</th>\n",
       "                            <th>Observation table</th>\n",
       "                        </tr>\n",
       "                        <tr>\n",
       "                            <td><?xml version=\"1.0\" encoding=\"UTF-8\" standalone=\"no\"?>\n",
       "<!DOCTYPE svg PUBLIC \"-//W3C//DTD SVG 1.1//EN\"\n",
       " \"http://www.w3.org/Graphics/SVG/1.1/DTD/svg11.dtd\">\n",
       "<!-- Generated by graphviz version 2.43.0 (0)\n",
       " -->\n",
       "<!-- Title: G Pages: 1 -->\n",
       "<svg width=\"210pt\" height=\"87pt\"\n",
       " viewBox=\"0.00 0.00 210.00 87.18\" xmlns=\"http://www.w3.org/2000/svg\" xmlns:xlink=\"http://www.w3.org/1999/xlink\">\n",
       "<g id=\"graph0\" class=\"graph\" transform=\"scale(1 1) rotate(0) translate(4 83.18)\">\n",
       "<title>G</title>\n",
       "<polygon fill=\"#272727\" stroke=\"transparent\" points=\"-4,4 -4,-83.18 206,-83.18 206,4 -4,4\"/>\n",
       "<!-- 0 -->\n",
       "<g id=\"node1\" class=\"node\">\n",
       "<title>0</title>\n",
       "<ellipse fill=\"none\" stroke=\"#cccccc\" cx=\"18\" cy=\"-24.18\" rx=\"18\" ry=\"18\"/>\n",
       "<text text-anchor=\"middle\" x=\"18\" y=\"-20.48\" font-family=\"Times,serif\" font-size=\"14.00\" fill=\"#cccccc\">0</text>\n",
       "</g>\n",
       "<!-- 0&#45;&gt;0 -->\n",
       "<g id=\"edge1\" class=\"edge\">\n",
       "<title>0&#45;&gt;0</title>\n",
       "<path fill=\"none\" stroke=\"#cccccc\" d=\"M11.27,-41.22C9.89,-51.04 12.14,-60.18 18,-60.18 21.66,-60.18 23.92,-56.61 24.75,-51.53\"/>\n",
       "<polygon fill=\"#cccccc\" stroke=\"#cccccc\" points=\"28.25,-51.21 24.73,-41.22 21.25,-51.22 28.25,-51.21\"/>\n",
       "<text text-anchor=\"middle\" x=\"18\" y=\"-63.98\" font-family=\"Times,serif\" font-size=\"14.00\" fill=\"#cccccc\">a</text>\n",
       "</g>\n",
       "<!-- 1 -->\n",
       "<g id=\"node2\" class=\"node\">\n",
       "<title>1</title>\n",
       "<ellipse fill=\"none\" stroke=\"#cccccc\" cx=\"101\" cy=\"-24.18\" rx=\"18\" ry=\"18\"/>\n",
       "<ellipse fill=\"none\" stroke=\"#cccccc\" cx=\"101\" cy=\"-24.18\" rx=\"22\" ry=\"22\"/>\n",
       "<text text-anchor=\"middle\" x=\"101\" y=\"-20.48\" font-family=\"Times,serif\" font-size=\"14.00\" fill=\"#cccccc\">1</text>\n",
       "</g>\n",
       "<!-- 0&#45;&gt;1 -->\n",
       "<g id=\"edge2\" class=\"edge\">\n",
       "<title>0&#45;&gt;1</title>\n",
       "<path fill=\"none\" stroke=\"#cccccc\" d=\"M36.18,-24.18C45.61,-24.18 57.6,-24.18 68.64,-24.18\"/>\n",
       "<polygon fill=\"#cccccc\" stroke=\"#cccccc\" points=\"68.81,-27.68 78.81,-24.18 68.81,-20.68 68.81,-27.68\"/>\n",
       "<text text-anchor=\"middle\" x=\"57.5\" y=\"-27.98\" font-family=\"Times,serif\" font-size=\"14.00\" fill=\"#cccccc\">b</text>\n",
       "</g>\n",
       "<!-- 1&#45;&gt;1 -->\n",
       "<g id=\"edge4\" class=\"edge\">\n",
       "<title>1&#45;&gt;1</title>\n",
       "<path fill=\"none\" stroke=\"#cccccc\" d=\"M93.32,-45.17C92.37,-55.27 94.93,-64.18 101,-64.18 104.89,-64.18 107.34,-60.52 108.35,-55.24\"/>\n",
       "<polygon fill=\"#cccccc\" stroke=\"#cccccc\" points=\"111.85,-55.28 108.68,-45.17 104.85,-55.05 111.85,-55.28\"/>\n",
       "<text text-anchor=\"middle\" x=\"101\" y=\"-67.98\" font-family=\"Times,serif\" font-size=\"14.00\" fill=\"#cccccc\">b</text>\n",
       "</g>\n",
       "<!-- 2 -->\n",
       "<g id=\"node3\" class=\"node\">\n",
       "<title>2</title>\n",
       "<ellipse fill=\"none\" stroke=\"#cccccc\" cx=\"184\" cy=\"-24.18\" rx=\"18\" ry=\"18\"/>\n",
       "<text text-anchor=\"middle\" x=\"184\" y=\"-20.48\" font-family=\"Times,serif\" font-size=\"14.00\" fill=\"#cccccc\">2</text>\n",
       "</g>\n",
       "<!-- 1&#45;&gt;2 -->\n",
       "<g id=\"edge3\" class=\"edge\">\n",
       "<title>1&#45;&gt;2</title>\n",
       "<path fill=\"none\" stroke=\"#cccccc\" d=\"M120.06,-35.38C128.43,-39.28 138.58,-42.23 148,-40.18 151.5,-39.42 155.07,-38.27 158.53,-36.94\"/>\n",
       "<polygon fill=\"#cccccc\" stroke=\"#cccccc\" points=\"160.08,-40.08 167.82,-32.84 157.25,-33.68 160.08,-40.08\"/>\n",
       "<text text-anchor=\"middle\" x=\"144.5\" y=\"-43.98\" font-family=\"Times,serif\" font-size=\"14.00\" fill=\"#cccccc\">a</text>\n",
       "</g>\n",
       "<!-- 2&#45;&gt;1 -->\n",
       "<g id=\"edge5\" class=\"edge\">\n",
       "<title>2&#45;&gt;1</title>\n",
       "<path fill=\"none\" stroke=\"#cccccc\" d=\"M165.93,-22.42C160.23,-21.92 153.85,-21.43 148,-21.18 143.28,-20.98 138.3,-21.03 133.42,-21.23\"/>\n",
       "<polygon fill=\"#cccccc\" stroke=\"#cccccc\" points=\"132.83,-17.76 123.06,-21.85 133.25,-24.74 132.83,-17.76\"/>\n",
       "<text text-anchor=\"middle\" x=\"144.5\" y=\"-24.98\" font-family=\"Times,serif\" font-size=\"14.00\" fill=\"#cccccc\">a</text>\n",
       "</g>\n",
       "<!-- 2&#45;&gt;1 -->\n",
       "<g id=\"edge6\" class=\"edge\">\n",
       "<title>2&#45;&gt;1</title>\n",
       "<path fill=\"none\" stroke=\"#cccccc\" d=\"M169.64,-12.75C163.48,-8.21 155.8,-3.51 148,-1.18 140.71,1 133.17,-0.82 126.36,-4.22\"/>\n",
       "<polygon fill=\"#cccccc\" stroke=\"#cccccc\" points=\"124.29,-1.38 117.62,-9.61 127.97,-7.34 124.29,-1.38\"/>\n",
       "<text text-anchor=\"middle\" x=\"144.5\" y=\"-4.98\" font-family=\"Times,serif\" font-size=\"14.00\" fill=\"#cccccc\">b</text>\n",
       "</g>\n",
       "</g>\n",
       "</svg>\n",
       "</td>\n",
       "                            <td>\n",
       "        <table>\n",
       "            <tr><th></th><td>&#x3b5;</td></tr>\n",
       "            <tr><th><font color='red'>&#x3b5;</font></th><td>False</td></tr><tr><th>'a'</th><td>False</td></tr><tr><th><font color='red'>'b'</font></th><td>True</td></tr><tr><th>'ba'</th><td>False</td></tr><tr><th>'bb'</th><td>True</td></tr>\n",
       "        </table>\n",
       "        </td>\n",
       "                        </tr>\n",
       "                    </table>\n",
       "                    "
      ],
      "text/plain": [
       "<IPython.core.display.HTML object>"
      ]
     },
     "metadata": {},
     "output_type": "display_data"
    },
    {
     "data": {
      "text/html": [
       "<?xml version=\"1.0\" encoding=\"UTF-8\" standalone=\"no\"?>\n",
       "<!DOCTYPE svg PUBLIC \"-//W3C//DTD SVG 1.1//EN\"\n",
       " \"http://www.w3.org/Graphics/SVG/1.1/DTD/svg11.dtd\">\n",
       "<!-- Generated by graphviz version 2.43.0 (0)\n",
       " -->\n",
       "<!-- Title: G Pages: 1 -->\n",
       "<svg width=\"131pt\" height=\"85pt\"\n",
       " viewBox=\"0.00 0.00 131.00 85.00\" xmlns=\"http://www.w3.org/2000/svg\" xmlns:xlink=\"http://www.w3.org/1999/xlink\">\n",
       "<g id=\"graph0\" class=\"graph\" transform=\"scale(1 1) rotate(0) translate(4 81)\">\n",
       "<title>G</title>\n",
       "<polygon fill=\"#272727\" stroke=\"transparent\" points=\"-4,4 -4,-81 127,-81 127,4 -4,4\"/>\n",
       "<!-- 0 -->\n",
       "<g id=\"node1\" class=\"node\">\n",
       "<title>0</title>\n",
       "<ellipse fill=\"none\" stroke=\"#cccccc\" cx=\"18\" cy=\"-22\" rx=\"18\" ry=\"18\"/>\n",
       "<text text-anchor=\"middle\" x=\"18\" y=\"-18.3\" font-family=\"Times,serif\" font-size=\"14.00\" fill=\"#cccccc\">0</text>\n",
       "</g>\n",
       "<!-- 0&#45;&gt;0 -->\n",
       "<g id=\"edge1\" class=\"edge\">\n",
       "<title>0&#45;&gt;0</title>\n",
       "<path fill=\"none\" stroke=\"#cccccc\" d=\"M11.27,-39.04C9.89,-48.86 12.14,-58 18,-58 21.66,-58 23.92,-54.43 24.75,-49.35\"/>\n",
       "<polygon fill=\"#cccccc\" stroke=\"#cccccc\" points=\"28.25,-49.03 24.73,-39.04 21.25,-49.04 28.25,-49.03\"/>\n",
       "<text text-anchor=\"middle\" x=\"18\" y=\"-61.8\" font-family=\"Times,serif\" font-size=\"14.00\" fill=\"#cccccc\">a</text>\n",
       "</g>\n",
       "<!-- 1 -->\n",
       "<g id=\"node2\" class=\"node\">\n",
       "<title>1</title>\n",
       "<ellipse fill=\"none\" stroke=\"#cccccc\" cx=\"101\" cy=\"-22\" rx=\"18\" ry=\"18\"/>\n",
       "<ellipse fill=\"none\" stroke=\"#cccccc\" cx=\"101\" cy=\"-22\" rx=\"22\" ry=\"22\"/>\n",
       "<text text-anchor=\"middle\" x=\"101\" y=\"-18.3\" font-family=\"Times,serif\" font-size=\"14.00\" fill=\"#cccccc\">1</text>\n",
       "</g>\n",
       "<!-- 0&#45;&gt;1 -->\n",
       "<g id=\"edge2\" class=\"edge\">\n",
       "<title>0&#45;&gt;1</title>\n",
       "<path fill=\"none\" stroke=\"#cccccc\" d=\"M36.18,-22C45.61,-22 57.6,-22 68.64,-22\"/>\n",
       "<polygon fill=\"#cccccc\" stroke=\"#cccccc\" points=\"68.81,-25.5 78.81,-22 68.81,-18.5 68.81,-25.5\"/>\n",
       "<text text-anchor=\"middle\" x=\"57.5\" y=\"-25.8\" font-family=\"Times,serif\" font-size=\"14.00\" fill=\"#cccccc\">b</text>\n",
       "</g>\n",
       "<!-- 1&#45;&gt;0 -->\n",
       "<g id=\"edge3\" class=\"edge\">\n",
       "<title>1&#45;&gt;0</title>\n",
       "<path fill=\"none\" stroke=\"#cccccc\" d=\"M82.93,-9.2C74.43,-4.33 63.88,-0.49 54,-3 50.04,-4.01 46.05,-5.56 42.24,-7.35\"/>\n",
       "<polygon fill=\"#cccccc\" stroke=\"#cccccc\" points=\"40.48,-4.33 33.31,-12.13 43.78,-10.5 40.48,-4.33\"/>\n",
       "<text text-anchor=\"middle\" x=\"57.5\" y=\"-6.8\" font-family=\"Times,serif\" font-size=\"14.00\" fill=\"#cccccc\">a</text>\n",
       "</g>\n",
       "<!-- 1&#45;&gt;1 -->\n",
       "<g id=\"edge4\" class=\"edge\">\n",
       "<title>1&#45;&gt;1</title>\n",
       "<path fill=\"none\" stroke=\"#cccccc\" d=\"M93.32,-42.99C92.37,-53.09 94.93,-62 101,-62 104.89,-62 107.34,-58.34 108.35,-53.06\"/>\n",
       "<polygon fill=\"#cccccc\" stroke=\"#cccccc\" points=\"111.85,-53.1 108.68,-42.99 104.85,-52.87 111.85,-53.1\"/>\n",
       "<text text-anchor=\"middle\" x=\"101\" y=\"-65.8\" font-family=\"Times,serif\" font-size=\"14.00\" fill=\"#cccccc\">b</text>\n",
       "</g>\n",
       "</g>\n",
       "</svg>\n"
      ],
      "text/plain": [
       "<IPython.core.display.HTML object>"
      ]
     },
     "metadata": {},
     "output_type": "display_data"
    },
    {
     "data": {
      "text/html": [
       "Final states: {1}"
      ],
      "text/plain": [
       "<IPython.core.display.HTML object>"
      ]
     },
     "metadata": {},
     "output_type": "display_data"
    },
    {
     "data": {
      "text/html": [
       "The teacher disagreed: t = 'baa'"
      ],
      "text/plain": [
       "<IPython.core.display.HTML object>"
      ]
     },
     "metadata": {},
     "output_type": "display_data"
    },
    {
     "data": {
      "text/html": [
       "The following prefixes have been added to S: {'baa', 'b', 'ba'}"
      ],
      "text/plain": [
       "<IPython.core.display.HTML object>"
      ]
     },
     "metadata": {},
     "output_type": "display_data"
    },
    {
     "data": {
      "text/html": [
       "S is now equal to {'', 'baa', 'b', 'ba'}"
      ],
      "text/plain": [
       "<IPython.core.display.HTML object>"
      ]
     },
     "metadata": {},
     "output_type": "display_data"
    },
    {
     "data": {
      "text/html": [
       "\n",
       "        <table>\n",
       "            <tr><th></th><td>&#x3b5;</td></tr>\n",
       "            <tr><th><font color='red'>&#x3b5;</font></th><td>False</td></tr><tr><th>'a'</th><td>False</td></tr><tr><th><font color='red'>'b'</font></th><td>True</td></tr><tr><th><font color='red'>'ba'</font></th><td>False</td></tr><tr><th>'bb'</th><td>True</td></tr><tr><th><font color='red'>'baa'</font></th><td>True</td></tr><tr><th>'bab'</th><td>True</td></tr><tr><th>'baab'</th><td>True</td></tr><tr><th>'baaa'</th><td>False</td></tr>\n",
       "        </table>\n",
       "        "
      ],
      "text/plain": [
       "<IPython.core.display.HTML object>"
      ]
     },
     "metadata": {},
     "output_type": "display_data"
    },
    {
     "data": {
      "text/html": [
       "<b>iteration 3</b>"
      ],
      "text/plain": [
       "<IPython.core.display.HTML object>"
      ]
     },
     "metadata": {},
     "output_type": "display_data"
    },
    {
     "data": {
      "text/html": [
       "\n",
       "        <table>\n",
       "            <tr><th></th><td>&#x3b5;</td></tr>\n",
       "            <tr><th><font color='red'>&#x3b5;</font></th><td>False</td></tr><tr><th>'a'</th><td>False</td></tr><tr><th><font color='red'>'b'</font></th><td>True</td></tr><tr><th><font color='red'>'ba'</font></th><td>False</td></tr><tr><th>'bb'</th><td>True</td></tr><tr><th><font color='red'>'baa'</font></th><td>True</td></tr><tr><th>'bab'</th><td>True</td></tr><tr><th>'baab'</th><td>True</td></tr><tr><th>'baaa'</th><td>False</td></tr>\n",
       "        </table>\n",
       "        "
      ],
      "text/plain": [
       "<IPython.core.display.HTML object>"
      ]
     },
     "metadata": {},
     "output_type": "display_data"
    },
    {
     "data": {
      "text/html": [
       "Observation table is not consistent: (s1, s2, a, e) = ('', 'ba', 'a', ''), adding a to E"
      ],
      "text/plain": [
       "<IPython.core.display.HTML object>"
      ]
     },
     "metadata": {},
     "output_type": "display_data"
    },
    {
     "data": {
      "text/html": [
       "Observation table is closed and consistent"
      ],
      "text/plain": [
       "<IPython.core.display.HTML object>"
      ]
     },
     "metadata": {},
     "output_type": "display_data"
    },
    {
     "data": {
      "text/html": [
       "\n",
       "                    <table>\n",
       "                        <tr>\n",
       "                            <th>Teacher</th>\n",
       "                            <th>Observation table</th>\n",
       "                        </tr>\n",
       "                        <tr>\n",
       "                            <td><?xml version=\"1.0\" encoding=\"UTF-8\" standalone=\"no\"?>\n",
       "<!DOCTYPE svg PUBLIC \"-//W3C//DTD SVG 1.1//EN\"\n",
       " \"http://www.w3.org/Graphics/SVG/1.1/DTD/svg11.dtd\">\n",
       "<!-- Generated by graphviz version 2.43.0 (0)\n",
       " -->\n",
       "<!-- Title: G Pages: 1 -->\n",
       "<svg width=\"210pt\" height=\"87pt\"\n",
       " viewBox=\"0.00 0.00 210.00 87.18\" xmlns=\"http://www.w3.org/2000/svg\" xmlns:xlink=\"http://www.w3.org/1999/xlink\">\n",
       "<g id=\"graph0\" class=\"graph\" transform=\"scale(1 1) rotate(0) translate(4 83.18)\">\n",
       "<title>G</title>\n",
       "<polygon fill=\"#272727\" stroke=\"transparent\" points=\"-4,4 -4,-83.18 206,-83.18 206,4 -4,4\"/>\n",
       "<!-- 0 -->\n",
       "<g id=\"node1\" class=\"node\">\n",
       "<title>0</title>\n",
       "<ellipse fill=\"none\" stroke=\"#cccccc\" cx=\"18\" cy=\"-24.18\" rx=\"18\" ry=\"18\"/>\n",
       "<text text-anchor=\"middle\" x=\"18\" y=\"-20.48\" font-family=\"Times,serif\" font-size=\"14.00\" fill=\"#cccccc\">0</text>\n",
       "</g>\n",
       "<!-- 0&#45;&gt;0 -->\n",
       "<g id=\"edge1\" class=\"edge\">\n",
       "<title>0&#45;&gt;0</title>\n",
       "<path fill=\"none\" stroke=\"#cccccc\" d=\"M11.27,-41.22C9.89,-51.04 12.14,-60.18 18,-60.18 21.66,-60.18 23.92,-56.61 24.75,-51.53\"/>\n",
       "<polygon fill=\"#cccccc\" stroke=\"#cccccc\" points=\"28.25,-51.21 24.73,-41.22 21.25,-51.22 28.25,-51.21\"/>\n",
       "<text text-anchor=\"middle\" x=\"18\" y=\"-63.98\" font-family=\"Times,serif\" font-size=\"14.00\" fill=\"#cccccc\">a</text>\n",
       "</g>\n",
       "<!-- 1 -->\n",
       "<g id=\"node2\" class=\"node\">\n",
       "<title>1</title>\n",
       "<ellipse fill=\"none\" stroke=\"#cccccc\" cx=\"101\" cy=\"-24.18\" rx=\"18\" ry=\"18\"/>\n",
       "<ellipse fill=\"none\" stroke=\"#cccccc\" cx=\"101\" cy=\"-24.18\" rx=\"22\" ry=\"22\"/>\n",
       "<text text-anchor=\"middle\" x=\"101\" y=\"-20.48\" font-family=\"Times,serif\" font-size=\"14.00\" fill=\"#cccccc\">1</text>\n",
       "</g>\n",
       "<!-- 0&#45;&gt;1 -->\n",
       "<g id=\"edge2\" class=\"edge\">\n",
       "<title>0&#45;&gt;1</title>\n",
       "<path fill=\"none\" stroke=\"#cccccc\" d=\"M36.18,-24.18C45.61,-24.18 57.6,-24.18 68.64,-24.18\"/>\n",
       "<polygon fill=\"#cccccc\" stroke=\"#cccccc\" points=\"68.81,-27.68 78.81,-24.18 68.81,-20.68 68.81,-27.68\"/>\n",
       "<text text-anchor=\"middle\" x=\"57.5\" y=\"-27.98\" font-family=\"Times,serif\" font-size=\"14.00\" fill=\"#cccccc\">b</text>\n",
       "</g>\n",
       "<!-- 1&#45;&gt;1 -->\n",
       "<g id=\"edge4\" class=\"edge\">\n",
       "<title>1&#45;&gt;1</title>\n",
       "<path fill=\"none\" stroke=\"#cccccc\" d=\"M93.32,-45.17C92.37,-55.27 94.93,-64.18 101,-64.18 104.89,-64.18 107.34,-60.52 108.35,-55.24\"/>\n",
       "<polygon fill=\"#cccccc\" stroke=\"#cccccc\" points=\"111.85,-55.28 108.68,-45.17 104.85,-55.05 111.85,-55.28\"/>\n",
       "<text text-anchor=\"middle\" x=\"101\" y=\"-67.98\" font-family=\"Times,serif\" font-size=\"14.00\" fill=\"#cccccc\">b</text>\n",
       "</g>\n",
       "<!-- 2 -->\n",
       "<g id=\"node3\" class=\"node\">\n",
       "<title>2</title>\n",
       "<ellipse fill=\"none\" stroke=\"#cccccc\" cx=\"184\" cy=\"-24.18\" rx=\"18\" ry=\"18\"/>\n",
       "<text text-anchor=\"middle\" x=\"184\" y=\"-20.48\" font-family=\"Times,serif\" font-size=\"14.00\" fill=\"#cccccc\">2</text>\n",
       "</g>\n",
       "<!-- 1&#45;&gt;2 -->\n",
       "<g id=\"edge3\" class=\"edge\">\n",
       "<title>1&#45;&gt;2</title>\n",
       "<path fill=\"none\" stroke=\"#cccccc\" d=\"M120.06,-35.38C128.43,-39.28 138.58,-42.23 148,-40.18 151.5,-39.42 155.07,-38.27 158.53,-36.94\"/>\n",
       "<polygon fill=\"#cccccc\" stroke=\"#cccccc\" points=\"160.08,-40.08 167.82,-32.84 157.25,-33.68 160.08,-40.08\"/>\n",
       "<text text-anchor=\"middle\" x=\"144.5\" y=\"-43.98\" font-family=\"Times,serif\" font-size=\"14.00\" fill=\"#cccccc\">a</text>\n",
       "</g>\n",
       "<!-- 2&#45;&gt;1 -->\n",
       "<g id=\"edge5\" class=\"edge\">\n",
       "<title>2&#45;&gt;1</title>\n",
       "<path fill=\"none\" stroke=\"#cccccc\" d=\"M165.93,-22.42C160.23,-21.92 153.85,-21.43 148,-21.18 143.28,-20.98 138.3,-21.03 133.42,-21.23\"/>\n",
       "<polygon fill=\"#cccccc\" stroke=\"#cccccc\" points=\"132.83,-17.76 123.06,-21.85 133.25,-24.74 132.83,-17.76\"/>\n",
       "<text text-anchor=\"middle\" x=\"144.5\" y=\"-24.98\" font-family=\"Times,serif\" font-size=\"14.00\" fill=\"#cccccc\">a</text>\n",
       "</g>\n",
       "<!-- 2&#45;&gt;1 -->\n",
       "<g id=\"edge6\" class=\"edge\">\n",
       "<title>2&#45;&gt;1</title>\n",
       "<path fill=\"none\" stroke=\"#cccccc\" d=\"M169.64,-12.75C163.48,-8.21 155.8,-3.51 148,-1.18 140.71,1 133.17,-0.82 126.36,-4.22\"/>\n",
       "<polygon fill=\"#cccccc\" stroke=\"#cccccc\" points=\"124.29,-1.38 117.62,-9.61 127.97,-7.34 124.29,-1.38\"/>\n",
       "<text text-anchor=\"middle\" x=\"144.5\" y=\"-4.98\" font-family=\"Times,serif\" font-size=\"14.00\" fill=\"#cccccc\">b</text>\n",
       "</g>\n",
       "</g>\n",
       "</svg>\n",
       "</td>\n",
       "                            <td>\n",
       "        <table>\n",
       "            <tr><th></th><td>&#x3b5;</td><td>'a'</td></tr>\n",
       "            <tr><th><font color='red'>&#x3b5;</font></th><td>False</td><td>False</td></tr><tr><th>'a'</th><td>False</td><td>False</td></tr><tr><th><font color='red'>'b'</font></th><td>True</td><td>False</td></tr><tr><th><font color='red'>'ba'</font></th><td>False</td><td>True</td></tr><tr><th>'bb'</th><td>True</td><td>False</td></tr><tr><th><font color='red'>'baa'</font></th><td>True</td><td>False</td></tr><tr><th>'bab'</th><td>True</td><td>False</td></tr><tr><th>'baab'</th><td>True</td><td>False</td></tr><tr><th>'baaa'</th><td>False</td><td>True</td></tr>\n",
       "        </table>\n",
       "        </td>\n",
       "                        </tr>\n",
       "                    </table>\n",
       "                    "
      ],
      "text/plain": [
       "<IPython.core.display.HTML object>"
      ]
     },
     "metadata": {},
     "output_type": "display_data"
    },
    {
     "data": {
      "text/html": [
       "<?xml version=\"1.0\" encoding=\"UTF-8\" standalone=\"no\"?>\n",
       "<!DOCTYPE svg PUBLIC \"-//W3C//DTD SVG 1.1//EN\"\n",
       " \"http://www.w3.org/Graphics/SVG/1.1/DTD/svg11.dtd\">\n",
       "<!-- Generated by graphviz version 2.43.0 (0)\n",
       " -->\n",
       "<!-- Title: G Pages: 1 -->\n",
       "<svg width=\"210pt\" height=\"87pt\"\n",
       " viewBox=\"0.00 0.00 210.00 87.18\" xmlns=\"http://www.w3.org/2000/svg\" xmlns:xlink=\"http://www.w3.org/1999/xlink\">\n",
       "<g id=\"graph0\" class=\"graph\" transform=\"scale(1 1) rotate(0) translate(4 83.18)\">\n",
       "<title>G</title>\n",
       "<polygon fill=\"#272727\" stroke=\"transparent\" points=\"-4,4 -4,-83.18 206,-83.18 206,4 -4,4\"/>\n",
       "<!-- 0 -->\n",
       "<g id=\"node1\" class=\"node\">\n",
       "<title>0</title>\n",
       "<ellipse fill=\"none\" stroke=\"#cccccc\" cx=\"18\" cy=\"-24.18\" rx=\"18\" ry=\"18\"/>\n",
       "<text text-anchor=\"middle\" x=\"18\" y=\"-20.48\" font-family=\"Times,serif\" font-size=\"14.00\" fill=\"#cccccc\">0</text>\n",
       "</g>\n",
       "<!-- 0&#45;&gt;0 -->\n",
       "<g id=\"edge1\" class=\"edge\">\n",
       "<title>0&#45;&gt;0</title>\n",
       "<path fill=\"none\" stroke=\"#cccccc\" d=\"M11.27,-41.22C9.89,-51.04 12.14,-60.18 18,-60.18 21.66,-60.18 23.92,-56.61 24.75,-51.53\"/>\n",
       "<polygon fill=\"#cccccc\" stroke=\"#cccccc\" points=\"28.25,-51.21 24.73,-41.22 21.25,-51.22 28.25,-51.21\"/>\n",
       "<text text-anchor=\"middle\" x=\"18\" y=\"-63.98\" font-family=\"Times,serif\" font-size=\"14.00\" fill=\"#cccccc\">a</text>\n",
       "</g>\n",
       "<!-- 1 -->\n",
       "<g id=\"node2\" class=\"node\">\n",
       "<title>1</title>\n",
       "<ellipse fill=\"none\" stroke=\"#cccccc\" cx=\"101\" cy=\"-24.18\" rx=\"18\" ry=\"18\"/>\n",
       "<ellipse fill=\"none\" stroke=\"#cccccc\" cx=\"101\" cy=\"-24.18\" rx=\"22\" ry=\"22\"/>\n",
       "<text text-anchor=\"middle\" x=\"101\" y=\"-20.48\" font-family=\"Times,serif\" font-size=\"14.00\" fill=\"#cccccc\">1</text>\n",
       "</g>\n",
       "<!-- 0&#45;&gt;1 -->\n",
       "<g id=\"edge2\" class=\"edge\">\n",
       "<title>0&#45;&gt;1</title>\n",
       "<path fill=\"none\" stroke=\"#cccccc\" d=\"M36.18,-24.18C45.61,-24.18 57.6,-24.18 68.64,-24.18\"/>\n",
       "<polygon fill=\"#cccccc\" stroke=\"#cccccc\" points=\"68.81,-27.68 78.81,-24.18 68.81,-20.68 68.81,-27.68\"/>\n",
       "<text text-anchor=\"middle\" x=\"57.5\" y=\"-27.98\" font-family=\"Times,serif\" font-size=\"14.00\" fill=\"#cccccc\">b</text>\n",
       "</g>\n",
       "<!-- 1&#45;&gt;1 -->\n",
       "<g id=\"edge4\" class=\"edge\">\n",
       "<title>1&#45;&gt;1</title>\n",
       "<path fill=\"none\" stroke=\"#cccccc\" d=\"M93.32,-45.17C92.37,-55.27 94.93,-64.18 101,-64.18 104.89,-64.18 107.34,-60.52 108.35,-55.24\"/>\n",
       "<polygon fill=\"#cccccc\" stroke=\"#cccccc\" points=\"111.85,-55.28 108.68,-45.17 104.85,-55.05 111.85,-55.28\"/>\n",
       "<text text-anchor=\"middle\" x=\"101\" y=\"-67.98\" font-family=\"Times,serif\" font-size=\"14.00\" fill=\"#cccccc\">b</text>\n",
       "</g>\n",
       "<!-- 2 -->\n",
       "<g id=\"node3\" class=\"node\">\n",
       "<title>2</title>\n",
       "<ellipse fill=\"none\" stroke=\"#cccccc\" cx=\"184\" cy=\"-24.18\" rx=\"18\" ry=\"18\"/>\n",
       "<text text-anchor=\"middle\" x=\"184\" y=\"-20.48\" font-family=\"Times,serif\" font-size=\"14.00\" fill=\"#cccccc\">2</text>\n",
       "</g>\n",
       "<!-- 1&#45;&gt;2 -->\n",
       "<g id=\"edge3\" class=\"edge\">\n",
       "<title>1&#45;&gt;2</title>\n",
       "<path fill=\"none\" stroke=\"#cccccc\" d=\"M120.06,-35.38C128.43,-39.28 138.58,-42.23 148,-40.18 151.5,-39.42 155.07,-38.27 158.53,-36.94\"/>\n",
       "<polygon fill=\"#cccccc\" stroke=\"#cccccc\" points=\"160.08,-40.08 167.82,-32.84 157.25,-33.68 160.08,-40.08\"/>\n",
       "<text text-anchor=\"middle\" x=\"144.5\" y=\"-43.98\" font-family=\"Times,serif\" font-size=\"14.00\" fill=\"#cccccc\">a</text>\n",
       "</g>\n",
       "<!-- 2&#45;&gt;1 -->\n",
       "<g id=\"edge5\" class=\"edge\">\n",
       "<title>2&#45;&gt;1</title>\n",
       "<path fill=\"none\" stroke=\"#cccccc\" d=\"M165.93,-22.42C160.23,-21.92 153.85,-21.43 148,-21.18 143.28,-20.98 138.3,-21.03 133.42,-21.23\"/>\n",
       "<polygon fill=\"#cccccc\" stroke=\"#cccccc\" points=\"132.83,-17.76 123.06,-21.85 133.25,-24.74 132.83,-17.76\"/>\n",
       "<text text-anchor=\"middle\" x=\"144.5\" y=\"-24.98\" font-family=\"Times,serif\" font-size=\"14.00\" fill=\"#cccccc\">a</text>\n",
       "</g>\n",
       "<!-- 2&#45;&gt;1 -->\n",
       "<g id=\"edge6\" class=\"edge\">\n",
       "<title>2&#45;&gt;1</title>\n",
       "<path fill=\"none\" stroke=\"#cccccc\" d=\"M169.64,-12.75C163.48,-8.21 155.8,-3.51 148,-1.18 140.71,1 133.17,-0.82 126.36,-4.22\"/>\n",
       "<polygon fill=\"#cccccc\" stroke=\"#cccccc\" points=\"124.29,-1.38 117.62,-9.61 127.97,-7.34 124.29,-1.38\"/>\n",
       "<text text-anchor=\"middle\" x=\"144.5\" y=\"-4.98\" font-family=\"Times,serif\" font-size=\"14.00\" fill=\"#cccccc\">b</text>\n",
       "</g>\n",
       "</g>\n",
       "</svg>\n"
      ],
      "text/plain": [
       "<IPython.core.display.HTML object>"
      ]
     },
     "metadata": {},
     "output_type": "display_data"
    },
    {
     "data": {
      "text/html": [
       "Final states: {1}"
      ],
      "text/plain": [
       "<IPython.core.display.HTML object>"
      ]
     },
     "metadata": {},
     "output_type": "display_data"
    },
    {
     "data": {
      "text/html": [
       "<b>Learner</b>"
      ],
      "text/plain": [
       "<IPython.core.display.HTML object>"
      ]
     },
     "metadata": {},
     "output_type": "display_data"
    },
    {
     "data": {
      "text/html": [
       "<?xml version=\"1.0\" encoding=\"UTF-8\" standalone=\"no\"?>\n",
       "<!DOCTYPE svg PUBLIC \"-//W3C//DTD SVG 1.1//EN\"\n",
       " \"http://www.w3.org/Graphics/SVG/1.1/DTD/svg11.dtd\">\n",
       "<!-- Generated by graphviz version 2.43.0 (0)\n",
       " -->\n",
       "<!-- Title: G Pages: 1 -->\n",
       "<svg width=\"210pt\" height=\"87pt\"\n",
       " viewBox=\"0.00 0.00 210.00 87.18\" xmlns=\"http://www.w3.org/2000/svg\" xmlns:xlink=\"http://www.w3.org/1999/xlink\">\n",
       "<g id=\"graph0\" class=\"graph\" transform=\"scale(1 1) rotate(0) translate(4 83.18)\">\n",
       "<title>G</title>\n",
       "<polygon fill=\"#272727\" stroke=\"transparent\" points=\"-4,4 -4,-83.18 206,-83.18 206,4 -4,4\"/>\n",
       "<!-- 0 -->\n",
       "<g id=\"node1\" class=\"node\">\n",
       "<title>0</title>\n",
       "<ellipse fill=\"none\" stroke=\"#cccccc\" cx=\"18\" cy=\"-24.18\" rx=\"18\" ry=\"18\"/>\n",
       "<text text-anchor=\"middle\" x=\"18\" y=\"-20.48\" font-family=\"Times,serif\" font-size=\"14.00\" fill=\"#cccccc\">0</text>\n",
       "</g>\n",
       "<!-- 0&#45;&gt;0 -->\n",
       "<g id=\"edge1\" class=\"edge\">\n",
       "<title>0&#45;&gt;0</title>\n",
       "<path fill=\"none\" stroke=\"#cccccc\" d=\"M11.27,-41.22C9.89,-51.04 12.14,-60.18 18,-60.18 21.66,-60.18 23.92,-56.61 24.75,-51.53\"/>\n",
       "<polygon fill=\"#cccccc\" stroke=\"#cccccc\" points=\"28.25,-51.21 24.73,-41.22 21.25,-51.22 28.25,-51.21\"/>\n",
       "<text text-anchor=\"middle\" x=\"18\" y=\"-63.98\" font-family=\"Times,serif\" font-size=\"14.00\" fill=\"#cccccc\">a</text>\n",
       "</g>\n",
       "<!-- 1 -->\n",
       "<g id=\"node2\" class=\"node\">\n",
       "<title>1</title>\n",
       "<ellipse fill=\"none\" stroke=\"#cccccc\" cx=\"101\" cy=\"-24.18\" rx=\"18\" ry=\"18\"/>\n",
       "<ellipse fill=\"none\" stroke=\"#cccccc\" cx=\"101\" cy=\"-24.18\" rx=\"22\" ry=\"22\"/>\n",
       "<text text-anchor=\"middle\" x=\"101\" y=\"-20.48\" font-family=\"Times,serif\" font-size=\"14.00\" fill=\"#cccccc\">1</text>\n",
       "</g>\n",
       "<!-- 0&#45;&gt;1 -->\n",
       "<g id=\"edge2\" class=\"edge\">\n",
       "<title>0&#45;&gt;1</title>\n",
       "<path fill=\"none\" stroke=\"#cccccc\" d=\"M36.18,-24.18C45.61,-24.18 57.6,-24.18 68.64,-24.18\"/>\n",
       "<polygon fill=\"#cccccc\" stroke=\"#cccccc\" points=\"68.81,-27.68 78.81,-24.18 68.81,-20.68 68.81,-27.68\"/>\n",
       "<text text-anchor=\"middle\" x=\"57.5\" y=\"-27.98\" font-family=\"Times,serif\" font-size=\"14.00\" fill=\"#cccccc\">b</text>\n",
       "</g>\n",
       "<!-- 1&#45;&gt;1 -->\n",
       "<g id=\"edge4\" class=\"edge\">\n",
       "<title>1&#45;&gt;1</title>\n",
       "<path fill=\"none\" stroke=\"#cccccc\" d=\"M93.32,-45.17C92.37,-55.27 94.93,-64.18 101,-64.18 104.89,-64.18 107.34,-60.52 108.35,-55.24\"/>\n",
       "<polygon fill=\"#cccccc\" stroke=\"#cccccc\" points=\"111.85,-55.28 108.68,-45.17 104.85,-55.05 111.85,-55.28\"/>\n",
       "<text text-anchor=\"middle\" x=\"101\" y=\"-67.98\" font-family=\"Times,serif\" font-size=\"14.00\" fill=\"#cccccc\">b</text>\n",
       "</g>\n",
       "<!-- 2 -->\n",
       "<g id=\"node3\" class=\"node\">\n",
       "<title>2</title>\n",
       "<ellipse fill=\"none\" stroke=\"#cccccc\" cx=\"184\" cy=\"-24.18\" rx=\"18\" ry=\"18\"/>\n",
       "<text text-anchor=\"middle\" x=\"184\" y=\"-20.48\" font-family=\"Times,serif\" font-size=\"14.00\" fill=\"#cccccc\">2</text>\n",
       "</g>\n",
       "<!-- 1&#45;&gt;2 -->\n",
       "<g id=\"edge3\" class=\"edge\">\n",
       "<title>1&#45;&gt;2</title>\n",
       "<path fill=\"none\" stroke=\"#cccccc\" d=\"M120.06,-35.38C128.43,-39.28 138.58,-42.23 148,-40.18 151.5,-39.42 155.07,-38.27 158.53,-36.94\"/>\n",
       "<polygon fill=\"#cccccc\" stroke=\"#cccccc\" points=\"160.08,-40.08 167.82,-32.84 157.25,-33.68 160.08,-40.08\"/>\n",
       "<text text-anchor=\"middle\" x=\"144.5\" y=\"-43.98\" font-family=\"Times,serif\" font-size=\"14.00\" fill=\"#cccccc\">a</text>\n",
       "</g>\n",
       "<!-- 2&#45;&gt;1 -->\n",
       "<g id=\"edge5\" class=\"edge\">\n",
       "<title>2&#45;&gt;1</title>\n",
       "<path fill=\"none\" stroke=\"#cccccc\" d=\"M165.93,-22.42C160.23,-21.92 153.85,-21.43 148,-21.18 143.28,-20.98 138.3,-21.03 133.42,-21.23\"/>\n",
       "<polygon fill=\"#cccccc\" stroke=\"#cccccc\" points=\"132.83,-17.76 123.06,-21.85 133.25,-24.74 132.83,-17.76\"/>\n",
       "<text text-anchor=\"middle\" x=\"144.5\" y=\"-24.98\" font-family=\"Times,serif\" font-size=\"14.00\" fill=\"#cccccc\">a</text>\n",
       "</g>\n",
       "<!-- 2&#45;&gt;1 -->\n",
       "<g id=\"edge6\" class=\"edge\">\n",
       "<title>2&#45;&gt;1</title>\n",
       "<path fill=\"none\" stroke=\"#cccccc\" d=\"M169.64,-12.75C163.48,-8.21 155.8,-3.51 148,-1.18 140.71,1 133.17,-0.82 126.36,-4.22\"/>\n",
       "<polygon fill=\"#cccccc\" stroke=\"#cccccc\" points=\"124.29,-1.38 117.62,-9.61 127.97,-7.34 124.29,-1.38\"/>\n",
       "<text text-anchor=\"middle\" x=\"144.5\" y=\"-4.98\" font-family=\"Times,serif\" font-size=\"14.00\" fill=\"#cccccc\">b</text>\n",
       "</g>\n",
       "</g>\n",
       "</svg>\n"
      ],
      "text/plain": [
       "<IPython.core.display.HTML object>"
      ]
     },
     "metadata": {},
     "output_type": "display_data"
    },
    {
     "data": {
      "text/html": [
       ":-)"
      ],
      "text/plain": [
       "<IPython.core.display.HTML object>"
      ]
     },
     "metadata": {},
     "output_type": "display_data"
    },
    {
     "data": {
      "text/html": [
       "<h3>Test G2</h3>"
      ],
      "text/plain": [
       "<IPython.core.display.HTML object>"
      ]
     },
     "metadata": {},
     "output_type": "display_data"
    },
    {
     "data": {
      "text/html": [
       "<?xml version=\"1.0\" encoding=\"UTF-8\" standalone=\"no\"?>\n",
       "<!DOCTYPE svg PUBLIC \"-//W3C//DTD SVG 1.1//EN\"\n",
       " \"http://www.w3.org/Graphics/SVG/1.1/DTD/svg11.dtd\">\n",
       "<!-- Generated by graphviz version 2.43.0 (0)\n",
       " -->\n",
       "<!-- Title: G Pages: 1 -->\n",
       "<svg width=\"131pt\" height=\"81pt\"\n",
       " viewBox=\"0.00 0.00 131.00 81.00\" xmlns=\"http://www.w3.org/2000/svg\" xmlns:xlink=\"http://www.w3.org/1999/xlink\">\n",
       "<g id=\"graph0\" class=\"graph\" transform=\"scale(1 1) rotate(0) translate(4 77)\">\n",
       "<title>G</title>\n",
       "<polygon fill=\"#272727\" stroke=\"transparent\" points=\"-4,4 -4,-77 127,-77 127,4 -4,4\"/>\n",
       "<!-- 0 -->\n",
       "<g id=\"node1\" class=\"node\">\n",
       "<title>0</title>\n",
       "<ellipse fill=\"none\" stroke=\"#cccccc\" cx=\"18\" cy=\"-22\" rx=\"18\" ry=\"18\"/>\n",
       "<text text-anchor=\"middle\" x=\"18\" y=\"-18.3\" font-family=\"Times,serif\" font-size=\"14.00\" fill=\"#cccccc\">0</text>\n",
       "</g>\n",
       "<!-- 0&#45;&gt;0 -->\n",
       "<g id=\"edge1\" class=\"edge\">\n",
       "<title>0&#45;&gt;0</title>\n",
       "<path fill=\"none\" stroke=\"#cccccc\" d=\"M11.27,-39.04C9.89,-48.86 12.14,-58 18,-58 21.66,-58 23.92,-54.43 24.75,-49.35\"/>\n",
       "<polygon fill=\"#cccccc\" stroke=\"#cccccc\" points=\"28.25,-49.03 24.73,-39.04 21.25,-49.04 28.25,-49.03\"/>\n",
       "<text text-anchor=\"middle\" x=\"18\" y=\"-61.8\" font-family=\"Times,serif\" font-size=\"14.00\" fill=\"#cccccc\">a</text>\n",
       "</g>\n",
       "<!-- 1 -->\n",
       "<g id=\"node2\" class=\"node\">\n",
       "<title>1</title>\n",
       "<ellipse fill=\"none\" stroke=\"#cccccc\" cx=\"101\" cy=\"-22\" rx=\"18\" ry=\"18\"/>\n",
       "<ellipse fill=\"none\" stroke=\"#cccccc\" cx=\"101\" cy=\"-22\" rx=\"22\" ry=\"22\"/>\n",
       "<text text-anchor=\"middle\" x=\"101\" y=\"-18.3\" font-family=\"Times,serif\" font-size=\"14.00\" fill=\"#cccccc\">1</text>\n",
       "</g>\n",
       "<!-- 0&#45;&gt;1 -->\n",
       "<g id=\"edge2\" class=\"edge\">\n",
       "<title>0&#45;&gt;1</title>\n",
       "<path fill=\"none\" stroke=\"#cccccc\" d=\"M36.18,-22C45.61,-22 57.6,-22 68.64,-22\"/>\n",
       "<polygon fill=\"#cccccc\" stroke=\"#cccccc\" points=\"68.81,-25.5 78.81,-22 68.81,-18.5 68.81,-25.5\"/>\n",
       "<text text-anchor=\"middle\" x=\"57.5\" y=\"-25.8\" font-family=\"Times,serif\" font-size=\"14.00\" fill=\"#cccccc\">b</text>\n",
       "</g>\n",
       "</g>\n",
       "</svg>\n"
      ],
      "text/plain": [
       "<IPython.core.display.HTML object>"
      ]
     },
     "metadata": {},
     "output_type": "display_data"
    },
    {
     "data": {
      "text/html": [
       "Ignored, this automaton must be finite, deterministic and complete"
      ],
      "text/plain": [
       "<IPython.core.display.HTML object>"
      ]
     },
     "metadata": {},
     "output_type": "display_data"
    },
    {
     "data": {
      "text/html": [
       "<h3>Test G3</h3>"
      ],
      "text/plain": [
       "<IPython.core.display.HTML object>"
      ]
     },
     "metadata": {},
     "output_type": "display_data"
    },
    {
     "data": {
      "text/html": [
       "<?xml version=\"1.0\" encoding=\"UTF-8\" standalone=\"no\"?>\n",
       "<!DOCTYPE svg PUBLIC \"-//W3C//DTD SVG 1.1//EN\"\n",
       " \"http://www.w3.org/Graphics/SVG/1.1/DTD/svg11.dtd\">\n",
       "<!-- Generated by graphviz version 2.43.0 (0)\n",
       " -->\n",
       "<!-- Title: G Pages: 1 -->\n",
       "<svg width=\"123pt\" height=\"77pt\"\n",
       " viewBox=\"0.00 0.00 123.00 77.00\" xmlns=\"http://www.w3.org/2000/svg\" xmlns:xlink=\"http://www.w3.org/1999/xlink\">\n",
       "<g id=\"graph0\" class=\"graph\" transform=\"scale(1 1) rotate(0) translate(4 73)\">\n",
       "<title>G</title>\n",
       "<polygon fill=\"#272727\" stroke=\"transparent\" points=\"-4,4 -4,-73 119,-73 119,4 -4,4\"/>\n",
       "<!-- 0 -->\n",
       "<g id=\"node1\" class=\"node\">\n",
       "<title>0</title>\n",
       "<ellipse fill=\"none\" stroke=\"#cccccc\" cx=\"18\" cy=\"-18\" rx=\"18\" ry=\"18\"/>\n",
       "<text text-anchor=\"middle\" x=\"18\" y=\"-14.3\" font-family=\"Times,serif\" font-size=\"14.00\" fill=\"#cccccc\">0</text>\n",
       "</g>\n",
       "<!-- 0&#45;&gt;0 -->\n",
       "<g id=\"edge1\" class=\"edge\">\n",
       "<title>0&#45;&gt;0</title>\n",
       "<path fill=\"none\" stroke=\"#cccccc\" d=\"M11.27,-35.04C9.89,-44.86 12.14,-54 18,-54 21.66,-54 23.92,-50.43 24.75,-45.35\"/>\n",
       "<polygon fill=\"#cccccc\" stroke=\"#cccccc\" points=\"28.25,-45.03 24.73,-35.04 21.25,-45.04 28.25,-45.03\"/>\n",
       "<text text-anchor=\"middle\" x=\"18\" y=\"-57.8\" font-family=\"Times,serif\" font-size=\"14.00\" fill=\"#cccccc\">a</text>\n",
       "</g>\n",
       "<!-- 1 -->\n",
       "<g id=\"node2\" class=\"node\">\n",
       "<title>1</title>\n",
       "<ellipse fill=\"none\" stroke=\"#cccccc\" cx=\"97\" cy=\"-18\" rx=\"18\" ry=\"18\"/>\n",
       "<text text-anchor=\"middle\" x=\"97\" y=\"-14.3\" font-family=\"Times,serif\" font-size=\"14.00\" fill=\"#cccccc\">1</text>\n",
       "</g>\n",
       "<!-- 0&#45;&gt;1 -->\n",
       "<g id=\"edge2\" class=\"edge\">\n",
       "<title>0&#45;&gt;1</title>\n",
       "<path fill=\"none\" stroke=\"#cccccc\" d=\"M36.09,-18C45.66,-18 57.82,-18 68.68,-18\"/>\n",
       "<polygon fill=\"#cccccc\" stroke=\"#cccccc\" points=\"68.96,-21.5 78.96,-18 68.96,-14.5 68.96,-21.5\"/>\n",
       "<text text-anchor=\"middle\" x=\"57.5\" y=\"-21.8\" font-family=\"Times,serif\" font-size=\"14.00\" fill=\"#cccccc\">b</text>\n",
       "</g>\n",
       "</g>\n",
       "</svg>\n"
      ],
      "text/plain": [
       "<IPython.core.display.HTML object>"
      ]
     },
     "metadata": {},
     "output_type": "display_data"
    },
    {
     "data": {
      "text/html": [
       "Ignored, this automaton must be finite, deterministic and complete"
      ],
      "text/plain": [
       "<IPython.core.display.HTML object>"
      ]
     },
     "metadata": {},
     "output_type": "display_data"
    },
    {
     "data": {
      "text/html": [
       "<h3>Test G4</h3>"
      ],
      "text/plain": [
       "<IPython.core.display.HTML object>"
      ]
     },
     "metadata": {},
     "output_type": "display_data"
    },
    {
     "data": {
      "text/html": [
       "<b>Teacher</b>"
      ],
      "text/plain": [
       "<IPython.core.display.HTML object>"
      ]
     },
     "metadata": {},
     "output_type": "display_data"
    },
    {
     "data": {
      "text/html": [
       "<?xml version=\"1.0\" encoding=\"UTF-8\" standalone=\"no\"?>\n",
       "<!DOCTYPE svg PUBLIC \"-//W3C//DTD SVG 1.1//EN\"\n",
       " \"http://www.w3.org/Graphics/SVG/1.1/DTD/svg11.dtd\">\n",
       "<!-- Generated by graphviz version 2.43.0 (0)\n",
       " -->\n",
       "<!-- Title: G Pages: 1 -->\n",
       "<svg width=\"131pt\" height=\"85pt\"\n",
       " viewBox=\"0.00 0.00 131.00 85.00\" xmlns=\"http://www.w3.org/2000/svg\" xmlns:xlink=\"http://www.w3.org/1999/xlink\">\n",
       "<g id=\"graph0\" class=\"graph\" transform=\"scale(1 1) rotate(0) translate(4 81)\">\n",
       "<title>G</title>\n",
       "<polygon fill=\"#272727\" stroke=\"transparent\" points=\"-4,4 -4,-81 127,-81 127,4 -4,4\"/>\n",
       "<!-- 0 -->\n",
       "<g id=\"node1\" class=\"node\">\n",
       "<title>0</title>\n",
       "<ellipse fill=\"none\" stroke=\"#cccccc\" cx=\"18\" cy=\"-22\" rx=\"18\" ry=\"18\"/>\n",
       "<text text-anchor=\"middle\" x=\"18\" y=\"-18.3\" font-family=\"Times,serif\" font-size=\"14.00\" fill=\"#cccccc\">0</text>\n",
       "</g>\n",
       "<!-- 0&#45;&gt;0 -->\n",
       "<g id=\"edge1\" class=\"edge\">\n",
       "<title>0&#45;&gt;0</title>\n",
       "<path fill=\"none\" stroke=\"#cccccc\" d=\"M11.27,-39.04C9.89,-48.86 12.14,-58 18,-58 21.66,-58 23.92,-54.43 24.75,-49.35\"/>\n",
       "<polygon fill=\"#cccccc\" stroke=\"#cccccc\" points=\"28.25,-49.03 24.73,-39.04 21.25,-49.04 28.25,-49.03\"/>\n",
       "<text text-anchor=\"middle\" x=\"18\" y=\"-61.8\" font-family=\"Times,serif\" font-size=\"14.00\" fill=\"#cccccc\">a</text>\n",
       "</g>\n",
       "<!-- 1 -->\n",
       "<g id=\"node2\" class=\"node\">\n",
       "<title>1</title>\n",
       "<ellipse fill=\"none\" stroke=\"#cccccc\" cx=\"101\" cy=\"-22\" rx=\"18\" ry=\"18\"/>\n",
       "<ellipse fill=\"none\" stroke=\"#cccccc\" cx=\"101\" cy=\"-22\" rx=\"22\" ry=\"22\"/>\n",
       "<text text-anchor=\"middle\" x=\"101\" y=\"-18.3\" font-family=\"Times,serif\" font-size=\"14.00\" fill=\"#cccccc\">1</text>\n",
       "</g>\n",
       "<!-- 0&#45;&gt;1 -->\n",
       "<g id=\"edge2\" class=\"edge\">\n",
       "<title>0&#45;&gt;1</title>\n",
       "<path fill=\"none\" stroke=\"#cccccc\" d=\"M36.18,-22C45.61,-22 57.6,-22 68.64,-22\"/>\n",
       "<polygon fill=\"#cccccc\" stroke=\"#cccccc\" points=\"68.81,-25.5 78.81,-22 68.81,-18.5 68.81,-25.5\"/>\n",
       "<text text-anchor=\"middle\" x=\"57.5\" y=\"-25.8\" font-family=\"Times,serif\" font-size=\"14.00\" fill=\"#cccccc\">b</text>\n",
       "</g>\n",
       "<!-- 1&#45;&gt;0 -->\n",
       "<g id=\"edge4\" class=\"edge\">\n",
       "<title>1&#45;&gt;0</title>\n",
       "<path fill=\"none\" stroke=\"#cccccc\" d=\"M82.93,-9.2C74.43,-4.33 63.88,-0.49 54,-3 50.04,-4.01 46.05,-5.56 42.24,-7.35\"/>\n",
       "<polygon fill=\"#cccccc\" stroke=\"#cccccc\" points=\"40.48,-4.33 33.31,-12.13 43.78,-10.5 40.48,-4.33\"/>\n",
       "<text text-anchor=\"middle\" x=\"57.5\" y=\"-6.8\" font-family=\"Times,serif\" font-size=\"14.00\" fill=\"#cccccc\">a</text>\n",
       "</g>\n",
       "<!-- 1&#45;&gt;1 -->\n",
       "<g id=\"edge3\" class=\"edge\">\n",
       "<title>1&#45;&gt;1</title>\n",
       "<path fill=\"none\" stroke=\"#cccccc\" d=\"M93.32,-42.99C92.37,-53.09 94.93,-62 101,-62 104.89,-62 107.34,-58.34 108.35,-53.06\"/>\n",
       "<polygon fill=\"#cccccc\" stroke=\"#cccccc\" points=\"111.85,-53.1 108.68,-42.99 104.85,-52.87 111.85,-53.1\"/>\n",
       "<text text-anchor=\"middle\" x=\"101\" y=\"-65.8\" font-family=\"Times,serif\" font-size=\"14.00\" fill=\"#cccccc\">b</text>\n",
       "</g>\n",
       "</g>\n",
       "</svg>\n"
      ],
      "text/plain": [
       "<IPython.core.display.HTML object>"
      ]
     },
     "metadata": {},
     "output_type": "display_data"
    },
    {
     "data": {
      "text/html": [
       "<b>initialize</b>"
      ],
      "text/plain": [
       "<IPython.core.display.HTML object>"
      ]
     },
     "metadata": {},
     "output_type": "display_data"
    },
    {
     "data": {
      "text/html": [
       "\n",
       "        <table>\n",
       "            <tr><th></th><td>&#x3b5;</td></tr>\n",
       "            <tr><th><font color='red'>&#x3b5;</font></th><td>False</td></tr><tr><th>'a'</th><td>False</td></tr><tr><th>'b'</th><td>True</td></tr>\n",
       "        </table>\n",
       "        "
      ],
      "text/plain": [
       "<IPython.core.display.HTML object>"
      ]
     },
     "metadata": {},
     "output_type": "display_data"
    },
    {
     "data": {
      "text/html": [
       "<b>iteration 1</b>"
      ],
      "text/plain": [
       "<IPython.core.display.HTML object>"
      ]
     },
     "metadata": {},
     "output_type": "display_data"
    },
    {
     "data": {
      "text/html": [
       "\n",
       "        <table>\n",
       "            <tr><th></th><td>&#x3b5;</td></tr>\n",
       "            <tr><th><font color='red'>&#x3b5;</font></th><td>False</td></tr><tr><th>'a'</th><td>False</td></tr><tr><th>'b'</th><td>True</td></tr>\n",
       "        </table>\n",
       "        "
      ],
      "text/plain": [
       "<IPython.core.display.HTML object>"
      ]
     },
     "metadata": {},
     "output_type": "display_data"
    },
    {
     "data": {
      "text/html": [
       "Observation table is not closed: (s1, a) = ('', 'b'), adding s1 + a = b to S"
      ],
      "text/plain": [
       "<IPython.core.display.HTML object>"
      ]
     },
     "metadata": {},
     "output_type": "display_data"
    },
    {
     "data": {
      "text/html": [
       "Observation table is closed and consistent"
      ],
      "text/plain": [
       "<IPython.core.display.HTML object>"
      ]
     },
     "metadata": {},
     "output_type": "display_data"
    },
    {
     "data": {
      "text/html": [
       "\n",
       "                    <table>\n",
       "                        <tr>\n",
       "                            <th>Teacher</th>\n",
       "                            <th>Observation table</th>\n",
       "                        </tr>\n",
       "                        <tr>\n",
       "                            <td><?xml version=\"1.0\" encoding=\"UTF-8\" standalone=\"no\"?>\n",
       "<!DOCTYPE svg PUBLIC \"-//W3C//DTD SVG 1.1//EN\"\n",
       " \"http://www.w3.org/Graphics/SVG/1.1/DTD/svg11.dtd\">\n",
       "<!-- Generated by graphviz version 2.43.0 (0)\n",
       " -->\n",
       "<!-- Title: G Pages: 1 -->\n",
       "<svg width=\"131pt\" height=\"85pt\"\n",
       " viewBox=\"0.00 0.00 131.00 85.00\" xmlns=\"http://www.w3.org/2000/svg\" xmlns:xlink=\"http://www.w3.org/1999/xlink\">\n",
       "<g id=\"graph0\" class=\"graph\" transform=\"scale(1 1) rotate(0) translate(4 81)\">\n",
       "<title>G</title>\n",
       "<polygon fill=\"#272727\" stroke=\"transparent\" points=\"-4,4 -4,-81 127,-81 127,4 -4,4\"/>\n",
       "<!-- 0 -->\n",
       "<g id=\"node1\" class=\"node\">\n",
       "<title>0</title>\n",
       "<ellipse fill=\"none\" stroke=\"#cccccc\" cx=\"18\" cy=\"-22\" rx=\"18\" ry=\"18\"/>\n",
       "<text text-anchor=\"middle\" x=\"18\" y=\"-18.3\" font-family=\"Times,serif\" font-size=\"14.00\" fill=\"#cccccc\">0</text>\n",
       "</g>\n",
       "<!-- 0&#45;&gt;0 -->\n",
       "<g id=\"edge1\" class=\"edge\">\n",
       "<title>0&#45;&gt;0</title>\n",
       "<path fill=\"none\" stroke=\"#cccccc\" d=\"M11.27,-39.04C9.89,-48.86 12.14,-58 18,-58 21.66,-58 23.92,-54.43 24.75,-49.35\"/>\n",
       "<polygon fill=\"#cccccc\" stroke=\"#cccccc\" points=\"28.25,-49.03 24.73,-39.04 21.25,-49.04 28.25,-49.03\"/>\n",
       "<text text-anchor=\"middle\" x=\"18\" y=\"-61.8\" font-family=\"Times,serif\" font-size=\"14.00\" fill=\"#cccccc\">a</text>\n",
       "</g>\n",
       "<!-- 1 -->\n",
       "<g id=\"node2\" class=\"node\">\n",
       "<title>1</title>\n",
       "<ellipse fill=\"none\" stroke=\"#cccccc\" cx=\"101\" cy=\"-22\" rx=\"18\" ry=\"18\"/>\n",
       "<ellipse fill=\"none\" stroke=\"#cccccc\" cx=\"101\" cy=\"-22\" rx=\"22\" ry=\"22\"/>\n",
       "<text text-anchor=\"middle\" x=\"101\" y=\"-18.3\" font-family=\"Times,serif\" font-size=\"14.00\" fill=\"#cccccc\">1</text>\n",
       "</g>\n",
       "<!-- 0&#45;&gt;1 -->\n",
       "<g id=\"edge2\" class=\"edge\">\n",
       "<title>0&#45;&gt;1</title>\n",
       "<path fill=\"none\" stroke=\"#cccccc\" d=\"M36.18,-22C45.61,-22 57.6,-22 68.64,-22\"/>\n",
       "<polygon fill=\"#cccccc\" stroke=\"#cccccc\" points=\"68.81,-25.5 78.81,-22 68.81,-18.5 68.81,-25.5\"/>\n",
       "<text text-anchor=\"middle\" x=\"57.5\" y=\"-25.8\" font-family=\"Times,serif\" font-size=\"14.00\" fill=\"#cccccc\">b</text>\n",
       "</g>\n",
       "<!-- 1&#45;&gt;0 -->\n",
       "<g id=\"edge4\" class=\"edge\">\n",
       "<title>1&#45;&gt;0</title>\n",
       "<path fill=\"none\" stroke=\"#cccccc\" d=\"M82.93,-9.2C74.43,-4.33 63.88,-0.49 54,-3 50.04,-4.01 46.05,-5.56 42.24,-7.35\"/>\n",
       "<polygon fill=\"#cccccc\" stroke=\"#cccccc\" points=\"40.48,-4.33 33.31,-12.13 43.78,-10.5 40.48,-4.33\"/>\n",
       "<text text-anchor=\"middle\" x=\"57.5\" y=\"-6.8\" font-family=\"Times,serif\" font-size=\"14.00\" fill=\"#cccccc\">a</text>\n",
       "</g>\n",
       "<!-- 1&#45;&gt;1 -->\n",
       "<g id=\"edge3\" class=\"edge\">\n",
       "<title>1&#45;&gt;1</title>\n",
       "<path fill=\"none\" stroke=\"#cccccc\" d=\"M93.32,-42.99C92.37,-53.09 94.93,-62 101,-62 104.89,-62 107.34,-58.34 108.35,-53.06\"/>\n",
       "<polygon fill=\"#cccccc\" stroke=\"#cccccc\" points=\"111.85,-53.1 108.68,-42.99 104.85,-52.87 111.85,-53.1\"/>\n",
       "<text text-anchor=\"middle\" x=\"101\" y=\"-65.8\" font-family=\"Times,serif\" font-size=\"14.00\" fill=\"#cccccc\">b</text>\n",
       "</g>\n",
       "</g>\n",
       "</svg>\n",
       "</td>\n",
       "                            <td>\n",
       "        <table>\n",
       "            <tr><th></th><td>&#x3b5;</td></tr>\n",
       "            <tr><th><font color='red'>&#x3b5;</font></th><td>False</td></tr><tr><th>'a'</th><td>False</td></tr><tr><th><font color='red'>'b'</font></th><td>True</td></tr><tr><th>'ba'</th><td>False</td></tr><tr><th>'bb'</th><td>True</td></tr>\n",
       "        </table>\n",
       "        </td>\n",
       "                        </tr>\n",
       "                    </table>\n",
       "                    "
      ],
      "text/plain": [
       "<IPython.core.display.HTML object>"
      ]
     },
     "metadata": {},
     "output_type": "display_data"
    },
    {
     "data": {
      "text/html": [
       "<?xml version=\"1.0\" encoding=\"UTF-8\" standalone=\"no\"?>\n",
       "<!DOCTYPE svg PUBLIC \"-//W3C//DTD SVG 1.1//EN\"\n",
       " \"http://www.w3.org/Graphics/SVG/1.1/DTD/svg11.dtd\">\n",
       "<!-- Generated by graphviz version 2.43.0 (0)\n",
       " -->\n",
       "<!-- Title: G Pages: 1 -->\n",
       "<svg width=\"131pt\" height=\"85pt\"\n",
       " viewBox=\"0.00 0.00 131.00 85.00\" xmlns=\"http://www.w3.org/2000/svg\" xmlns:xlink=\"http://www.w3.org/1999/xlink\">\n",
       "<g id=\"graph0\" class=\"graph\" transform=\"scale(1 1) rotate(0) translate(4 81)\">\n",
       "<title>G</title>\n",
       "<polygon fill=\"#272727\" stroke=\"transparent\" points=\"-4,4 -4,-81 127,-81 127,4 -4,4\"/>\n",
       "<!-- 0 -->\n",
       "<g id=\"node1\" class=\"node\">\n",
       "<title>0</title>\n",
       "<ellipse fill=\"none\" stroke=\"#cccccc\" cx=\"18\" cy=\"-22\" rx=\"18\" ry=\"18\"/>\n",
       "<text text-anchor=\"middle\" x=\"18\" y=\"-18.3\" font-family=\"Times,serif\" font-size=\"14.00\" fill=\"#cccccc\">0</text>\n",
       "</g>\n",
       "<!-- 0&#45;&gt;0 -->\n",
       "<g id=\"edge1\" class=\"edge\">\n",
       "<title>0&#45;&gt;0</title>\n",
       "<path fill=\"none\" stroke=\"#cccccc\" d=\"M11.27,-39.04C9.89,-48.86 12.14,-58 18,-58 21.66,-58 23.92,-54.43 24.75,-49.35\"/>\n",
       "<polygon fill=\"#cccccc\" stroke=\"#cccccc\" points=\"28.25,-49.03 24.73,-39.04 21.25,-49.04 28.25,-49.03\"/>\n",
       "<text text-anchor=\"middle\" x=\"18\" y=\"-61.8\" font-family=\"Times,serif\" font-size=\"14.00\" fill=\"#cccccc\">a</text>\n",
       "</g>\n",
       "<!-- 1 -->\n",
       "<g id=\"node2\" class=\"node\">\n",
       "<title>1</title>\n",
       "<ellipse fill=\"none\" stroke=\"#cccccc\" cx=\"101\" cy=\"-22\" rx=\"18\" ry=\"18\"/>\n",
       "<ellipse fill=\"none\" stroke=\"#cccccc\" cx=\"101\" cy=\"-22\" rx=\"22\" ry=\"22\"/>\n",
       "<text text-anchor=\"middle\" x=\"101\" y=\"-18.3\" font-family=\"Times,serif\" font-size=\"14.00\" fill=\"#cccccc\">1</text>\n",
       "</g>\n",
       "<!-- 0&#45;&gt;1 -->\n",
       "<g id=\"edge2\" class=\"edge\">\n",
       "<title>0&#45;&gt;1</title>\n",
       "<path fill=\"none\" stroke=\"#cccccc\" d=\"M36.18,-22C45.61,-22 57.6,-22 68.64,-22\"/>\n",
       "<polygon fill=\"#cccccc\" stroke=\"#cccccc\" points=\"68.81,-25.5 78.81,-22 68.81,-18.5 68.81,-25.5\"/>\n",
       "<text text-anchor=\"middle\" x=\"57.5\" y=\"-25.8\" font-family=\"Times,serif\" font-size=\"14.00\" fill=\"#cccccc\">b</text>\n",
       "</g>\n",
       "<!-- 1&#45;&gt;0 -->\n",
       "<g id=\"edge3\" class=\"edge\">\n",
       "<title>1&#45;&gt;0</title>\n",
       "<path fill=\"none\" stroke=\"#cccccc\" d=\"M82.93,-9.2C74.43,-4.33 63.88,-0.49 54,-3 50.04,-4.01 46.05,-5.56 42.24,-7.35\"/>\n",
       "<polygon fill=\"#cccccc\" stroke=\"#cccccc\" points=\"40.48,-4.33 33.31,-12.13 43.78,-10.5 40.48,-4.33\"/>\n",
       "<text text-anchor=\"middle\" x=\"57.5\" y=\"-6.8\" font-family=\"Times,serif\" font-size=\"14.00\" fill=\"#cccccc\">a</text>\n",
       "</g>\n",
       "<!-- 1&#45;&gt;1 -->\n",
       "<g id=\"edge4\" class=\"edge\">\n",
       "<title>1&#45;&gt;1</title>\n",
       "<path fill=\"none\" stroke=\"#cccccc\" d=\"M93.32,-42.99C92.37,-53.09 94.93,-62 101,-62 104.89,-62 107.34,-58.34 108.35,-53.06\"/>\n",
       "<polygon fill=\"#cccccc\" stroke=\"#cccccc\" points=\"111.85,-53.1 108.68,-42.99 104.85,-52.87 111.85,-53.1\"/>\n",
       "<text text-anchor=\"middle\" x=\"101\" y=\"-65.8\" font-family=\"Times,serif\" font-size=\"14.00\" fill=\"#cccccc\">b</text>\n",
       "</g>\n",
       "</g>\n",
       "</svg>\n"
      ],
      "text/plain": [
       "<IPython.core.display.HTML object>"
      ]
     },
     "metadata": {},
     "output_type": "display_data"
    },
    {
     "data": {
      "text/html": [
       "Final states: {1}"
      ],
      "text/plain": [
       "<IPython.core.display.HTML object>"
      ]
     },
     "metadata": {},
     "output_type": "display_data"
    },
    {
     "data": {
      "text/html": [
       "<b>Learner</b>"
      ],
      "text/plain": [
       "<IPython.core.display.HTML object>"
      ]
     },
     "metadata": {},
     "output_type": "display_data"
    },
    {
     "data": {
      "text/html": [
       "<?xml version=\"1.0\" encoding=\"UTF-8\" standalone=\"no\"?>\n",
       "<!DOCTYPE svg PUBLIC \"-//W3C//DTD SVG 1.1//EN\"\n",
       " \"http://www.w3.org/Graphics/SVG/1.1/DTD/svg11.dtd\">\n",
       "<!-- Generated by graphviz version 2.43.0 (0)\n",
       " -->\n",
       "<!-- Title: G Pages: 1 -->\n",
       "<svg width=\"131pt\" height=\"85pt\"\n",
       " viewBox=\"0.00 0.00 131.00 85.00\" xmlns=\"http://www.w3.org/2000/svg\" xmlns:xlink=\"http://www.w3.org/1999/xlink\">\n",
       "<g id=\"graph0\" class=\"graph\" transform=\"scale(1 1) rotate(0) translate(4 81)\">\n",
       "<title>G</title>\n",
       "<polygon fill=\"#272727\" stroke=\"transparent\" points=\"-4,4 -4,-81 127,-81 127,4 -4,4\"/>\n",
       "<!-- 0 -->\n",
       "<g id=\"node1\" class=\"node\">\n",
       "<title>0</title>\n",
       "<ellipse fill=\"none\" stroke=\"#cccccc\" cx=\"18\" cy=\"-22\" rx=\"18\" ry=\"18\"/>\n",
       "<text text-anchor=\"middle\" x=\"18\" y=\"-18.3\" font-family=\"Times,serif\" font-size=\"14.00\" fill=\"#cccccc\">0</text>\n",
       "</g>\n",
       "<!-- 0&#45;&gt;0 -->\n",
       "<g id=\"edge1\" class=\"edge\">\n",
       "<title>0&#45;&gt;0</title>\n",
       "<path fill=\"none\" stroke=\"#cccccc\" d=\"M11.27,-39.04C9.89,-48.86 12.14,-58 18,-58 21.66,-58 23.92,-54.43 24.75,-49.35\"/>\n",
       "<polygon fill=\"#cccccc\" stroke=\"#cccccc\" points=\"28.25,-49.03 24.73,-39.04 21.25,-49.04 28.25,-49.03\"/>\n",
       "<text text-anchor=\"middle\" x=\"18\" y=\"-61.8\" font-family=\"Times,serif\" font-size=\"14.00\" fill=\"#cccccc\">a</text>\n",
       "</g>\n",
       "<!-- 1 -->\n",
       "<g id=\"node2\" class=\"node\">\n",
       "<title>1</title>\n",
       "<ellipse fill=\"none\" stroke=\"#cccccc\" cx=\"101\" cy=\"-22\" rx=\"18\" ry=\"18\"/>\n",
       "<ellipse fill=\"none\" stroke=\"#cccccc\" cx=\"101\" cy=\"-22\" rx=\"22\" ry=\"22\"/>\n",
       "<text text-anchor=\"middle\" x=\"101\" y=\"-18.3\" font-family=\"Times,serif\" font-size=\"14.00\" fill=\"#cccccc\">1</text>\n",
       "</g>\n",
       "<!-- 0&#45;&gt;1 -->\n",
       "<g id=\"edge2\" class=\"edge\">\n",
       "<title>0&#45;&gt;1</title>\n",
       "<path fill=\"none\" stroke=\"#cccccc\" d=\"M36.18,-22C45.61,-22 57.6,-22 68.64,-22\"/>\n",
       "<polygon fill=\"#cccccc\" stroke=\"#cccccc\" points=\"68.81,-25.5 78.81,-22 68.81,-18.5 68.81,-25.5\"/>\n",
       "<text text-anchor=\"middle\" x=\"57.5\" y=\"-25.8\" font-family=\"Times,serif\" font-size=\"14.00\" fill=\"#cccccc\">b</text>\n",
       "</g>\n",
       "<!-- 1&#45;&gt;0 -->\n",
       "<g id=\"edge3\" class=\"edge\">\n",
       "<title>1&#45;&gt;0</title>\n",
       "<path fill=\"none\" stroke=\"#cccccc\" d=\"M82.93,-9.2C74.43,-4.33 63.88,-0.49 54,-3 50.04,-4.01 46.05,-5.56 42.24,-7.35\"/>\n",
       "<polygon fill=\"#cccccc\" stroke=\"#cccccc\" points=\"40.48,-4.33 33.31,-12.13 43.78,-10.5 40.48,-4.33\"/>\n",
       "<text text-anchor=\"middle\" x=\"57.5\" y=\"-6.8\" font-family=\"Times,serif\" font-size=\"14.00\" fill=\"#cccccc\">a</text>\n",
       "</g>\n",
       "<!-- 1&#45;&gt;1 -->\n",
       "<g id=\"edge4\" class=\"edge\">\n",
       "<title>1&#45;&gt;1</title>\n",
       "<path fill=\"none\" stroke=\"#cccccc\" d=\"M93.32,-42.99C92.37,-53.09 94.93,-62 101,-62 104.89,-62 107.34,-58.34 108.35,-53.06\"/>\n",
       "<polygon fill=\"#cccccc\" stroke=\"#cccccc\" points=\"111.85,-53.1 108.68,-42.99 104.85,-52.87 111.85,-53.1\"/>\n",
       "<text text-anchor=\"middle\" x=\"101\" y=\"-65.8\" font-family=\"Times,serif\" font-size=\"14.00\" fill=\"#cccccc\">b</text>\n",
       "</g>\n",
       "</g>\n",
       "</svg>\n"
      ],
      "text/plain": [
       "<IPython.core.display.HTML object>"
      ]
     },
     "metadata": {},
     "output_type": "display_data"
    },
    {
     "data": {
      "text/html": [
       ":-)"
      ],
      "text/plain": [
       "<IPython.core.display.HTML object>"
      ]
     },
     "metadata": {},
     "output_type": "display_data"
    },
    {
     "data": {
      "text/html": [
       "<h3>Test G5</h3>"
      ],
      "text/plain": [
       "<IPython.core.display.HTML object>"
      ]
     },
     "metadata": {},
     "output_type": "display_data"
    },
    {
     "data": {
      "text/html": [
       "<b>Teacher</b>"
      ],
      "text/plain": [
       "<IPython.core.display.HTML object>"
      ]
     },
     "metadata": {},
     "output_type": "display_data"
    },
    {
     "data": {
      "text/html": [
       "<?xml version=\"1.0\" encoding=\"UTF-8\" standalone=\"no\"?>\n",
       "<!DOCTYPE svg PUBLIC \"-//W3C//DTD SVG 1.1//EN\"\n",
       " \"http://www.w3.org/Graphics/SVG/1.1/DTD/svg11.dtd\">\n",
       "<!-- Generated by graphviz version 2.43.0 (0)\n",
       " -->\n",
       "<!-- Title: G Pages: 1 -->\n",
       "<svg width=\"123pt\" height=\"79pt\"\n",
       " viewBox=\"0.00 0.00 123.00 79.28\" xmlns=\"http://www.w3.org/2000/svg\" xmlns:xlink=\"http://www.w3.org/1999/xlink\">\n",
       "<g id=\"graph0\" class=\"graph\" transform=\"scale(1 1) rotate(0) translate(4 75.28)\">\n",
       "<title>G</title>\n",
       "<polygon fill=\"#272727\" stroke=\"transparent\" points=\"-4,4 -4,-75.28 119,-75.28 119,4 -4,4\"/>\n",
       "<!-- 0 -->\n",
       "<g id=\"node1\" class=\"node\">\n",
       "<title>0</title>\n",
       "<ellipse fill=\"none\" stroke=\"#cccccc\" cx=\"18\" cy=\"-20.28\" rx=\"18\" ry=\"18\"/>\n",
       "<text text-anchor=\"middle\" x=\"18\" y=\"-16.58\" font-family=\"Times,serif\" font-size=\"14.00\" fill=\"#cccccc\">0</text>\n",
       "</g>\n",
       "<!-- 0&#45;&gt;0 -->\n",
       "<g id=\"edge1\" class=\"edge\">\n",
       "<title>0&#45;&gt;0</title>\n",
       "<path fill=\"none\" stroke=\"#cccccc\" d=\"M11.27,-37.32C9.89,-47.14 12.14,-56.28 18,-56.28 21.66,-56.28 23.92,-52.71 24.75,-47.63\"/>\n",
       "<polygon fill=\"#cccccc\" stroke=\"#cccccc\" points=\"28.25,-47.31 24.73,-37.32 21.25,-47.32 28.25,-47.31\"/>\n",
       "<text text-anchor=\"middle\" x=\"18\" y=\"-60.08\" font-family=\"Times,serif\" font-size=\"14.00\" fill=\"#cccccc\">a</text>\n",
       "</g>\n",
       "<!-- 1 -->\n",
       "<g id=\"node2\" class=\"node\">\n",
       "<title>1</title>\n",
       "<ellipse fill=\"none\" stroke=\"#cccccc\" cx=\"97\" cy=\"-20.28\" rx=\"18\" ry=\"18\"/>\n",
       "<text text-anchor=\"middle\" x=\"97\" y=\"-16.58\" font-family=\"Times,serif\" font-size=\"14.00\" fill=\"#cccccc\">1</text>\n",
       "</g>\n",
       "<!-- 0&#45;&gt;1 -->\n",
       "<g id=\"edge2\" class=\"edge\">\n",
       "<title>0&#45;&gt;1</title>\n",
       "<path fill=\"none\" stroke=\"#cccccc\" d=\"M36.09,-20.28C45.66,-20.28 57.82,-20.28 68.68,-20.28\"/>\n",
       "<polygon fill=\"#cccccc\" stroke=\"#cccccc\" points=\"68.96,-23.78 78.96,-20.28 68.96,-16.78 68.96,-23.78\"/>\n",
       "<text text-anchor=\"middle\" x=\"57.5\" y=\"-24.08\" font-family=\"Times,serif\" font-size=\"14.00\" fill=\"#cccccc\">b</text>\n",
       "</g>\n",
       "<!-- 1&#45;&gt;0 -->\n",
       "<g id=\"edge4\" class=\"edge\">\n",
       "<title>1&#45;&gt;0</title>\n",
       "<path fill=\"none\" stroke=\"#cccccc\" d=\"M82.82,-9.14C74.76,-3.66 64.08,1.28 54,-1.28 50.04,-2.29 46.05,-3.84 42.24,-5.63\"/>\n",
       "<polygon fill=\"#cccccc\" stroke=\"#cccccc\" points=\"40.48,-2.61 33.31,-10.41 43.78,-8.78 40.48,-2.61\"/>\n",
       "<text text-anchor=\"middle\" x=\"57.5\" y=\"-5.08\" font-family=\"Times,serif\" font-size=\"14.00\" fill=\"#cccccc\">a</text>\n",
       "</g>\n",
       "<!-- 1&#45;&gt;1 -->\n",
       "<g id=\"edge3\" class=\"edge\">\n",
       "<title>1&#45;&gt;1</title>\n",
       "<path fill=\"none\" stroke=\"#cccccc\" d=\"M90.27,-37.32C88.89,-47.14 91.14,-56.28 97,-56.28 100.66,-56.28 102.92,-52.71 103.75,-47.63\"/>\n",
       "<polygon fill=\"#cccccc\" stroke=\"#cccccc\" points=\"107.25,-47.31 103.73,-37.32 100.25,-47.32 107.25,-47.31\"/>\n",
       "<text text-anchor=\"middle\" x=\"97\" y=\"-60.08\" font-family=\"Times,serif\" font-size=\"14.00\" fill=\"#cccccc\">b</text>\n",
       "</g>\n",
       "</g>\n",
       "</svg>\n"
      ],
      "text/plain": [
       "<IPython.core.display.HTML object>"
      ]
     },
     "metadata": {},
     "output_type": "display_data"
    },
    {
     "data": {
      "text/html": [
       "<b>initialize</b>"
      ],
      "text/plain": [
       "<IPython.core.display.HTML object>"
      ]
     },
     "metadata": {},
     "output_type": "display_data"
    },
    {
     "data": {
      "text/html": [
       "\n",
       "        <table>\n",
       "            <tr><th></th><td>&#x3b5;</td></tr>\n",
       "            <tr><th><font color='red'>&#x3b5;</font></th><td>False</td></tr><tr><th>'a'</th><td>False</td></tr><tr><th>'b'</th><td>False</td></tr>\n",
       "        </table>\n",
       "        "
      ],
      "text/plain": [
       "<IPython.core.display.HTML object>"
      ]
     },
     "metadata": {},
     "output_type": "display_data"
    },
    {
     "data": {
      "text/html": [
       "<b>iteration 1</b>"
      ],
      "text/plain": [
       "<IPython.core.display.HTML object>"
      ]
     },
     "metadata": {},
     "output_type": "display_data"
    },
    {
     "data": {
      "text/html": [
       "Observation table is closed and consistent"
      ],
      "text/plain": [
       "<IPython.core.display.HTML object>"
      ]
     },
     "metadata": {},
     "output_type": "display_data"
    },
    {
     "data": {
      "text/html": [
       "\n",
       "                    <table>\n",
       "                        <tr>\n",
       "                            <th>Teacher</th>\n",
       "                            <th>Observation table</th>\n",
       "                        </tr>\n",
       "                        <tr>\n",
       "                            <td><?xml version=\"1.0\" encoding=\"UTF-8\" standalone=\"no\"?>\n",
       "<!DOCTYPE svg PUBLIC \"-//W3C//DTD SVG 1.1//EN\"\n",
       " \"http://www.w3.org/Graphics/SVG/1.1/DTD/svg11.dtd\">\n",
       "<!-- Generated by graphviz version 2.43.0 (0)\n",
       " -->\n",
       "<!-- Title: G Pages: 1 -->\n",
       "<svg width=\"123pt\" height=\"79pt\"\n",
       " viewBox=\"0.00 0.00 123.00 79.28\" xmlns=\"http://www.w3.org/2000/svg\" xmlns:xlink=\"http://www.w3.org/1999/xlink\">\n",
       "<g id=\"graph0\" class=\"graph\" transform=\"scale(1 1) rotate(0) translate(4 75.28)\">\n",
       "<title>G</title>\n",
       "<polygon fill=\"#272727\" stroke=\"transparent\" points=\"-4,4 -4,-75.28 119,-75.28 119,4 -4,4\"/>\n",
       "<!-- 0 -->\n",
       "<g id=\"node1\" class=\"node\">\n",
       "<title>0</title>\n",
       "<ellipse fill=\"none\" stroke=\"#cccccc\" cx=\"18\" cy=\"-20.28\" rx=\"18\" ry=\"18\"/>\n",
       "<text text-anchor=\"middle\" x=\"18\" y=\"-16.58\" font-family=\"Times,serif\" font-size=\"14.00\" fill=\"#cccccc\">0</text>\n",
       "</g>\n",
       "<!-- 0&#45;&gt;0 -->\n",
       "<g id=\"edge1\" class=\"edge\">\n",
       "<title>0&#45;&gt;0</title>\n",
       "<path fill=\"none\" stroke=\"#cccccc\" d=\"M11.27,-37.32C9.89,-47.14 12.14,-56.28 18,-56.28 21.66,-56.28 23.92,-52.71 24.75,-47.63\"/>\n",
       "<polygon fill=\"#cccccc\" stroke=\"#cccccc\" points=\"28.25,-47.31 24.73,-37.32 21.25,-47.32 28.25,-47.31\"/>\n",
       "<text text-anchor=\"middle\" x=\"18\" y=\"-60.08\" font-family=\"Times,serif\" font-size=\"14.00\" fill=\"#cccccc\">a</text>\n",
       "</g>\n",
       "<!-- 1 -->\n",
       "<g id=\"node2\" class=\"node\">\n",
       "<title>1</title>\n",
       "<ellipse fill=\"none\" stroke=\"#cccccc\" cx=\"97\" cy=\"-20.28\" rx=\"18\" ry=\"18\"/>\n",
       "<text text-anchor=\"middle\" x=\"97\" y=\"-16.58\" font-family=\"Times,serif\" font-size=\"14.00\" fill=\"#cccccc\">1</text>\n",
       "</g>\n",
       "<!-- 0&#45;&gt;1 -->\n",
       "<g id=\"edge2\" class=\"edge\">\n",
       "<title>0&#45;&gt;1</title>\n",
       "<path fill=\"none\" stroke=\"#cccccc\" d=\"M36.09,-20.28C45.66,-20.28 57.82,-20.28 68.68,-20.28\"/>\n",
       "<polygon fill=\"#cccccc\" stroke=\"#cccccc\" points=\"68.96,-23.78 78.96,-20.28 68.96,-16.78 68.96,-23.78\"/>\n",
       "<text text-anchor=\"middle\" x=\"57.5\" y=\"-24.08\" font-family=\"Times,serif\" font-size=\"14.00\" fill=\"#cccccc\">b</text>\n",
       "</g>\n",
       "<!-- 1&#45;&gt;0 -->\n",
       "<g id=\"edge4\" class=\"edge\">\n",
       "<title>1&#45;&gt;0</title>\n",
       "<path fill=\"none\" stroke=\"#cccccc\" d=\"M82.82,-9.14C74.76,-3.66 64.08,1.28 54,-1.28 50.04,-2.29 46.05,-3.84 42.24,-5.63\"/>\n",
       "<polygon fill=\"#cccccc\" stroke=\"#cccccc\" points=\"40.48,-2.61 33.31,-10.41 43.78,-8.78 40.48,-2.61\"/>\n",
       "<text text-anchor=\"middle\" x=\"57.5\" y=\"-5.08\" font-family=\"Times,serif\" font-size=\"14.00\" fill=\"#cccccc\">a</text>\n",
       "</g>\n",
       "<!-- 1&#45;&gt;1 -->\n",
       "<g id=\"edge3\" class=\"edge\">\n",
       "<title>1&#45;&gt;1</title>\n",
       "<path fill=\"none\" stroke=\"#cccccc\" d=\"M90.27,-37.32C88.89,-47.14 91.14,-56.28 97,-56.28 100.66,-56.28 102.92,-52.71 103.75,-47.63\"/>\n",
       "<polygon fill=\"#cccccc\" stroke=\"#cccccc\" points=\"107.25,-47.31 103.73,-37.32 100.25,-47.32 107.25,-47.31\"/>\n",
       "<text text-anchor=\"middle\" x=\"97\" y=\"-60.08\" font-family=\"Times,serif\" font-size=\"14.00\" fill=\"#cccccc\">b</text>\n",
       "</g>\n",
       "</g>\n",
       "</svg>\n",
       "</td>\n",
       "                            <td>\n",
       "        <table>\n",
       "            <tr><th></th><td>&#x3b5;</td></tr>\n",
       "            <tr><th><font color='red'>&#x3b5;</font></th><td>False</td></tr><tr><th>'a'</th><td>False</td></tr><tr><th>'b'</th><td>False</td></tr>\n",
       "        </table>\n",
       "        </td>\n",
       "                        </tr>\n",
       "                    </table>\n",
       "                    "
      ],
      "text/plain": [
       "<IPython.core.display.HTML object>"
      ]
     },
     "metadata": {},
     "output_type": "display_data"
    },
    {
     "data": {
      "text/html": [
       "<?xml version=\"1.0\" encoding=\"UTF-8\" standalone=\"no\"?>\n",
       "<!DOCTYPE svg PUBLIC \"-//W3C//DTD SVG 1.1//EN\"\n",
       " \"http://www.w3.org/Graphics/SVG/1.1/DTD/svg11.dtd\">\n",
       "<!-- Generated by graphviz version 2.43.0 (0)\n",
       " -->\n",
       "<!-- Title: G Pages: 1 -->\n",
       "<svg width=\"44pt\" height=\"110pt\"\n",
       " viewBox=\"0.00 0.00 44.00 110.00\" xmlns=\"http://www.w3.org/2000/svg\" xmlns:xlink=\"http://www.w3.org/1999/xlink\">\n",
       "<g id=\"graph0\" class=\"graph\" transform=\"scale(1 1) rotate(0) translate(4 106)\">\n",
       "<title>G</title>\n",
       "<polygon fill=\"#272727\" stroke=\"transparent\" points=\"-4,4 -4,-106 40,-106 40,4 -4,4\"/>\n",
       "<!-- 0 -->\n",
       "<g id=\"node1\" class=\"node\">\n",
       "<title>0</title>\n",
       "<ellipse fill=\"none\" stroke=\"#cccccc\" cx=\"18\" cy=\"-18\" rx=\"18\" ry=\"18\"/>\n",
       "<text text-anchor=\"middle\" x=\"18\" y=\"-14.3\" font-family=\"Times,serif\" font-size=\"14.00\" fill=\"#cccccc\">0</text>\n",
       "</g>\n",
       "<!-- 0&#45;&gt;0 -->\n",
       "<g id=\"edge1\" class=\"edge\">\n",
       "<title>0&#45;&gt;0</title>\n",
       "<path fill=\"none\" stroke=\"#cccccc\" d=\"M14.76,-35.78C14.21,-45.31 15.29,-54 18,-54 19.65,-54 20.69,-50.77 21.13,-46.1\"/>\n",
       "<polygon fill=\"#cccccc\" stroke=\"#cccccc\" points=\"24.64,-45.82 21.24,-35.78 17.64,-45.75 24.64,-45.82\"/>\n",
       "<text text-anchor=\"middle\" x=\"18\" y=\"-57.8\" font-family=\"Times,serif\" font-size=\"14.00\" fill=\"#cccccc\">a</text>\n",
       "</g>\n",
       "<!-- 0&#45;&gt;0 -->\n",
       "<g id=\"edge2\" class=\"edge\">\n",
       "<title>0&#45;&gt;0</title>\n",
       "<path fill=\"none\" stroke=\"#cccccc\" d=\"M12.68,-35.42C9.65,-52.79 11.43,-72 18,-72 23.29,-72 25.47,-59.56 24.54,-45.65\"/>\n",
       "<polygon fill=\"#cccccc\" stroke=\"#cccccc\" points=\"27.98,-44.93 23.32,-35.42 21.03,-45.77 27.98,-44.93\"/>\n",
       "<text text-anchor=\"middle\" x=\"18\" y=\"-75.8\" font-family=\"Times,serif\" font-size=\"14.00\" fill=\"#cccccc\">b</text>\n",
       "</g>\n",
       "</g>\n",
       "</svg>\n"
      ],
      "text/plain": [
       "<IPython.core.display.HTML object>"
      ]
     },
     "metadata": {},
     "output_type": "display_data"
    },
    {
     "data": {
      "text/html": [
       "Final states: set()"
      ],
      "text/plain": [
       "<IPython.core.display.HTML object>"
      ]
     },
     "metadata": {},
     "output_type": "display_data"
    },
    {
     "data": {
      "text/html": [
       "<b>Learner</b>"
      ],
      "text/plain": [
       "<IPython.core.display.HTML object>"
      ]
     },
     "metadata": {},
     "output_type": "display_data"
    },
    {
     "data": {
      "text/html": [
       "<?xml version=\"1.0\" encoding=\"UTF-8\" standalone=\"no\"?>\n",
       "<!DOCTYPE svg PUBLIC \"-//W3C//DTD SVG 1.1//EN\"\n",
       " \"http://www.w3.org/Graphics/SVG/1.1/DTD/svg11.dtd\">\n",
       "<!-- Generated by graphviz version 2.43.0 (0)\n",
       " -->\n",
       "<!-- Title: G Pages: 1 -->\n",
       "<svg width=\"44pt\" height=\"110pt\"\n",
       " viewBox=\"0.00 0.00 44.00 110.00\" xmlns=\"http://www.w3.org/2000/svg\" xmlns:xlink=\"http://www.w3.org/1999/xlink\">\n",
       "<g id=\"graph0\" class=\"graph\" transform=\"scale(1 1) rotate(0) translate(4 106)\">\n",
       "<title>G</title>\n",
       "<polygon fill=\"#272727\" stroke=\"transparent\" points=\"-4,4 -4,-106 40,-106 40,4 -4,4\"/>\n",
       "<!-- 0 -->\n",
       "<g id=\"node1\" class=\"node\">\n",
       "<title>0</title>\n",
       "<ellipse fill=\"none\" stroke=\"#cccccc\" cx=\"18\" cy=\"-18\" rx=\"18\" ry=\"18\"/>\n",
       "<text text-anchor=\"middle\" x=\"18\" y=\"-14.3\" font-family=\"Times,serif\" font-size=\"14.00\" fill=\"#cccccc\">0</text>\n",
       "</g>\n",
       "<!-- 0&#45;&gt;0 -->\n",
       "<g id=\"edge1\" class=\"edge\">\n",
       "<title>0&#45;&gt;0</title>\n",
       "<path fill=\"none\" stroke=\"#cccccc\" d=\"M14.76,-35.78C14.21,-45.31 15.29,-54 18,-54 19.65,-54 20.69,-50.77 21.13,-46.1\"/>\n",
       "<polygon fill=\"#cccccc\" stroke=\"#cccccc\" points=\"24.64,-45.82 21.24,-35.78 17.64,-45.75 24.64,-45.82\"/>\n",
       "<text text-anchor=\"middle\" x=\"18\" y=\"-57.8\" font-family=\"Times,serif\" font-size=\"14.00\" fill=\"#cccccc\">a</text>\n",
       "</g>\n",
       "<!-- 0&#45;&gt;0 -->\n",
       "<g id=\"edge2\" class=\"edge\">\n",
       "<title>0&#45;&gt;0</title>\n",
       "<path fill=\"none\" stroke=\"#cccccc\" d=\"M12.68,-35.42C9.65,-52.79 11.43,-72 18,-72 23.29,-72 25.47,-59.56 24.54,-45.65\"/>\n",
       "<polygon fill=\"#cccccc\" stroke=\"#cccccc\" points=\"27.98,-44.93 23.32,-35.42 21.03,-45.77 27.98,-44.93\"/>\n",
       "<text text-anchor=\"middle\" x=\"18\" y=\"-75.8\" font-family=\"Times,serif\" font-size=\"14.00\" fill=\"#cccccc\">b</text>\n",
       "</g>\n",
       "</g>\n",
       "</svg>\n"
      ],
      "text/plain": [
       "<IPython.core.display.HTML object>"
      ]
     },
     "metadata": {},
     "output_type": "display_data"
    },
    {
     "data": {
      "text/html": [
       ":-)"
      ],
      "text/plain": [
       "<IPython.core.display.HTML object>"
      ]
     },
     "metadata": {},
     "output_type": "display_data"
    }
   ],
   "source": [
    "from pybgl.automaton            import Automaton, is_complete, make_automaton, vertices\n",
    "from pybgl.graphviz             import dotstr_to_html\n",
    "from pybgl.html                 import html\n",
    "from pybgl.property_map         import make_func_property_map\n",
    "from lstar.automaton_match      import automaton_match\n",
    "from lstar.observation_table    import ObservationTable\n",
    "from lstar.learner              import Learner, make_automaton_from_observation_table\n",
    "from lstar.teacher              import Teacher\n",
    "\n",
    "G1 = make_automaton(\n",
    "    [\n",
    "        (0, 0, 'a'), (0, 1, 'b'),\n",
    "        (1, 2, 'a'), (1, 1, 'b'),\n",
    "        (2, 1, 'a'), (2, 1, 'b'),\n",
    "    ], 0, \n",
    "    make_func_property_map(lambda q : q in {1})\n",
    ")\n",
    "\n",
    "G2 = make_automaton(\n",
    "    [\n",
    "        (0, 0, 'a'), (0, 1, 'b'),\n",
    "    ], 0,\n",
    "    make_func_property_map(lambda q : q in {1})\n",
    ")\n",
    "\n",
    "G3 = make_automaton(\n",
    "    [\n",
    "        (0, 0, 'a'), (0, 1, 'b'),\n",
    "    ], 0,\n",
    "    make_func_property_map(lambda q : False)\n",
    ")\n",
    "\n",
    "G4 = make_automaton(\n",
    "    [\n",
    "        (0, 0, 'a'), (0, 1, 'b'),\n",
    "        (1, 1, 'b'), (1, 0, 'a')\n",
    "    ], 0,\n",
    "    make_func_property_map(lambda q : q in {1})\n",
    ")\n",
    "\n",
    "G5 = make_automaton(\n",
    "    [\n",
    "        (0, 0, 'a'), (0, 1, 'b'),\n",
    "        (1, 1, 'b'), (1, 0, 'a')\n",
    "    ], 0,\n",
    "    make_func_property_map(lambda q : False)\n",
    ")\n",
    "\n",
    "def test_learner(g :Automaton, verbose :bool = False, write_files :bool = False):\n",
    "    if not is_complete(g):\n",
    "        html(dotstr_to_html(g.to_dot()))\n",
    "        html(\"Ignored, this automaton must be finite, deterministic and complete\")\n",
    "        return\n",
    "\n",
    "    teacher = Teacher(g)\n",
    "    html(\"<b>Teacher</b>\")\n",
    "    html(dotstr_to_html(teacher.g.to_dot()))\n",
    "\n",
    "    learner = Learner(teacher)\n",
    "    h = learner.learn(verbose = verbose, write_files = write_files)\n",
    "    html(\"<b>Learner</b>\")\n",
    "    html(dotstr_to_html(h.to_dot()))\n",
    "\n",
    "    assert automaton_match(g, h) == None\n",
    "    html(\":-)\")\n",
    "\n",
    "def test_learners(gs = [G1, G2, G3, G4, G5], verbose = False):\n",
    "    for (i, g) in enumerate(gs):\n",
    "        html(\"<h3>Test G%d</h3>\" % (i + 1))\n",
    "        test_learner(g, verbose)\n",
    "        \n",
    "test_learners(verbose = True)"
   ]
  },
  {
   "cell_type": "code",
   "execution_count": 9,
   "metadata": {
    "ExecuteTime": {
     "end_time": "2020-03-09T14:20:38.425362Z",
     "start_time": "2020-03-09T14:20:37.988915Z"
    },
    "scrolled": false
   },
   "outputs": [
    {
     "data": {
      "text/html": [
       "<b>Teacher</b>"
      ],
      "text/plain": [
       "<IPython.core.display.HTML object>"
      ]
     },
     "metadata": {},
     "output_type": "display_data"
    },
    {
     "data": {
      "text/html": [
       "<?xml version=\"1.0\" encoding=\"UTF-8\" standalone=\"no\"?>\n",
       "<!DOCTYPE svg PUBLIC \"-//W3C//DTD SVG 1.1//EN\"\n",
       " \"http://www.w3.org/Graphics/SVG/1.1/DTD/svg11.dtd\">\n",
       "<!-- Generated by graphviz version 2.43.0 (0)\n",
       " -->\n",
       "<!-- Title: G Pages: 1 -->\n",
       "<svg width=\"210pt\" height=\"87pt\"\n",
       " viewBox=\"0.00 0.00 210.00 87.18\" xmlns=\"http://www.w3.org/2000/svg\" xmlns:xlink=\"http://www.w3.org/1999/xlink\">\n",
       "<g id=\"graph0\" class=\"graph\" transform=\"scale(1 1) rotate(0) translate(4 83.18)\">\n",
       "<title>G</title>\n",
       "<polygon fill=\"#272727\" stroke=\"transparent\" points=\"-4,4 -4,-83.18 206,-83.18 206,4 -4,4\"/>\n",
       "<!-- 0 -->\n",
       "<g id=\"node1\" class=\"node\">\n",
       "<title>0</title>\n",
       "<ellipse fill=\"none\" stroke=\"#cccccc\" cx=\"18\" cy=\"-24.18\" rx=\"18\" ry=\"18\"/>\n",
       "<text text-anchor=\"middle\" x=\"18\" y=\"-20.48\" font-family=\"Times,serif\" font-size=\"14.00\" fill=\"#cccccc\">0</text>\n",
       "</g>\n",
       "<!-- 0&#45;&gt;0 -->\n",
       "<g id=\"edge1\" class=\"edge\">\n",
       "<title>0&#45;&gt;0</title>\n",
       "<path fill=\"none\" stroke=\"#cccccc\" d=\"M11.27,-41.22C9.89,-51.04 12.14,-60.18 18,-60.18 21.66,-60.18 23.92,-56.61 24.75,-51.53\"/>\n",
       "<polygon fill=\"#cccccc\" stroke=\"#cccccc\" points=\"28.25,-51.21 24.73,-41.22 21.25,-51.22 28.25,-51.21\"/>\n",
       "<text text-anchor=\"middle\" x=\"18\" y=\"-63.98\" font-family=\"Times,serif\" font-size=\"14.00\" fill=\"#cccccc\">a</text>\n",
       "</g>\n",
       "<!-- 1 -->\n",
       "<g id=\"node2\" class=\"node\">\n",
       "<title>1</title>\n",
       "<ellipse fill=\"none\" stroke=\"#cccccc\" cx=\"101\" cy=\"-24.18\" rx=\"18\" ry=\"18\"/>\n",
       "<ellipse fill=\"none\" stroke=\"#cccccc\" cx=\"101\" cy=\"-24.18\" rx=\"22\" ry=\"22\"/>\n",
       "<text text-anchor=\"middle\" x=\"101\" y=\"-20.48\" font-family=\"Times,serif\" font-size=\"14.00\" fill=\"#cccccc\">1</text>\n",
       "</g>\n",
       "<!-- 0&#45;&gt;1 -->\n",
       "<g id=\"edge2\" class=\"edge\">\n",
       "<title>0&#45;&gt;1</title>\n",
       "<path fill=\"none\" stroke=\"#cccccc\" d=\"M36.18,-24.18C45.61,-24.18 57.6,-24.18 68.64,-24.18\"/>\n",
       "<polygon fill=\"#cccccc\" stroke=\"#cccccc\" points=\"68.81,-27.68 78.81,-24.18 68.81,-20.68 68.81,-27.68\"/>\n",
       "<text text-anchor=\"middle\" x=\"57.5\" y=\"-27.98\" font-family=\"Times,serif\" font-size=\"14.00\" fill=\"#cccccc\">b</text>\n",
       "</g>\n",
       "<!-- 1&#45;&gt;1 -->\n",
       "<g id=\"edge4\" class=\"edge\">\n",
       "<title>1&#45;&gt;1</title>\n",
       "<path fill=\"none\" stroke=\"#cccccc\" d=\"M93.32,-45.17C92.37,-55.27 94.93,-64.18 101,-64.18 104.89,-64.18 107.34,-60.52 108.35,-55.24\"/>\n",
       "<polygon fill=\"#cccccc\" stroke=\"#cccccc\" points=\"111.85,-55.28 108.68,-45.17 104.85,-55.05 111.85,-55.28\"/>\n",
       "<text text-anchor=\"middle\" x=\"101\" y=\"-67.98\" font-family=\"Times,serif\" font-size=\"14.00\" fill=\"#cccccc\">b</text>\n",
       "</g>\n",
       "<!-- 2 -->\n",
       "<g id=\"node3\" class=\"node\">\n",
       "<title>2</title>\n",
       "<ellipse fill=\"none\" stroke=\"#cccccc\" cx=\"184\" cy=\"-24.18\" rx=\"18\" ry=\"18\"/>\n",
       "<text text-anchor=\"middle\" x=\"184\" y=\"-20.48\" font-family=\"Times,serif\" font-size=\"14.00\" fill=\"#cccccc\">2</text>\n",
       "</g>\n",
       "<!-- 1&#45;&gt;2 -->\n",
       "<g id=\"edge3\" class=\"edge\">\n",
       "<title>1&#45;&gt;2</title>\n",
       "<path fill=\"none\" stroke=\"#cccccc\" d=\"M120.06,-35.38C128.43,-39.28 138.58,-42.23 148,-40.18 151.5,-39.42 155.07,-38.27 158.53,-36.94\"/>\n",
       "<polygon fill=\"#cccccc\" stroke=\"#cccccc\" points=\"160.08,-40.08 167.82,-32.84 157.25,-33.68 160.08,-40.08\"/>\n",
       "<text text-anchor=\"middle\" x=\"144.5\" y=\"-43.98\" font-family=\"Times,serif\" font-size=\"14.00\" fill=\"#cccccc\">a</text>\n",
       "</g>\n",
       "<!-- 2&#45;&gt;1 -->\n",
       "<g id=\"edge5\" class=\"edge\">\n",
       "<title>2&#45;&gt;1</title>\n",
       "<path fill=\"none\" stroke=\"#cccccc\" d=\"M165.93,-22.42C160.23,-21.92 153.85,-21.43 148,-21.18 143.28,-20.98 138.3,-21.03 133.42,-21.23\"/>\n",
       "<polygon fill=\"#cccccc\" stroke=\"#cccccc\" points=\"132.83,-17.76 123.06,-21.85 133.25,-24.74 132.83,-17.76\"/>\n",
       "<text text-anchor=\"middle\" x=\"144.5\" y=\"-24.98\" font-family=\"Times,serif\" font-size=\"14.00\" fill=\"#cccccc\">a</text>\n",
       "</g>\n",
       "<!-- 2&#45;&gt;1 -->\n",
       "<g id=\"edge6\" class=\"edge\">\n",
       "<title>2&#45;&gt;1</title>\n",
       "<path fill=\"none\" stroke=\"#cccccc\" d=\"M169.64,-12.75C163.48,-8.21 155.8,-3.51 148,-1.18 140.71,1 133.17,-0.82 126.36,-4.22\"/>\n",
       "<polygon fill=\"#cccccc\" stroke=\"#cccccc\" points=\"124.29,-1.38 117.62,-9.61 127.97,-7.34 124.29,-1.38\"/>\n",
       "<text text-anchor=\"middle\" x=\"144.5\" y=\"-4.98\" font-family=\"Times,serif\" font-size=\"14.00\" fill=\"#cccccc\">b</text>\n",
       "</g>\n",
       "</g>\n",
       "</svg>\n"
      ],
      "text/plain": [
       "<IPython.core.display.HTML object>"
      ]
     },
     "metadata": {},
     "output_type": "display_data"
    },
    {
     "data": {
      "text/html": [
       "<b>initialize</b>"
      ],
      "text/plain": [
       "<IPython.core.display.HTML object>"
      ]
     },
     "metadata": {},
     "output_type": "display_data"
    },
    {
     "data": {
      "text/html": [
       "\n",
       "        <table>\n",
       "            <tr><th></th><td>&#x3b5;</td></tr>\n",
       "            <tr><th><font color='red'>&#x3b5;</font></th><td>False</td></tr><tr><th>'a'</th><td>False</td></tr><tr><th>'b'</th><td>True</td></tr>\n",
       "        </table>\n",
       "        "
      ],
      "text/plain": [
       "<IPython.core.display.HTML object>"
      ]
     },
     "metadata": {},
     "output_type": "display_data"
    },
    {
     "data": {
      "text/html": [
       "<b>iteration 1</b>"
      ],
      "text/plain": [
       "<IPython.core.display.HTML object>"
      ]
     },
     "metadata": {},
     "output_type": "display_data"
    },
    {
     "data": {
      "text/html": [
       "\n",
       "        <table>\n",
       "            <tr><th></th><td>&#x3b5;</td></tr>\n",
       "            <tr><th><font color='red'>&#x3b5;</font></th><td>False</td></tr><tr><th>'a'</th><td>False</td></tr><tr><th>'b'</th><td>True</td></tr>\n",
       "        </table>\n",
       "        "
      ],
      "text/plain": [
       "<IPython.core.display.HTML object>"
      ]
     },
     "metadata": {},
     "output_type": "display_data"
    },
    {
     "data": {
      "text/html": [
       "Observation table is not closed: (s1, a) = ('', 'b'), adding s1 + a = b to S"
      ],
      "text/plain": [
       "<IPython.core.display.HTML object>"
      ]
     },
     "metadata": {},
     "output_type": "display_data"
    },
    {
     "data": {
      "text/html": [
       "Observation table is closed and consistent"
      ],
      "text/plain": [
       "<IPython.core.display.HTML object>"
      ]
     },
     "metadata": {},
     "output_type": "display_data"
    },
    {
     "data": {
      "text/html": [
       "\n",
       "                    <table>\n",
       "                        <tr>\n",
       "                            <th>Teacher</th>\n",
       "                            <th>Observation table</th>\n",
       "                        </tr>\n",
       "                        <tr>\n",
       "                            <td><?xml version=\"1.0\" encoding=\"UTF-8\" standalone=\"no\"?>\n",
       "<!DOCTYPE svg PUBLIC \"-//W3C//DTD SVG 1.1//EN\"\n",
       " \"http://www.w3.org/Graphics/SVG/1.1/DTD/svg11.dtd\">\n",
       "<!-- Generated by graphviz version 2.43.0 (0)\n",
       " -->\n",
       "<!-- Title: G Pages: 1 -->\n",
       "<svg width=\"210pt\" height=\"87pt\"\n",
       " viewBox=\"0.00 0.00 210.00 87.18\" xmlns=\"http://www.w3.org/2000/svg\" xmlns:xlink=\"http://www.w3.org/1999/xlink\">\n",
       "<g id=\"graph0\" class=\"graph\" transform=\"scale(1 1) rotate(0) translate(4 83.18)\">\n",
       "<title>G</title>\n",
       "<polygon fill=\"#272727\" stroke=\"transparent\" points=\"-4,4 -4,-83.18 206,-83.18 206,4 -4,4\"/>\n",
       "<!-- 0 -->\n",
       "<g id=\"node1\" class=\"node\">\n",
       "<title>0</title>\n",
       "<ellipse fill=\"none\" stroke=\"#cccccc\" cx=\"18\" cy=\"-24.18\" rx=\"18\" ry=\"18\"/>\n",
       "<text text-anchor=\"middle\" x=\"18\" y=\"-20.48\" font-family=\"Times,serif\" font-size=\"14.00\" fill=\"#cccccc\">0</text>\n",
       "</g>\n",
       "<!-- 0&#45;&gt;0 -->\n",
       "<g id=\"edge1\" class=\"edge\">\n",
       "<title>0&#45;&gt;0</title>\n",
       "<path fill=\"none\" stroke=\"#cccccc\" d=\"M11.27,-41.22C9.89,-51.04 12.14,-60.18 18,-60.18 21.66,-60.18 23.92,-56.61 24.75,-51.53\"/>\n",
       "<polygon fill=\"#cccccc\" stroke=\"#cccccc\" points=\"28.25,-51.21 24.73,-41.22 21.25,-51.22 28.25,-51.21\"/>\n",
       "<text text-anchor=\"middle\" x=\"18\" y=\"-63.98\" font-family=\"Times,serif\" font-size=\"14.00\" fill=\"#cccccc\">a</text>\n",
       "</g>\n",
       "<!-- 1 -->\n",
       "<g id=\"node2\" class=\"node\">\n",
       "<title>1</title>\n",
       "<ellipse fill=\"none\" stroke=\"#cccccc\" cx=\"101\" cy=\"-24.18\" rx=\"18\" ry=\"18\"/>\n",
       "<ellipse fill=\"none\" stroke=\"#cccccc\" cx=\"101\" cy=\"-24.18\" rx=\"22\" ry=\"22\"/>\n",
       "<text text-anchor=\"middle\" x=\"101\" y=\"-20.48\" font-family=\"Times,serif\" font-size=\"14.00\" fill=\"#cccccc\">1</text>\n",
       "</g>\n",
       "<!-- 0&#45;&gt;1 -->\n",
       "<g id=\"edge2\" class=\"edge\">\n",
       "<title>0&#45;&gt;1</title>\n",
       "<path fill=\"none\" stroke=\"#cccccc\" d=\"M36.18,-24.18C45.61,-24.18 57.6,-24.18 68.64,-24.18\"/>\n",
       "<polygon fill=\"#cccccc\" stroke=\"#cccccc\" points=\"68.81,-27.68 78.81,-24.18 68.81,-20.68 68.81,-27.68\"/>\n",
       "<text text-anchor=\"middle\" x=\"57.5\" y=\"-27.98\" font-family=\"Times,serif\" font-size=\"14.00\" fill=\"#cccccc\">b</text>\n",
       "</g>\n",
       "<!-- 1&#45;&gt;1 -->\n",
       "<g id=\"edge4\" class=\"edge\">\n",
       "<title>1&#45;&gt;1</title>\n",
       "<path fill=\"none\" stroke=\"#cccccc\" d=\"M93.32,-45.17C92.37,-55.27 94.93,-64.18 101,-64.18 104.89,-64.18 107.34,-60.52 108.35,-55.24\"/>\n",
       "<polygon fill=\"#cccccc\" stroke=\"#cccccc\" points=\"111.85,-55.28 108.68,-45.17 104.85,-55.05 111.85,-55.28\"/>\n",
       "<text text-anchor=\"middle\" x=\"101\" y=\"-67.98\" font-family=\"Times,serif\" font-size=\"14.00\" fill=\"#cccccc\">b</text>\n",
       "</g>\n",
       "<!-- 2 -->\n",
       "<g id=\"node3\" class=\"node\">\n",
       "<title>2</title>\n",
       "<ellipse fill=\"none\" stroke=\"#cccccc\" cx=\"184\" cy=\"-24.18\" rx=\"18\" ry=\"18\"/>\n",
       "<text text-anchor=\"middle\" x=\"184\" y=\"-20.48\" font-family=\"Times,serif\" font-size=\"14.00\" fill=\"#cccccc\">2</text>\n",
       "</g>\n",
       "<!-- 1&#45;&gt;2 -->\n",
       "<g id=\"edge3\" class=\"edge\">\n",
       "<title>1&#45;&gt;2</title>\n",
       "<path fill=\"none\" stroke=\"#cccccc\" d=\"M120.06,-35.38C128.43,-39.28 138.58,-42.23 148,-40.18 151.5,-39.42 155.07,-38.27 158.53,-36.94\"/>\n",
       "<polygon fill=\"#cccccc\" stroke=\"#cccccc\" points=\"160.08,-40.08 167.82,-32.84 157.25,-33.68 160.08,-40.08\"/>\n",
       "<text text-anchor=\"middle\" x=\"144.5\" y=\"-43.98\" font-family=\"Times,serif\" font-size=\"14.00\" fill=\"#cccccc\">a</text>\n",
       "</g>\n",
       "<!-- 2&#45;&gt;1 -->\n",
       "<g id=\"edge5\" class=\"edge\">\n",
       "<title>2&#45;&gt;1</title>\n",
       "<path fill=\"none\" stroke=\"#cccccc\" d=\"M165.93,-22.42C160.23,-21.92 153.85,-21.43 148,-21.18 143.28,-20.98 138.3,-21.03 133.42,-21.23\"/>\n",
       "<polygon fill=\"#cccccc\" stroke=\"#cccccc\" points=\"132.83,-17.76 123.06,-21.85 133.25,-24.74 132.83,-17.76\"/>\n",
       "<text text-anchor=\"middle\" x=\"144.5\" y=\"-24.98\" font-family=\"Times,serif\" font-size=\"14.00\" fill=\"#cccccc\">a</text>\n",
       "</g>\n",
       "<!-- 2&#45;&gt;1 -->\n",
       "<g id=\"edge6\" class=\"edge\">\n",
       "<title>2&#45;&gt;1</title>\n",
       "<path fill=\"none\" stroke=\"#cccccc\" d=\"M169.64,-12.75C163.48,-8.21 155.8,-3.51 148,-1.18 140.71,1 133.17,-0.82 126.36,-4.22\"/>\n",
       "<polygon fill=\"#cccccc\" stroke=\"#cccccc\" points=\"124.29,-1.38 117.62,-9.61 127.97,-7.34 124.29,-1.38\"/>\n",
       "<text text-anchor=\"middle\" x=\"144.5\" y=\"-4.98\" font-family=\"Times,serif\" font-size=\"14.00\" fill=\"#cccccc\">b</text>\n",
       "</g>\n",
       "</g>\n",
       "</svg>\n",
       "</td>\n",
       "                            <td>\n",
       "        <table>\n",
       "            <tr><th></th><td>&#x3b5;</td></tr>\n",
       "            <tr><th><font color='red'>&#x3b5;</font></th><td>False</td></tr><tr><th>'a'</th><td>False</td></tr><tr><th><font color='red'>'b'</font></th><td>True</td></tr><tr><th>'ba'</th><td>False</td></tr><tr><th>'bb'</th><td>True</td></tr>\n",
       "        </table>\n",
       "        </td>\n",
       "                        </tr>\n",
       "                    </table>\n",
       "                    "
      ],
      "text/plain": [
       "<IPython.core.display.HTML object>"
      ]
     },
     "metadata": {},
     "output_type": "display_data"
    },
    {
     "data": {
      "text/html": [
       "<?xml version=\"1.0\" encoding=\"UTF-8\" standalone=\"no\"?>\n",
       "<!DOCTYPE svg PUBLIC \"-//W3C//DTD SVG 1.1//EN\"\n",
       " \"http://www.w3.org/Graphics/SVG/1.1/DTD/svg11.dtd\">\n",
       "<!-- Generated by graphviz version 2.43.0 (0)\n",
       " -->\n",
       "<!-- Title: G Pages: 1 -->\n",
       "<svg width=\"131pt\" height=\"85pt\"\n",
       " viewBox=\"0.00 0.00 131.00 85.00\" xmlns=\"http://www.w3.org/2000/svg\" xmlns:xlink=\"http://www.w3.org/1999/xlink\">\n",
       "<g id=\"graph0\" class=\"graph\" transform=\"scale(1 1) rotate(0) translate(4 81)\">\n",
       "<title>G</title>\n",
       "<polygon fill=\"#272727\" stroke=\"transparent\" points=\"-4,4 -4,-81 127,-81 127,4 -4,4\"/>\n",
       "<!-- 0 -->\n",
       "<g id=\"node1\" class=\"node\">\n",
       "<title>0</title>\n",
       "<ellipse fill=\"none\" stroke=\"#cccccc\" cx=\"18\" cy=\"-22\" rx=\"18\" ry=\"18\"/>\n",
       "<text text-anchor=\"middle\" x=\"18\" y=\"-18.3\" font-family=\"Times,serif\" font-size=\"14.00\" fill=\"#cccccc\">0</text>\n",
       "</g>\n",
       "<!-- 0&#45;&gt;0 -->\n",
       "<g id=\"edge1\" class=\"edge\">\n",
       "<title>0&#45;&gt;0</title>\n",
       "<path fill=\"none\" stroke=\"#cccccc\" d=\"M11.27,-39.04C9.89,-48.86 12.14,-58 18,-58 21.66,-58 23.92,-54.43 24.75,-49.35\"/>\n",
       "<polygon fill=\"#cccccc\" stroke=\"#cccccc\" points=\"28.25,-49.03 24.73,-39.04 21.25,-49.04 28.25,-49.03\"/>\n",
       "<text text-anchor=\"middle\" x=\"18\" y=\"-61.8\" font-family=\"Times,serif\" font-size=\"14.00\" fill=\"#cccccc\">a</text>\n",
       "</g>\n",
       "<!-- 1 -->\n",
       "<g id=\"node2\" class=\"node\">\n",
       "<title>1</title>\n",
       "<ellipse fill=\"none\" stroke=\"#cccccc\" cx=\"101\" cy=\"-22\" rx=\"18\" ry=\"18\"/>\n",
       "<ellipse fill=\"none\" stroke=\"#cccccc\" cx=\"101\" cy=\"-22\" rx=\"22\" ry=\"22\"/>\n",
       "<text text-anchor=\"middle\" x=\"101\" y=\"-18.3\" font-family=\"Times,serif\" font-size=\"14.00\" fill=\"#cccccc\">1</text>\n",
       "</g>\n",
       "<!-- 0&#45;&gt;1 -->\n",
       "<g id=\"edge2\" class=\"edge\">\n",
       "<title>0&#45;&gt;1</title>\n",
       "<path fill=\"none\" stroke=\"#cccccc\" d=\"M36.18,-22C45.61,-22 57.6,-22 68.64,-22\"/>\n",
       "<polygon fill=\"#cccccc\" stroke=\"#cccccc\" points=\"68.81,-25.5 78.81,-22 68.81,-18.5 68.81,-25.5\"/>\n",
       "<text text-anchor=\"middle\" x=\"57.5\" y=\"-25.8\" font-family=\"Times,serif\" font-size=\"14.00\" fill=\"#cccccc\">b</text>\n",
       "</g>\n",
       "<!-- 1&#45;&gt;0 -->\n",
       "<g id=\"edge3\" class=\"edge\">\n",
       "<title>1&#45;&gt;0</title>\n",
       "<path fill=\"none\" stroke=\"#cccccc\" d=\"M82.93,-9.2C74.43,-4.33 63.88,-0.49 54,-3 50.04,-4.01 46.05,-5.56 42.24,-7.35\"/>\n",
       "<polygon fill=\"#cccccc\" stroke=\"#cccccc\" points=\"40.48,-4.33 33.31,-12.13 43.78,-10.5 40.48,-4.33\"/>\n",
       "<text text-anchor=\"middle\" x=\"57.5\" y=\"-6.8\" font-family=\"Times,serif\" font-size=\"14.00\" fill=\"#cccccc\">a</text>\n",
       "</g>\n",
       "<!-- 1&#45;&gt;1 -->\n",
       "<g id=\"edge4\" class=\"edge\">\n",
       "<title>1&#45;&gt;1</title>\n",
       "<path fill=\"none\" stroke=\"#cccccc\" d=\"M93.32,-42.99C92.37,-53.09 94.93,-62 101,-62 104.89,-62 107.34,-58.34 108.35,-53.06\"/>\n",
       "<polygon fill=\"#cccccc\" stroke=\"#cccccc\" points=\"111.85,-53.1 108.68,-42.99 104.85,-52.87 111.85,-53.1\"/>\n",
       "<text text-anchor=\"middle\" x=\"101\" y=\"-65.8\" font-family=\"Times,serif\" font-size=\"14.00\" fill=\"#cccccc\">b</text>\n",
       "</g>\n",
       "</g>\n",
       "</svg>\n"
      ],
      "text/plain": [
       "<IPython.core.display.HTML object>"
      ]
     },
     "metadata": {},
     "output_type": "display_data"
    },
    {
     "data": {
      "text/html": [
       "Final states: {1}"
      ],
      "text/plain": [
       "<IPython.core.display.HTML object>"
      ]
     },
     "metadata": {},
     "output_type": "display_data"
    },
    {
     "data": {
      "text/html": [
       "The teacher disagreed: t = 'baa'"
      ],
      "text/plain": [
       "<IPython.core.display.HTML object>"
      ]
     },
     "metadata": {},
     "output_type": "display_data"
    },
    {
     "data": {
      "text/html": [
       "The following prefixes have been added to S: {'baa', 'b', 'ba'}"
      ],
      "text/plain": [
       "<IPython.core.display.HTML object>"
      ]
     },
     "metadata": {},
     "output_type": "display_data"
    },
    {
     "data": {
      "text/html": [
       "S is now equal to {'', 'baa', 'b', 'ba'}"
      ],
      "text/plain": [
       "<IPython.core.display.HTML object>"
      ]
     },
     "metadata": {},
     "output_type": "display_data"
    },
    {
     "data": {
      "text/html": [
       "\n",
       "        <table>\n",
       "            <tr><th></th><td>&#x3b5;</td></tr>\n",
       "            <tr><th><font color='red'>&#x3b5;</font></th><td>False</td></tr><tr><th>'a'</th><td>False</td></tr><tr><th><font color='red'>'b'</font></th><td>True</td></tr><tr><th><font color='red'>'ba'</font></th><td>False</td></tr><tr><th>'bb'</th><td>True</td></tr><tr><th><font color='red'>'baa'</font></th><td>True</td></tr><tr><th>'bab'</th><td>True</td></tr><tr><th>'baab'</th><td>True</td></tr><tr><th>'baaa'</th><td>False</td></tr>\n",
       "        </table>\n",
       "        "
      ],
      "text/plain": [
       "<IPython.core.display.HTML object>"
      ]
     },
     "metadata": {},
     "output_type": "display_data"
    },
    {
     "data": {
      "text/html": [
       "<b>iteration 3</b>"
      ],
      "text/plain": [
       "<IPython.core.display.HTML object>"
      ]
     },
     "metadata": {},
     "output_type": "display_data"
    },
    {
     "data": {
      "text/html": [
       "\n",
       "        <table>\n",
       "            <tr><th></th><td>&#x3b5;</td></tr>\n",
       "            <tr><th><font color='red'>&#x3b5;</font></th><td>False</td></tr><tr><th>'a'</th><td>False</td></tr><tr><th><font color='red'>'b'</font></th><td>True</td></tr><tr><th><font color='red'>'ba'</font></th><td>False</td></tr><tr><th>'bb'</th><td>True</td></tr><tr><th><font color='red'>'baa'</font></th><td>True</td></tr><tr><th>'bab'</th><td>True</td></tr><tr><th>'baab'</th><td>True</td></tr><tr><th>'baaa'</th><td>False</td></tr>\n",
       "        </table>\n",
       "        "
      ],
      "text/plain": [
       "<IPython.core.display.HTML object>"
      ]
     },
     "metadata": {},
     "output_type": "display_data"
    },
    {
     "data": {
      "text/html": [
       "Observation table is not consistent: (s1, s2, a, e) = ('', 'ba', 'a', ''), adding a to E"
      ],
      "text/plain": [
       "<IPython.core.display.HTML object>"
      ]
     },
     "metadata": {},
     "output_type": "display_data"
    },
    {
     "data": {
      "text/html": [
       "Observation table is closed and consistent"
      ],
      "text/plain": [
       "<IPython.core.display.HTML object>"
      ]
     },
     "metadata": {},
     "output_type": "display_data"
    },
    {
     "data": {
      "text/html": [
       "\n",
       "                    <table>\n",
       "                        <tr>\n",
       "                            <th>Teacher</th>\n",
       "                            <th>Observation table</th>\n",
       "                        </tr>\n",
       "                        <tr>\n",
       "                            <td><?xml version=\"1.0\" encoding=\"UTF-8\" standalone=\"no\"?>\n",
       "<!DOCTYPE svg PUBLIC \"-//W3C//DTD SVG 1.1//EN\"\n",
       " \"http://www.w3.org/Graphics/SVG/1.1/DTD/svg11.dtd\">\n",
       "<!-- Generated by graphviz version 2.43.0 (0)\n",
       " -->\n",
       "<!-- Title: G Pages: 1 -->\n",
       "<svg width=\"210pt\" height=\"87pt\"\n",
       " viewBox=\"0.00 0.00 210.00 87.18\" xmlns=\"http://www.w3.org/2000/svg\" xmlns:xlink=\"http://www.w3.org/1999/xlink\">\n",
       "<g id=\"graph0\" class=\"graph\" transform=\"scale(1 1) rotate(0) translate(4 83.18)\">\n",
       "<title>G</title>\n",
       "<polygon fill=\"#272727\" stroke=\"transparent\" points=\"-4,4 -4,-83.18 206,-83.18 206,4 -4,4\"/>\n",
       "<!-- 0 -->\n",
       "<g id=\"node1\" class=\"node\">\n",
       "<title>0</title>\n",
       "<ellipse fill=\"none\" stroke=\"#cccccc\" cx=\"18\" cy=\"-24.18\" rx=\"18\" ry=\"18\"/>\n",
       "<text text-anchor=\"middle\" x=\"18\" y=\"-20.48\" font-family=\"Times,serif\" font-size=\"14.00\" fill=\"#cccccc\">0</text>\n",
       "</g>\n",
       "<!-- 0&#45;&gt;0 -->\n",
       "<g id=\"edge1\" class=\"edge\">\n",
       "<title>0&#45;&gt;0</title>\n",
       "<path fill=\"none\" stroke=\"#cccccc\" d=\"M11.27,-41.22C9.89,-51.04 12.14,-60.18 18,-60.18 21.66,-60.18 23.92,-56.61 24.75,-51.53\"/>\n",
       "<polygon fill=\"#cccccc\" stroke=\"#cccccc\" points=\"28.25,-51.21 24.73,-41.22 21.25,-51.22 28.25,-51.21\"/>\n",
       "<text text-anchor=\"middle\" x=\"18\" y=\"-63.98\" font-family=\"Times,serif\" font-size=\"14.00\" fill=\"#cccccc\">a</text>\n",
       "</g>\n",
       "<!-- 1 -->\n",
       "<g id=\"node2\" class=\"node\">\n",
       "<title>1</title>\n",
       "<ellipse fill=\"none\" stroke=\"#cccccc\" cx=\"101\" cy=\"-24.18\" rx=\"18\" ry=\"18\"/>\n",
       "<ellipse fill=\"none\" stroke=\"#cccccc\" cx=\"101\" cy=\"-24.18\" rx=\"22\" ry=\"22\"/>\n",
       "<text text-anchor=\"middle\" x=\"101\" y=\"-20.48\" font-family=\"Times,serif\" font-size=\"14.00\" fill=\"#cccccc\">1</text>\n",
       "</g>\n",
       "<!-- 0&#45;&gt;1 -->\n",
       "<g id=\"edge2\" class=\"edge\">\n",
       "<title>0&#45;&gt;1</title>\n",
       "<path fill=\"none\" stroke=\"#cccccc\" d=\"M36.18,-24.18C45.61,-24.18 57.6,-24.18 68.64,-24.18\"/>\n",
       "<polygon fill=\"#cccccc\" stroke=\"#cccccc\" points=\"68.81,-27.68 78.81,-24.18 68.81,-20.68 68.81,-27.68\"/>\n",
       "<text text-anchor=\"middle\" x=\"57.5\" y=\"-27.98\" font-family=\"Times,serif\" font-size=\"14.00\" fill=\"#cccccc\">b</text>\n",
       "</g>\n",
       "<!-- 1&#45;&gt;1 -->\n",
       "<g id=\"edge4\" class=\"edge\">\n",
       "<title>1&#45;&gt;1</title>\n",
       "<path fill=\"none\" stroke=\"#cccccc\" d=\"M93.32,-45.17C92.37,-55.27 94.93,-64.18 101,-64.18 104.89,-64.18 107.34,-60.52 108.35,-55.24\"/>\n",
       "<polygon fill=\"#cccccc\" stroke=\"#cccccc\" points=\"111.85,-55.28 108.68,-45.17 104.85,-55.05 111.85,-55.28\"/>\n",
       "<text text-anchor=\"middle\" x=\"101\" y=\"-67.98\" font-family=\"Times,serif\" font-size=\"14.00\" fill=\"#cccccc\">b</text>\n",
       "</g>\n",
       "<!-- 2 -->\n",
       "<g id=\"node3\" class=\"node\">\n",
       "<title>2</title>\n",
       "<ellipse fill=\"none\" stroke=\"#cccccc\" cx=\"184\" cy=\"-24.18\" rx=\"18\" ry=\"18\"/>\n",
       "<text text-anchor=\"middle\" x=\"184\" y=\"-20.48\" font-family=\"Times,serif\" font-size=\"14.00\" fill=\"#cccccc\">2</text>\n",
       "</g>\n",
       "<!-- 1&#45;&gt;2 -->\n",
       "<g id=\"edge3\" class=\"edge\">\n",
       "<title>1&#45;&gt;2</title>\n",
       "<path fill=\"none\" stroke=\"#cccccc\" d=\"M120.06,-35.38C128.43,-39.28 138.58,-42.23 148,-40.18 151.5,-39.42 155.07,-38.27 158.53,-36.94\"/>\n",
       "<polygon fill=\"#cccccc\" stroke=\"#cccccc\" points=\"160.08,-40.08 167.82,-32.84 157.25,-33.68 160.08,-40.08\"/>\n",
       "<text text-anchor=\"middle\" x=\"144.5\" y=\"-43.98\" font-family=\"Times,serif\" font-size=\"14.00\" fill=\"#cccccc\">a</text>\n",
       "</g>\n",
       "<!-- 2&#45;&gt;1 -->\n",
       "<g id=\"edge5\" class=\"edge\">\n",
       "<title>2&#45;&gt;1</title>\n",
       "<path fill=\"none\" stroke=\"#cccccc\" d=\"M165.93,-22.42C160.23,-21.92 153.85,-21.43 148,-21.18 143.28,-20.98 138.3,-21.03 133.42,-21.23\"/>\n",
       "<polygon fill=\"#cccccc\" stroke=\"#cccccc\" points=\"132.83,-17.76 123.06,-21.85 133.25,-24.74 132.83,-17.76\"/>\n",
       "<text text-anchor=\"middle\" x=\"144.5\" y=\"-24.98\" font-family=\"Times,serif\" font-size=\"14.00\" fill=\"#cccccc\">a</text>\n",
       "</g>\n",
       "<!-- 2&#45;&gt;1 -->\n",
       "<g id=\"edge6\" class=\"edge\">\n",
       "<title>2&#45;&gt;1</title>\n",
       "<path fill=\"none\" stroke=\"#cccccc\" d=\"M169.64,-12.75C163.48,-8.21 155.8,-3.51 148,-1.18 140.71,1 133.17,-0.82 126.36,-4.22\"/>\n",
       "<polygon fill=\"#cccccc\" stroke=\"#cccccc\" points=\"124.29,-1.38 117.62,-9.61 127.97,-7.34 124.29,-1.38\"/>\n",
       "<text text-anchor=\"middle\" x=\"144.5\" y=\"-4.98\" font-family=\"Times,serif\" font-size=\"14.00\" fill=\"#cccccc\">b</text>\n",
       "</g>\n",
       "</g>\n",
       "</svg>\n",
       "</td>\n",
       "                            <td>\n",
       "        <table>\n",
       "            <tr><th></th><td>&#x3b5;</td><td>'a'</td></tr>\n",
       "            <tr><th><font color='red'>&#x3b5;</font></th><td>False</td><td>False</td></tr><tr><th>'a'</th><td>False</td><td>False</td></tr><tr><th><font color='red'>'b'</font></th><td>True</td><td>False</td></tr><tr><th><font color='red'>'ba'</font></th><td>False</td><td>True</td></tr><tr><th>'bb'</th><td>True</td><td>False</td></tr><tr><th><font color='red'>'baa'</font></th><td>True</td><td>False</td></tr><tr><th>'bab'</th><td>True</td><td>False</td></tr><tr><th>'baab'</th><td>True</td><td>False</td></tr><tr><th>'baaa'</th><td>False</td><td>True</td></tr>\n",
       "        </table>\n",
       "        </td>\n",
       "                        </tr>\n",
       "                    </table>\n",
       "                    "
      ],
      "text/plain": [
       "<IPython.core.display.HTML object>"
      ]
     },
     "metadata": {},
     "output_type": "display_data"
    },
    {
     "data": {
      "text/html": [
       "<?xml version=\"1.0\" encoding=\"UTF-8\" standalone=\"no\"?>\n",
       "<!DOCTYPE svg PUBLIC \"-//W3C//DTD SVG 1.1//EN\"\n",
       " \"http://www.w3.org/Graphics/SVG/1.1/DTD/svg11.dtd\">\n",
       "<!-- Generated by graphviz version 2.43.0 (0)\n",
       " -->\n",
       "<!-- Title: G Pages: 1 -->\n",
       "<svg width=\"210pt\" height=\"87pt\"\n",
       " viewBox=\"0.00 0.00 210.00 87.18\" xmlns=\"http://www.w3.org/2000/svg\" xmlns:xlink=\"http://www.w3.org/1999/xlink\">\n",
       "<g id=\"graph0\" class=\"graph\" transform=\"scale(1 1) rotate(0) translate(4 83.18)\">\n",
       "<title>G</title>\n",
       "<polygon fill=\"#272727\" stroke=\"transparent\" points=\"-4,4 -4,-83.18 206,-83.18 206,4 -4,4\"/>\n",
       "<!-- 0 -->\n",
       "<g id=\"node1\" class=\"node\">\n",
       "<title>0</title>\n",
       "<ellipse fill=\"none\" stroke=\"#cccccc\" cx=\"18\" cy=\"-24.18\" rx=\"18\" ry=\"18\"/>\n",
       "<text text-anchor=\"middle\" x=\"18\" y=\"-20.48\" font-family=\"Times,serif\" font-size=\"14.00\" fill=\"#cccccc\">0</text>\n",
       "</g>\n",
       "<!-- 0&#45;&gt;0 -->\n",
       "<g id=\"edge1\" class=\"edge\">\n",
       "<title>0&#45;&gt;0</title>\n",
       "<path fill=\"none\" stroke=\"#cccccc\" d=\"M11.27,-41.22C9.89,-51.04 12.14,-60.18 18,-60.18 21.66,-60.18 23.92,-56.61 24.75,-51.53\"/>\n",
       "<polygon fill=\"#cccccc\" stroke=\"#cccccc\" points=\"28.25,-51.21 24.73,-41.22 21.25,-51.22 28.25,-51.21\"/>\n",
       "<text text-anchor=\"middle\" x=\"18\" y=\"-63.98\" font-family=\"Times,serif\" font-size=\"14.00\" fill=\"#cccccc\">a</text>\n",
       "</g>\n",
       "<!-- 1 -->\n",
       "<g id=\"node2\" class=\"node\">\n",
       "<title>1</title>\n",
       "<ellipse fill=\"none\" stroke=\"#cccccc\" cx=\"101\" cy=\"-24.18\" rx=\"18\" ry=\"18\"/>\n",
       "<ellipse fill=\"none\" stroke=\"#cccccc\" cx=\"101\" cy=\"-24.18\" rx=\"22\" ry=\"22\"/>\n",
       "<text text-anchor=\"middle\" x=\"101\" y=\"-20.48\" font-family=\"Times,serif\" font-size=\"14.00\" fill=\"#cccccc\">1</text>\n",
       "</g>\n",
       "<!-- 0&#45;&gt;1 -->\n",
       "<g id=\"edge2\" class=\"edge\">\n",
       "<title>0&#45;&gt;1</title>\n",
       "<path fill=\"none\" stroke=\"#cccccc\" d=\"M36.18,-24.18C45.61,-24.18 57.6,-24.18 68.64,-24.18\"/>\n",
       "<polygon fill=\"#cccccc\" stroke=\"#cccccc\" points=\"68.81,-27.68 78.81,-24.18 68.81,-20.68 68.81,-27.68\"/>\n",
       "<text text-anchor=\"middle\" x=\"57.5\" y=\"-27.98\" font-family=\"Times,serif\" font-size=\"14.00\" fill=\"#cccccc\">b</text>\n",
       "</g>\n",
       "<!-- 1&#45;&gt;1 -->\n",
       "<g id=\"edge4\" class=\"edge\">\n",
       "<title>1&#45;&gt;1</title>\n",
       "<path fill=\"none\" stroke=\"#cccccc\" d=\"M93.32,-45.17C92.37,-55.27 94.93,-64.18 101,-64.18 104.89,-64.18 107.34,-60.52 108.35,-55.24\"/>\n",
       "<polygon fill=\"#cccccc\" stroke=\"#cccccc\" points=\"111.85,-55.28 108.68,-45.17 104.85,-55.05 111.85,-55.28\"/>\n",
       "<text text-anchor=\"middle\" x=\"101\" y=\"-67.98\" font-family=\"Times,serif\" font-size=\"14.00\" fill=\"#cccccc\">b</text>\n",
       "</g>\n",
       "<!-- 2 -->\n",
       "<g id=\"node3\" class=\"node\">\n",
       "<title>2</title>\n",
       "<ellipse fill=\"none\" stroke=\"#cccccc\" cx=\"184\" cy=\"-24.18\" rx=\"18\" ry=\"18\"/>\n",
       "<text text-anchor=\"middle\" x=\"184\" y=\"-20.48\" font-family=\"Times,serif\" font-size=\"14.00\" fill=\"#cccccc\">2</text>\n",
       "</g>\n",
       "<!-- 1&#45;&gt;2 -->\n",
       "<g id=\"edge3\" class=\"edge\">\n",
       "<title>1&#45;&gt;2</title>\n",
       "<path fill=\"none\" stroke=\"#cccccc\" d=\"M120.06,-35.38C128.43,-39.28 138.58,-42.23 148,-40.18 151.5,-39.42 155.07,-38.27 158.53,-36.94\"/>\n",
       "<polygon fill=\"#cccccc\" stroke=\"#cccccc\" points=\"160.08,-40.08 167.82,-32.84 157.25,-33.68 160.08,-40.08\"/>\n",
       "<text text-anchor=\"middle\" x=\"144.5\" y=\"-43.98\" font-family=\"Times,serif\" font-size=\"14.00\" fill=\"#cccccc\">a</text>\n",
       "</g>\n",
       "<!-- 2&#45;&gt;1 -->\n",
       "<g id=\"edge5\" class=\"edge\">\n",
       "<title>2&#45;&gt;1</title>\n",
       "<path fill=\"none\" stroke=\"#cccccc\" d=\"M165.93,-22.42C160.23,-21.92 153.85,-21.43 148,-21.18 143.28,-20.98 138.3,-21.03 133.42,-21.23\"/>\n",
       "<polygon fill=\"#cccccc\" stroke=\"#cccccc\" points=\"132.83,-17.76 123.06,-21.85 133.25,-24.74 132.83,-17.76\"/>\n",
       "<text text-anchor=\"middle\" x=\"144.5\" y=\"-24.98\" font-family=\"Times,serif\" font-size=\"14.00\" fill=\"#cccccc\">a</text>\n",
       "</g>\n",
       "<!-- 2&#45;&gt;1 -->\n",
       "<g id=\"edge6\" class=\"edge\">\n",
       "<title>2&#45;&gt;1</title>\n",
       "<path fill=\"none\" stroke=\"#cccccc\" d=\"M169.64,-12.75C163.48,-8.21 155.8,-3.51 148,-1.18 140.71,1 133.17,-0.82 126.36,-4.22\"/>\n",
       "<polygon fill=\"#cccccc\" stroke=\"#cccccc\" points=\"124.29,-1.38 117.62,-9.61 127.97,-7.34 124.29,-1.38\"/>\n",
       "<text text-anchor=\"middle\" x=\"144.5\" y=\"-4.98\" font-family=\"Times,serif\" font-size=\"14.00\" fill=\"#cccccc\">b</text>\n",
       "</g>\n",
       "</g>\n",
       "</svg>\n"
      ],
      "text/plain": [
       "<IPython.core.display.HTML object>"
      ]
     },
     "metadata": {},
     "output_type": "display_data"
    },
    {
     "data": {
      "text/html": [
       "Final states: {1}"
      ],
      "text/plain": [
       "<IPython.core.display.HTML object>"
      ]
     },
     "metadata": {},
     "output_type": "display_data"
    },
    {
     "data": {
      "text/html": [
       "<b>Learner</b>"
      ],
      "text/plain": [
       "<IPython.core.display.HTML object>"
      ]
     },
     "metadata": {},
     "output_type": "display_data"
    },
    {
     "data": {
      "text/html": [
       "<?xml version=\"1.0\" encoding=\"UTF-8\" standalone=\"no\"?>\n",
       "<!DOCTYPE svg PUBLIC \"-//W3C//DTD SVG 1.1//EN\"\n",
       " \"http://www.w3.org/Graphics/SVG/1.1/DTD/svg11.dtd\">\n",
       "<!-- Generated by graphviz version 2.43.0 (0)\n",
       " -->\n",
       "<!-- Title: G Pages: 1 -->\n",
       "<svg width=\"210pt\" height=\"87pt\"\n",
       " viewBox=\"0.00 0.00 210.00 87.18\" xmlns=\"http://www.w3.org/2000/svg\" xmlns:xlink=\"http://www.w3.org/1999/xlink\">\n",
       "<g id=\"graph0\" class=\"graph\" transform=\"scale(1 1) rotate(0) translate(4 83.18)\">\n",
       "<title>G</title>\n",
       "<polygon fill=\"#272727\" stroke=\"transparent\" points=\"-4,4 -4,-83.18 206,-83.18 206,4 -4,4\"/>\n",
       "<!-- 0 -->\n",
       "<g id=\"node1\" class=\"node\">\n",
       "<title>0</title>\n",
       "<ellipse fill=\"none\" stroke=\"#cccccc\" cx=\"18\" cy=\"-24.18\" rx=\"18\" ry=\"18\"/>\n",
       "<text text-anchor=\"middle\" x=\"18\" y=\"-20.48\" font-family=\"Times,serif\" font-size=\"14.00\" fill=\"#cccccc\">0</text>\n",
       "</g>\n",
       "<!-- 0&#45;&gt;0 -->\n",
       "<g id=\"edge1\" class=\"edge\">\n",
       "<title>0&#45;&gt;0</title>\n",
       "<path fill=\"none\" stroke=\"#cccccc\" d=\"M11.27,-41.22C9.89,-51.04 12.14,-60.18 18,-60.18 21.66,-60.18 23.92,-56.61 24.75,-51.53\"/>\n",
       "<polygon fill=\"#cccccc\" stroke=\"#cccccc\" points=\"28.25,-51.21 24.73,-41.22 21.25,-51.22 28.25,-51.21\"/>\n",
       "<text text-anchor=\"middle\" x=\"18\" y=\"-63.98\" font-family=\"Times,serif\" font-size=\"14.00\" fill=\"#cccccc\">a</text>\n",
       "</g>\n",
       "<!-- 1 -->\n",
       "<g id=\"node2\" class=\"node\">\n",
       "<title>1</title>\n",
       "<ellipse fill=\"none\" stroke=\"#cccccc\" cx=\"101\" cy=\"-24.18\" rx=\"18\" ry=\"18\"/>\n",
       "<ellipse fill=\"none\" stroke=\"#cccccc\" cx=\"101\" cy=\"-24.18\" rx=\"22\" ry=\"22\"/>\n",
       "<text text-anchor=\"middle\" x=\"101\" y=\"-20.48\" font-family=\"Times,serif\" font-size=\"14.00\" fill=\"#cccccc\">1</text>\n",
       "</g>\n",
       "<!-- 0&#45;&gt;1 -->\n",
       "<g id=\"edge2\" class=\"edge\">\n",
       "<title>0&#45;&gt;1</title>\n",
       "<path fill=\"none\" stroke=\"#cccccc\" d=\"M36.18,-24.18C45.61,-24.18 57.6,-24.18 68.64,-24.18\"/>\n",
       "<polygon fill=\"#cccccc\" stroke=\"#cccccc\" points=\"68.81,-27.68 78.81,-24.18 68.81,-20.68 68.81,-27.68\"/>\n",
       "<text text-anchor=\"middle\" x=\"57.5\" y=\"-27.98\" font-family=\"Times,serif\" font-size=\"14.00\" fill=\"#cccccc\">b</text>\n",
       "</g>\n",
       "<!-- 1&#45;&gt;1 -->\n",
       "<g id=\"edge4\" class=\"edge\">\n",
       "<title>1&#45;&gt;1</title>\n",
       "<path fill=\"none\" stroke=\"#cccccc\" d=\"M93.32,-45.17C92.37,-55.27 94.93,-64.18 101,-64.18 104.89,-64.18 107.34,-60.52 108.35,-55.24\"/>\n",
       "<polygon fill=\"#cccccc\" stroke=\"#cccccc\" points=\"111.85,-55.28 108.68,-45.17 104.85,-55.05 111.85,-55.28\"/>\n",
       "<text text-anchor=\"middle\" x=\"101\" y=\"-67.98\" font-family=\"Times,serif\" font-size=\"14.00\" fill=\"#cccccc\">b</text>\n",
       "</g>\n",
       "<!-- 2 -->\n",
       "<g id=\"node3\" class=\"node\">\n",
       "<title>2</title>\n",
       "<ellipse fill=\"none\" stroke=\"#cccccc\" cx=\"184\" cy=\"-24.18\" rx=\"18\" ry=\"18\"/>\n",
       "<text text-anchor=\"middle\" x=\"184\" y=\"-20.48\" font-family=\"Times,serif\" font-size=\"14.00\" fill=\"#cccccc\">2</text>\n",
       "</g>\n",
       "<!-- 1&#45;&gt;2 -->\n",
       "<g id=\"edge3\" class=\"edge\">\n",
       "<title>1&#45;&gt;2</title>\n",
       "<path fill=\"none\" stroke=\"#cccccc\" d=\"M120.06,-35.38C128.43,-39.28 138.58,-42.23 148,-40.18 151.5,-39.42 155.07,-38.27 158.53,-36.94\"/>\n",
       "<polygon fill=\"#cccccc\" stroke=\"#cccccc\" points=\"160.08,-40.08 167.82,-32.84 157.25,-33.68 160.08,-40.08\"/>\n",
       "<text text-anchor=\"middle\" x=\"144.5\" y=\"-43.98\" font-family=\"Times,serif\" font-size=\"14.00\" fill=\"#cccccc\">a</text>\n",
       "</g>\n",
       "<!-- 2&#45;&gt;1 -->\n",
       "<g id=\"edge5\" class=\"edge\">\n",
       "<title>2&#45;&gt;1</title>\n",
       "<path fill=\"none\" stroke=\"#cccccc\" d=\"M165.93,-22.42C160.23,-21.92 153.85,-21.43 148,-21.18 143.28,-20.98 138.3,-21.03 133.42,-21.23\"/>\n",
       "<polygon fill=\"#cccccc\" stroke=\"#cccccc\" points=\"132.83,-17.76 123.06,-21.85 133.25,-24.74 132.83,-17.76\"/>\n",
       "<text text-anchor=\"middle\" x=\"144.5\" y=\"-24.98\" font-family=\"Times,serif\" font-size=\"14.00\" fill=\"#cccccc\">a</text>\n",
       "</g>\n",
       "<!-- 2&#45;&gt;1 -->\n",
       "<g id=\"edge6\" class=\"edge\">\n",
       "<title>2&#45;&gt;1</title>\n",
       "<path fill=\"none\" stroke=\"#cccccc\" d=\"M169.64,-12.75C163.48,-8.21 155.8,-3.51 148,-1.18 140.71,1 133.17,-0.82 126.36,-4.22\"/>\n",
       "<polygon fill=\"#cccccc\" stroke=\"#cccccc\" points=\"124.29,-1.38 117.62,-9.61 127.97,-7.34 124.29,-1.38\"/>\n",
       "<text text-anchor=\"middle\" x=\"144.5\" y=\"-4.98\" font-family=\"Times,serif\" font-size=\"14.00\" fill=\"#cccccc\">b</text>\n",
       "</g>\n",
       "</g>\n",
       "</svg>\n"
      ],
      "text/plain": [
       "<IPython.core.display.HTML object>"
      ]
     },
     "metadata": {},
     "output_type": "display_data"
    },
    {
     "data": {
      "text/html": [
       ":-)"
      ],
      "text/plain": [
       "<IPython.core.display.HTML object>"
      ]
     },
     "metadata": {},
     "output_type": "display_data"
    }
   ],
   "source": [
    "G_DEMO = make_automaton(\n",
    "    [\n",
    "        (0, 0, 'a'), (0, 1, 'b'),\n",
    "        (1, 2, 'a'), (1, 1, 'b'),\n",
    "        (2, 1, 'a'), (2, 1, 'b'),\n",
    "    ], 0, make_func_property_map(lambda q: q in {1})\n",
    ")\n",
    "\n",
    "test_learner(G_DEMO, verbose=True)"
   ]
  },
  {
   "cell_type": "markdown",
   "metadata": {},
   "source": [
    "# Sandbox (for slides)"
   ]
  },
  {
   "cell_type": "code",
   "execution_count": 10,
   "metadata": {
    "ExecuteTime": {
     "end_time": "2020-03-09T14:20:41.870323Z",
     "start_time": "2020-03-09T14:20:41.820751Z"
    }
   },
   "outputs": [
    {
     "data": {
      "text/html": [
       "<?xml version=\"1.0\" encoding=\"UTF-8\" standalone=\"no\"?>\n",
       "<!DOCTYPE svg PUBLIC \"-//W3C//DTD SVG 1.1//EN\"\n",
       " \"http://www.w3.org/Graphics/SVG/1.1/DTD/svg11.dtd\">\n",
       "<!-- Generated by graphviz version 2.43.0 (0)\n",
       " -->\n",
       "<!-- Title: G Pages: 1 -->\n",
       "<svg width=\"210pt\" height=\"87pt\"\n",
       " viewBox=\"0.00 0.00 210.00 87.18\" xmlns=\"http://www.w3.org/2000/svg\" xmlns:xlink=\"http://www.w3.org/1999/xlink\">\n",
       "<g id=\"graph0\" class=\"graph\" transform=\"scale(1 1) rotate(0) translate(4 83.18)\">\n",
       "<title>G</title>\n",
       "<polygon fill=\"#272727\" stroke=\"transparent\" points=\"-4,4 -4,-83.18 206,-83.18 206,4 -4,4\"/>\n",
       "<!-- 0 -->\n",
       "<g id=\"node1\" class=\"node\">\n",
       "<title>0</title>\n",
       "<ellipse fill=\"none\" stroke=\"#cccccc\" cx=\"18\" cy=\"-24.18\" rx=\"18\" ry=\"18\"/>\n",
       "<text text-anchor=\"middle\" x=\"18\" y=\"-20.48\" font-family=\"Times,serif\" font-size=\"14.00\" fill=\"#cccccc\">0</text>\n",
       "</g>\n",
       "<!-- 0&#45;&gt;0 -->\n",
       "<g id=\"edge1\" class=\"edge\">\n",
       "<title>0&#45;&gt;0</title>\n",
       "<path fill=\"none\" stroke=\"#cccccc\" d=\"M11.27,-41.22C9.89,-51.04 12.14,-60.18 18,-60.18 21.66,-60.18 23.92,-56.61 24.75,-51.53\"/>\n",
       "<polygon fill=\"#cccccc\" stroke=\"#cccccc\" points=\"28.25,-51.21 24.73,-41.22 21.25,-51.22 28.25,-51.21\"/>\n",
       "<text text-anchor=\"middle\" x=\"18\" y=\"-63.98\" font-family=\"Times,serif\" font-size=\"14.00\" fill=\"#cccccc\">a</text>\n",
       "</g>\n",
       "<!-- 1 -->\n",
       "<g id=\"node2\" class=\"node\">\n",
       "<title>1</title>\n",
       "<ellipse fill=\"none\" stroke=\"#cccccc\" cx=\"101\" cy=\"-24.18\" rx=\"18\" ry=\"18\"/>\n",
       "<ellipse fill=\"none\" stroke=\"#cccccc\" cx=\"101\" cy=\"-24.18\" rx=\"22\" ry=\"22\"/>\n",
       "<text text-anchor=\"middle\" x=\"101\" y=\"-20.48\" font-family=\"Times,serif\" font-size=\"14.00\" fill=\"#cccccc\">1</text>\n",
       "</g>\n",
       "<!-- 0&#45;&gt;1 -->\n",
       "<g id=\"edge2\" class=\"edge\">\n",
       "<title>0&#45;&gt;1</title>\n",
       "<path fill=\"none\" stroke=\"#cccccc\" d=\"M36.18,-24.18C45.61,-24.18 57.6,-24.18 68.64,-24.18\"/>\n",
       "<polygon fill=\"#cccccc\" stroke=\"#cccccc\" points=\"68.81,-27.68 78.81,-24.18 68.81,-20.68 68.81,-27.68\"/>\n",
       "<text text-anchor=\"middle\" x=\"57.5\" y=\"-27.98\" font-family=\"Times,serif\" font-size=\"14.00\" fill=\"#cccccc\">b</text>\n",
       "</g>\n",
       "<!-- 1&#45;&gt;1 -->\n",
       "<g id=\"edge4\" class=\"edge\">\n",
       "<title>1&#45;&gt;1</title>\n",
       "<path fill=\"none\" stroke=\"#cccccc\" d=\"M93.32,-45.17C92.37,-55.27 94.93,-64.18 101,-64.18 104.89,-64.18 107.34,-60.52 108.35,-55.24\"/>\n",
       "<polygon fill=\"#cccccc\" stroke=\"#cccccc\" points=\"111.85,-55.28 108.68,-45.17 104.85,-55.05 111.85,-55.28\"/>\n",
       "<text text-anchor=\"middle\" x=\"101\" y=\"-67.98\" font-family=\"Times,serif\" font-size=\"14.00\" fill=\"#cccccc\">b</text>\n",
       "</g>\n",
       "<!-- 2 -->\n",
       "<g id=\"node3\" class=\"node\">\n",
       "<title>2</title>\n",
       "<ellipse fill=\"none\" stroke=\"#cccccc\" cx=\"184\" cy=\"-24.18\" rx=\"18\" ry=\"18\"/>\n",
       "<text text-anchor=\"middle\" x=\"184\" y=\"-20.48\" font-family=\"Times,serif\" font-size=\"14.00\" fill=\"#cccccc\">2</text>\n",
       "</g>\n",
       "<!-- 1&#45;&gt;2 -->\n",
       "<g id=\"edge3\" class=\"edge\">\n",
       "<title>1&#45;&gt;2</title>\n",
       "<path fill=\"none\" stroke=\"#cccccc\" d=\"M120.06,-35.38C128.43,-39.28 138.58,-42.23 148,-40.18 151.5,-39.42 155.07,-38.27 158.53,-36.94\"/>\n",
       "<polygon fill=\"#cccccc\" stroke=\"#cccccc\" points=\"160.08,-40.08 167.82,-32.84 157.25,-33.68 160.08,-40.08\"/>\n",
       "<text text-anchor=\"middle\" x=\"144.5\" y=\"-43.98\" font-family=\"Times,serif\" font-size=\"14.00\" fill=\"#cccccc\">a</text>\n",
       "</g>\n",
       "<!-- 2&#45;&gt;1 -->\n",
       "<g id=\"edge5\" class=\"edge\">\n",
       "<title>2&#45;&gt;1</title>\n",
       "<path fill=\"none\" stroke=\"#cccccc\" d=\"M165.93,-22.42C160.23,-21.92 153.85,-21.43 148,-21.18 143.28,-20.98 138.3,-21.03 133.42,-21.23\"/>\n",
       "<polygon fill=\"#cccccc\" stroke=\"#cccccc\" points=\"132.83,-17.76 123.06,-21.85 133.25,-24.74 132.83,-17.76\"/>\n",
       "<text text-anchor=\"middle\" x=\"144.5\" y=\"-24.98\" font-family=\"Times,serif\" font-size=\"14.00\" fill=\"#cccccc\">a</text>\n",
       "</g>\n",
       "<!-- 2&#45;&gt;1 -->\n",
       "<g id=\"edge6\" class=\"edge\">\n",
       "<title>2&#45;&gt;1</title>\n",
       "<path fill=\"none\" stroke=\"#cccccc\" d=\"M169.64,-12.75C163.48,-8.21 155.8,-3.51 148,-1.18 140.71,1 133.17,-0.82 126.36,-4.22\"/>\n",
       "<polygon fill=\"#cccccc\" stroke=\"#cccccc\" points=\"124.29,-1.38 117.62,-9.61 127.97,-7.34 124.29,-1.38\"/>\n",
       "<text text-anchor=\"middle\" x=\"144.5\" y=\"-4.98\" font-family=\"Times,serif\" font-size=\"14.00\" fill=\"#cccccc\">b</text>\n",
       "</g>\n",
       "</g>\n",
       "</svg>\n"
      ],
      "text/plain": [
       "<IPython.core.display.HTML object>"
      ]
     },
     "metadata": {},
     "output_type": "display_data"
    },
    {
     "name": "stdout",
     "output_type": "stream",
     "text": [
      "Writting [./out_automaton.svg]\n"
     ]
    }
   ],
   "source": [
    "import os\n",
    "from pybgl.graphviz import dotstr_to_html\n",
    "from pybgl.html     import html\n",
    "\n",
    "PREFIX = \"./\"\n",
    "\n",
    "def write_automaton(g :Automaton, filename :str):\n",
    "    svg = dotstr_to_html(g.to_dot())\n",
    "    html(svg)\n",
    "    with open(filename, \"w\") as f:\n",
    "        print(\"Writting [%s]\" % filename)\n",
    "        print(svg, file=f)\n",
    "    \n",
    "write_automaton(G1, os.path.join(PREFIX, \"out_automaton.svg\"))"
   ]
  },
  {
   "cell_type": "code",
   "execution_count": 13,
   "metadata": {
    "ExecuteTime": {
     "end_time": "2020-03-09T14:21:08.238774Z",
     "start_time": "2020-03-09T14:21:08.180024Z"
    }
   },
   "outputs": [
    {
     "data": {
      "text/html": [
       "<?xml version=\"1.0\" encoding=\"UTF-8\" standalone=\"no\"?>\n",
       "<!DOCTYPE svg PUBLIC \"-//W3C//DTD SVG 1.1//EN\"\n",
       " \"http://www.w3.org/Graphics/SVG/1.1/DTD/svg11.dtd\">\n",
       "<!-- Generated by graphviz version 2.43.0 (0)\n",
       " -->\n",
       "<!-- Title: G Pages: 1 -->\n",
       "<svg width=\"131pt\" height=\"85pt\"\n",
       " viewBox=\"0.00 0.00 131.00 85.00\" xmlns=\"http://www.w3.org/2000/svg\" xmlns:xlink=\"http://www.w3.org/1999/xlink\">\n",
       "<g id=\"graph0\" class=\"graph\" transform=\"scale(1 1) rotate(0) translate(4 81)\">\n",
       "<title>G</title>\n",
       "<polygon fill=\"#272727\" stroke=\"transparent\" points=\"-4,4 -4,-81 127,-81 127,4 -4,4\"/>\n",
       "<!-- 0 -->\n",
       "<g id=\"node1\" class=\"node\">\n",
       "<title>0</title>\n",
       "<ellipse fill=\"none\" stroke=\"#cccccc\" cx=\"18\" cy=\"-22\" rx=\"18\" ry=\"18\"/>\n",
       "<text text-anchor=\"middle\" x=\"18\" y=\"-18.3\" font-family=\"Times,serif\" font-size=\"14.00\" fill=\"#cccccc\">0</text>\n",
       "</g>\n",
       "<!-- 0&#45;&gt;0 -->\n",
       "<g id=\"edge1\" class=\"edge\">\n",
       "<title>0&#45;&gt;0</title>\n",
       "<path fill=\"none\" stroke=\"#cccccc\" d=\"M11.27,-39.04C9.89,-48.86 12.14,-58 18,-58 21.66,-58 23.92,-54.43 24.75,-49.35\"/>\n",
       "<polygon fill=\"#cccccc\" stroke=\"#cccccc\" points=\"28.25,-49.03 24.73,-39.04 21.25,-49.04 28.25,-49.03\"/>\n",
       "<text text-anchor=\"middle\" x=\"18\" y=\"-61.8\" font-family=\"Times,serif\" font-size=\"14.00\" fill=\"#cccccc\">a</text>\n",
       "</g>\n",
       "<!-- 1 -->\n",
       "<g id=\"node2\" class=\"node\">\n",
       "<title>1</title>\n",
       "<ellipse fill=\"none\" stroke=\"#cccccc\" cx=\"101\" cy=\"-22\" rx=\"18\" ry=\"18\"/>\n",
       "<ellipse fill=\"none\" stroke=\"#cccccc\" cx=\"101\" cy=\"-22\" rx=\"22\" ry=\"22\"/>\n",
       "<text text-anchor=\"middle\" x=\"101\" y=\"-18.3\" font-family=\"Times,serif\" font-size=\"14.00\" fill=\"#cccccc\">1</text>\n",
       "</g>\n",
       "<!-- 0&#45;&gt;1 -->\n",
       "<g id=\"edge2\" class=\"edge\">\n",
       "<title>0&#45;&gt;1</title>\n",
       "<path fill=\"none\" stroke=\"#cccccc\" d=\"M36.18,-22C45.61,-22 57.6,-22 68.64,-22\"/>\n",
       "<polygon fill=\"#cccccc\" stroke=\"#cccccc\" points=\"68.81,-25.5 78.81,-22 68.81,-18.5 68.81,-25.5\"/>\n",
       "<text text-anchor=\"middle\" x=\"57.5\" y=\"-25.8\" font-family=\"Times,serif\" font-size=\"14.00\" fill=\"#cccccc\">b</text>\n",
       "</g>\n",
       "<!-- 1&#45;&gt;0 -->\n",
       "<g id=\"edge4\" class=\"edge\">\n",
       "<title>1&#45;&gt;0</title>\n",
       "<path fill=\"none\" stroke=\"#cccccc\" d=\"M82.93,-9.2C74.43,-4.33 63.88,-0.49 54,-3 50.04,-4.01 46.05,-5.56 42.24,-7.35\"/>\n",
       "<polygon fill=\"#cccccc\" stroke=\"#cccccc\" points=\"40.48,-4.33 33.31,-12.13 43.78,-10.5 40.48,-4.33\"/>\n",
       "<text text-anchor=\"middle\" x=\"57.5\" y=\"-6.8\" font-family=\"Times,serif\" font-size=\"14.00\" fill=\"#cccccc\">a</text>\n",
       "</g>\n",
       "<!-- 1&#45;&gt;1 -->\n",
       "<g id=\"edge3\" class=\"edge\">\n",
       "<title>1&#45;&gt;1</title>\n",
       "<path fill=\"none\" stroke=\"#cccccc\" d=\"M93.32,-42.99C92.37,-53.09 94.93,-62 101,-62 104.89,-62 107.34,-58.34 108.35,-53.06\"/>\n",
       "<polygon fill=\"#cccccc\" stroke=\"#cccccc\" points=\"111.85,-53.1 108.68,-42.99 104.85,-52.87 111.85,-53.1\"/>\n",
       "<text text-anchor=\"middle\" x=\"101\" y=\"-65.8\" font-family=\"Times,serif\" font-size=\"14.00\" fill=\"#cccccc\">b</text>\n",
       "</g>\n",
       "</g>\n",
       "</svg>\n"
      ],
      "text/plain": [
       "<IPython.core.display.HTML object>"
      ]
     },
     "metadata": {},
     "output_type": "display_data"
    },
    {
     "name": "stdout",
     "output_type": "stream",
     "text": [
      "Writting [./small_dfa.svg]\n"
     ]
    }
   ],
   "source": [
    "SMALL_DFA = make_automaton(\n",
    "    [\n",
    "        (0, 0, 'a'), (0, 1, 'b'),\n",
    "        (1, 1, 'b'), (1, 0, 'a')\n",
    "    ], 0, make_func_property_map(lambda q: q in {1})\n",
    ")\n",
    "\n",
    "write_automaton(SMALL_DFA, os.path.join(PREFIX, \"small_dfa.svg\"))"
   ]
  },
  {
   "cell_type": "code",
   "execution_count": 14,
   "metadata": {
    "ExecuteTime": {
     "end_time": "2020-03-09T14:21:25.786046Z",
     "start_time": "2020-03-09T14:21:25.722974Z"
    }
   },
   "outputs": [
    {
     "data": {
      "text/html": [
       "<?xml version=\"1.0\" encoding=\"UTF-8\" standalone=\"no\"?>\n",
       "<!DOCTYPE svg PUBLIC \"-//W3C//DTD SVG 1.1//EN\"\n",
       " \"http://www.w3.org/Graphics/SVG/1.1/DTD/svg11.dtd\">\n",
       "<!-- Generated by graphviz version 2.43.0 (0)\n",
       " -->\n",
       "<!-- Title: G Pages: 1 -->\n",
       "<svg width=\"297pt\" height=\"145pt\"\n",
       " viewBox=\"0.00 0.00 297.00 145.00\" xmlns=\"http://www.w3.org/2000/svg\" xmlns:xlink=\"http://www.w3.org/1999/xlink\">\n",
       "<g id=\"graph0\" class=\"graph\" transform=\"scale(1 1) rotate(0) translate(4 141)\">\n",
       "<title>G</title>\n",
       "<polygon fill=\"#272727\" stroke=\"transparent\" points=\"-4,4 -4,-141 293,-141 293,4 -4,4\"/>\n",
       "<!-- 0 -->\n",
       "<g id=\"node1\" class=\"node\">\n",
       "<title>0</title>\n",
       "<ellipse fill=\"none\" stroke=\"#cccccc\" cx=\"18\" cy=\"-41\" rx=\"18\" ry=\"18\"/>\n",
       "<text text-anchor=\"middle\" x=\"18\" y=\"-37.3\" font-family=\"Times,serif\" font-size=\"14.00\" fill=\"#cccccc\">0</text>\n",
       "</g>\n",
       "<!-- 1 -->\n",
       "<g id=\"node2\" class=\"node\">\n",
       "<title>1</title>\n",
       "<ellipse fill=\"none\" stroke=\"#cccccc\" cx=\"97\" cy=\"-41\" rx=\"18\" ry=\"18\"/>\n",
       "<text text-anchor=\"middle\" x=\"97\" y=\"-37.3\" font-family=\"Times,serif\" font-size=\"14.00\" fill=\"#cccccc\">1</text>\n",
       "</g>\n",
       "<!-- 0&#45;&gt;1 -->\n",
       "<g id=\"edge1\" class=\"edge\">\n",
       "<title>0&#45;&gt;1</title>\n",
       "<path fill=\"none\" stroke=\"#cccccc\" d=\"M36.09,-41C45.66,-41 57.82,-41 68.68,-41\"/>\n",
       "<polygon fill=\"#cccccc\" stroke=\"#cccccc\" points=\"68.96,-44.5 78.96,-41 68.96,-37.5 68.96,-44.5\"/>\n",
       "<text text-anchor=\"middle\" x=\"57.5\" y=\"-44.8\" font-family=\"Times,serif\" font-size=\"14.00\" fill=\"#cccccc\">a</text>\n",
       "</g>\n",
       "<!-- 2 -->\n",
       "<g id=\"node3\" class=\"node\">\n",
       "<title>2</title>\n",
       "<ellipse fill=\"none\" stroke=\"#cccccc\" cx=\"180\" cy=\"-84\" rx=\"18\" ry=\"18\"/>\n",
       "<ellipse fill=\"none\" stroke=\"#cccccc\" cx=\"180\" cy=\"-84\" rx=\"22\" ry=\"22\"/>\n",
       "<text text-anchor=\"middle\" x=\"180\" y=\"-80.3\" font-family=\"Times,serif\" font-size=\"14.00\" fill=\"#cccccc\">2</text>\n",
       "</g>\n",
       "<!-- 1&#45;&gt;2 -->\n",
       "<g id=\"edge2\" class=\"edge\">\n",
       "<title>1&#45;&gt;2</title>\n",
       "<path fill=\"none\" stroke=\"#cccccc\" d=\"M113.24,-49.09C123.93,-54.77 138.54,-62.52 151.27,-69.28\"/>\n",
       "<polygon fill=\"#cccccc\" stroke=\"#cccccc\" points=\"149.65,-72.38 160.13,-73.98 152.93,-66.2 149.65,-72.38\"/>\n",
       "<text text-anchor=\"middle\" x=\"136.5\" y=\"-65.8\" font-family=\"Times,serif\" font-size=\"14.00\" fill=\"#cccccc\">b</text>\n",
       "</g>\n",
       "<!-- 5 -->\n",
       "<g id=\"node6\" class=\"node\">\n",
       "<title>5</title>\n",
       "<ellipse fill=\"none\" stroke=\"#cccccc\" cx=\"180\" cy=\"-22\" rx=\"18\" ry=\"18\"/>\n",
       "<ellipse fill=\"none\" stroke=\"#cccccc\" cx=\"180\" cy=\"-22\" rx=\"22\" ry=\"22\"/>\n",
       "<text text-anchor=\"middle\" x=\"180\" y=\"-18.3\" font-family=\"Times,serif\" font-size=\"14.00\" fill=\"#cccccc\">5</text>\n",
       "</g>\n",
       "<!-- 1&#45;&gt;5 -->\n",
       "<g id=\"edge3\" class=\"edge\">\n",
       "<title>1&#45;&gt;5</title>\n",
       "<path fill=\"none\" stroke=\"#cccccc\" d=\"M114.78,-37.06C124.5,-34.78 137.04,-31.84 148.45,-29.17\"/>\n",
       "<polygon fill=\"#cccccc\" stroke=\"#cccccc\" points=\"149.57,-32.5 158.5,-26.81 147.97,-25.68 149.57,-32.5\"/>\n",
       "<text text-anchor=\"middle\" x=\"136.5\" y=\"-36.8\" font-family=\"Times,serif\" font-size=\"14.00\" fill=\"#cccccc\">x</text>\n",
       "</g>\n",
       "<!-- 3 -->\n",
       "<g id=\"node4\" class=\"node\">\n",
       "<title>3</title>\n",
       "<ellipse fill=\"none\" stroke=\"#cccccc\" cx=\"267\" cy=\"-115\" rx=\"18\" ry=\"18\"/>\n",
       "<ellipse fill=\"none\" stroke=\"#cccccc\" cx=\"267\" cy=\"-115\" rx=\"22\" ry=\"22\"/>\n",
       "<text text-anchor=\"middle\" x=\"267\" y=\"-111.3\" font-family=\"Times,serif\" font-size=\"14.00\" fill=\"#cccccc\">3</text>\n",
       "</g>\n",
       "<!-- 2&#45;&gt;3 -->\n",
       "<g id=\"edge4\" class=\"edge\">\n",
       "<title>2&#45;&gt;3</title>\n",
       "<path fill=\"none\" stroke=\"#cccccc\" d=\"M201.14,-91.35C211.73,-95.21 224.9,-100.01 236.6,-104.28\"/>\n",
       "<polygon fill=\"#cccccc\" stroke=\"#cccccc\" points=\"235.41,-107.57 246,-107.71 237.81,-100.99 235.41,-107.57\"/>\n",
       "<text text-anchor=\"middle\" x=\"223.5\" y=\"-103.8\" font-family=\"Times,serif\" font-size=\"14.00\" fill=\"#cccccc\">a</text>\n",
       "</g>\n",
       "<!-- 4 -->\n",
       "<g id=\"node5\" class=\"node\">\n",
       "<title>4</title>\n",
       "<ellipse fill=\"none\" stroke=\"#cccccc\" cx=\"267\" cy=\"-53\" rx=\"18\" ry=\"18\"/>\n",
       "<ellipse fill=\"none\" stroke=\"#cccccc\" cx=\"267\" cy=\"-53\" rx=\"22\" ry=\"22\"/>\n",
       "<text text-anchor=\"middle\" x=\"267\" y=\"-49.3\" font-family=\"Times,serif\" font-size=\"14.00\" fill=\"#cccccc\">4</text>\n",
       "</g>\n",
       "<!-- 2&#45;&gt;4 -->\n",
       "<g id=\"edge5\" class=\"edge\">\n",
       "<title>2&#45;&gt;4</title>\n",
       "<path fill=\"none\" stroke=\"#cccccc\" d=\"M201.14,-76.65C211.73,-72.79 224.9,-67.99 236.6,-63.72\"/>\n",
       "<polygon fill=\"#cccccc\" stroke=\"#cccccc\" points=\"237.81,-67.01 246,-60.29 235.41,-60.43 237.81,-67.01\"/>\n",
       "<text text-anchor=\"middle\" x=\"223.5\" y=\"-72.8\" font-family=\"Times,serif\" font-size=\"14.00\" fill=\"#cccccc\">b</text>\n",
       "</g>\n",
       "</g>\n",
       "</svg>\n"
      ],
      "text/plain": [
       "<IPython.core.display.HTML object>"
      ]
     },
     "metadata": {},
     "output_type": "display_data"
    },
    {
     "name": "stdout",
     "output_type": "stream",
     "text": [
      "Writting [./small_trie.svg]\n"
     ]
    }
   ],
   "source": [
    "SMALL_TRIE = make_automaton(\n",
    "    [\n",
    "        (0, 1, 'a'), (1, 2, 'b'), (2, 3, 'a'), (2, 4, 'b'),\n",
    "        (1, 5, 'x')\n",
    "    ], 0, make_func_property_map(lambda q: q in {2,3,4,5})\n",
    ")\n",
    "\n",
    "write_automaton(SMALL_TRIE, os.path.join(PREFIX, \"small_trie.svg\"))"
   ]
  }
 ],
 "metadata": {
  "kernelspec": {
   "display_name": "Python 3",
   "language": "python",
   "name": "python3"
  },
  "language_info": {
   "codemirror_mode": {
    "name": "ipython",
    "version": 3
   },
   "file_extension": ".py",
   "mimetype": "text/x-python",
   "name": "python",
   "nbconvert_exporter": "python",
   "pygments_lexer": "ipython3",
   "version": "3.7.6"
  },
  "latex_envs": {
   "LaTeX_envs_menu_present": true,
   "autocomplete": true,
   "bibliofile": "biblio.bib",
   "cite_by": "apalike",
   "current_citInitial": 1,
   "eqLabelWithNumbers": true,
   "eqNumInitial": 1,
   "hotkeys": {
    "equation": "Ctrl-E",
    "itemize": "Ctrl-I"
   },
   "labels_anchors": false,
   "latex_user_defs": false,
   "report_style_numbering": false,
   "user_envs_cfg": false
  },
  "toc": {
   "base_numbering": 1,
   "nav_menu": {},
   "number_sections": true,
   "sideBar": true,
   "skip_h1_title": false,
   "title_cell": "Table of Contents",
   "title_sidebar": "Contents",
   "toc_cell": false,
   "toc_position": {},
   "toc_section_display": true,
   "toc_window_display": false
  }
 },
 "nbformat": 4,
 "nbformat_minor": 2
}
