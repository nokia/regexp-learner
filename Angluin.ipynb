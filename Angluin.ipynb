{
 "cells": [
  {
   "cell_type": "markdown",
   "metadata": {
    "ExecuteTime": {
     "end_time": "2019-04-17T16:09:57.729873Z",
     "start_time": "2019-04-17T16:09:57.534450Z"
    }
   },
   "source": [
    "<font size=20>Learning regular sets from queries and counterexamples</font>"
   ]
  },
  {
   "cell_type": "markdown",
   "metadata": {
    "ExecuteTime": {
     "end_time": "2019-04-17T16:09:57.729873Z",
     "start_time": "2019-04-17T16:09:57.534450Z"
    }
   },
   "source": [
    "# Reference paper"
   ]
  },
  {
   "cell_type": "markdown",
   "metadata": {
    "ExecuteTime": {
     "end_time": "2019-04-17T16:09:57.729873Z",
     "start_time": "2019-04-17T16:09:57.534450Z"
    }
   },
   "source": [
    "## Problem statement"
   ]
  },
  {
   "cell_type": "markdown",
   "metadata": {
    "ExecuteTime": {
     "end_time": "2019-04-17T16:09:57.729873Z",
     "start_time": "2019-04-17T16:09:57.534450Z"
    }
   },
   "source": [
    "[Learning regular sets from queries and counterexamples](https://www.sciencedirect.com/science/article/pii/0890540187900526)\n",
    "\n",
    "A `Teacher` knows a regular language $\\mathcal{L}(M)$ over an alphabet $\\Sigma$ realized by a finite deterministic automaton $M$.\n",
    "\n",
    "A `Learner` tries to discover $M$. To this end, the `Learner` progressively builds an automaton $H$ based on the answers obtained from `Teacher`. The `Learner` can ask two types of questions:\n",
    "* Do $H$ and $M$ corresponds?\n",
    "  * ... where $H$ denotes the current hypothese automaton of the `Learner`.\n",
    "  * If not the teacher provides a counter example, i.e. a word $w \\in (L \\backslash \\mathcal{L}(H)) \\cup (\\mathcal{L}(H) \\backslash \\mathcal{L}(M))$\n",
    "* Does $w$ belong to $\\mathcal{L}(M)$?"
   ]
  },
  {
   "cell_type": "markdown",
   "metadata": {
    "ExecuteTime": {
     "end_time": "2019-04-17T16:09:57.729873Z",
     "start_time": "2019-04-17T16:09:57.534450Z"
    }
   },
   "source": [
    "## $L^*$ algorithm "
   ]
  },
  {
   "cell_type": "markdown",
   "metadata": {
    "ExecuteTime": {
     "end_time": "2019-04-17T16:09:57.729873Z",
     "start_time": "2019-04-17T16:09:57.534450Z"
    }
   },
   "source": [
    "We denote by the empty word by $\\varepsilon$ (N.B. In her article, D. Angluin uses $\\lambda$ instead).\n",
    "\n",
    "The `Learner` maintains a triple $(S, E, T)$:\n",
    "* $S$ is a set of prefixes over $\\Sigma^*$, initialized to $\\{\\varepsilon\\}$;\n",
    "* $E$ is a set of suffixes over $\\Sigma^*$, initialized to $\\{\\varepsilon\\}$;\n",
    "* $T$ is the `ObservationTable`, which is in practice a 0-1 matrix $T$.\n",
    "  * Each row $i$ corresponds to a given prefix $s \\in S \\cup S.\\Sigma$, where $S.\\Sigma = {s.a, s \\in S, a \\in \\Sigma}$;\n",
    "  * Each column $j$ corresponds to a given suffix $e \\in E$;\n",
    "  * $T(i,j)$ indicates whether the word $s.e$ belongs to $L$ or not.\n",
    "\n",
    "The `Learner` updates progressively its $(S,E,T)$ triple thanks to the $L^*$ algorithm. It derives the hypothese automaton $H$ from $T$. This work is made in two steps:"
   ]
  },
  {
   "cell_type": "markdown",
   "metadata": {
    "ExecuteTime": {
     "end_time": "2019-04-17T16:09:57.729873Z",
     "start_time": "2019-04-17T16:09:57.534450Z"
    }
   },
   "source": [
    "__Exploration:__\n",
    "\n",
    "To build the hypothese minimal complete DFA $H$, the `Learner` requires a _closed_ and _consistent_ `ObservationTable` (these properties are defined later). To this end, the `Learner` triggers membership queries to the `Teacher`, allowing to extend $(S, E, T)$ until these two properties hold.\n",
    "\n",
    "Once $(S,E,T)$ is closed and consistent, the `Learner` derives $H$ as follows:\n",
    "* _States:_ Each row of $S$ identifies a state of $H$. This $q$ state is when $H$ reads the prefix $s \\in S$ matching this row. $q$ is final iff $T(s, \\varepsilon)$ is true.\n",
    "* _Transitions:_ To determine egress transition of $q$, for all $a \\in \\Sigma$, the algorithm searches the row corresponding to $s+a$. This row identifies a prefix of $S$ and thus exactly one state $r$ of $H$. Thus, the $a$-transition from $q$ to $r$ is built.\n",
    "\n",
    "At the end, the `Learner` obtained a minimal finite deterministic automaton $H$."
   ]
  },
  {
   "cell_type": "markdown",
   "metadata": {
    "ExecuteTime": {
     "end_time": "2019-04-17T16:09:57.729873Z",
     "start_time": "2019-04-17T16:09:57.534450Z"
    }
   },
   "source": [
    "__Validation:__\n",
    "\n",
    "The `Learner` proposes $H$ the `Teacher`.\n",
    "* If the `Teacher` does not return counter example, it means that $H$ is the expected automaton.\n",
    "* Otherwise, the `Teacher` returns counter-example $t$. The `Learner` insert $t$ and all its prefixes into $S$. By doing so, the `Learner` is guaranteed to only propose in the future automata returning the right result for the word $t$. Then, the `Learner` repeats the Exploration and Validation phases until $H = M$."
   ]
  },
  {
   "cell_type": "markdown",
   "metadata": {
    "ExecuteTime": {
     "end_time": "2019-04-17T16:09:57.729873Z",
     "start_time": "2019-04-17T16:09:57.534450Z"
    }
   },
   "source": [
    "# Deterministic Finite Automaton (DFA)\n",
    "## Implementation"
   ]
  },
  {
   "cell_type": "code",
   "execution_count": 1,
   "metadata": {
    "ExecuteTime": {
     "end_time": "2019-09-02T13:23:16.613017Z",
     "start_time": "2019-09-02T13:23:16.604128Z"
    }
   },
   "outputs": [],
   "source": [
    "from pybgl.automaton import Automaton, accepts, add_edge, alphabet, delta, edge, \\\n",
    "    final, initial, is_complete, is_deterministic, is_final, is_finite, is_initial, \\\n",
    "    is_minimal, label, make_automaton, set_final, sigma"
   ]
  },
  {
   "cell_type": "markdown",
   "metadata": {},
   "source": [
    "# Teacher\n",
    "\n",
    "The teacher is just a wrapper around a (minimal) deterministic automaton $M$.\n",
    "\n",
    "It exposes two main primitives:\n",
    "* _membership queries:_ \"$w \\in \\mathcal{L}(M)$?\" for some word $w \\in \\Sigma^*$.\n",
    "* _equivalence queries:_ \"$\\mathcal{L}(H) = \\mathcal{L}(M)$?\" for some hypothesis automaton $H$.\n"
   ]
  },
  {
   "cell_type": "code",
   "execution_count": 2,
   "metadata": {
    "ExecuteTime": {
     "end_time": "2019-09-02T13:23:17.338515Z",
     "start_time": "2019-09-02T13:23:17.332562Z"
    }
   },
   "outputs": [],
   "source": [
    "from lstar.teacher import Teacher"
   ]
  },
  {
   "cell_type": "markdown",
   "metadata": {},
   "source": [
    "## Membership queries\n",
    "\n",
    "It just consists in testing whether $w$ is accepted by the automaton $M$."
   ]
  },
  {
   "cell_type": "markdown",
   "metadata": {},
   "source": [
    "## Equivalence queries\n",
    "\n",
    "The goal here is to determine whether two automata $G_1$ and $G_2$ recognize the same language, i.e. if $\\mathcal{L}(G_1)$ = $\\mathcal{L}(G_2)$.\n",
    "* __Method 1:__ build in polynomial time the automaton recognizing $(\\mathcal{L}(G_1) \\backslash \\mathcal{L}(G_2)) \\cup (\\mathcal{L}(G_2) \\backslash \\mathcal{L}(G_1))$, and then extract any accepted word by the resulting automaton. \n",
    "* __Method 2:__ build the product automaton $G_1 \\times G_2$. If a pair $(q_1,q_2) \\in (Q_1 \\times \\{\\perp\\}) \\times (\\{\\perp\\} \\times Q_2)$ is discovered then a contradiction has been stop and we can stop the exploration.\n",
    "\n",
    "In the $L^*$ algorithm, we can simplify this test. Indeed $H$ is complete and minimal. By assuming that $M$ is also minimal, our implementation `automaton_match` only needs to check if there is bijection between the states of $M$ and $H$."
   ]
  },
  {
   "cell_type": "code",
   "execution_count": 3,
   "metadata": {
    "ExecuteTime": {
     "end_time": "2019-09-02T13:23:18.311591Z",
     "start_time": "2019-09-02T13:23:18.309528Z"
    }
   },
   "outputs": [],
   "source": [
    "from lstar.automaton_match import automaton_match"
   ]
  },
  {
   "cell_type": "markdown",
   "metadata": {},
   "source": [
    "# Learner"
   ]
  },
  {
   "cell_type": "markdown",
   "metadata": {},
   "source": [
    "## Observation table $(S,E,T)$\n",
    "\n",
    "An `ObservationTable` is a matrix in ${0,1}^{|S \\cup S.\\Sigma| \\times |E|}$ used to build the hypothesis automaton $H$.\n",
    "* We call _signature_ the row vector in ${0,1}^{|E|}$ related to a suffix $s$ in $S \\cup S.\\Sigma$. We denote it by $\\mathrm{row}(s)$.\n",
    "* Each signature of $s \\in S$ identifies exactly one state in the inferred automaton $H$.\n",
    "* Each row corresponding to a suffix in $S.\\Sigma$ helps to build complete automaton.\n",
    "\n",
    "__Definitions:__\n",
    "* An `ObservationTable` is said to be _complete_ (or _closed_) iff $\\forall t \\in S.A, \\exists s \\in S~|~row(t) = row(s)$.\n",
    "* An `ObservationTable` is said to be _consistent_ (or _separable_) iff $\\forall s \\in S, \\forall s' \\in S, \\forall a \\in \\Sigma~|~row(s) = row(s) \\implies row(s.a) = row(s'.a)$."
   ]
  },
  {
   "cell_type": "code",
   "execution_count": 4,
   "metadata": {
    "ExecuteTime": {
     "end_time": "2019-09-02T13:23:19.444757Z",
     "start_time": "2019-09-02T13:23:19.375853Z"
    }
   },
   "outputs": [],
   "source": [
    "from lstar.observation_table import ObservationTable"
   ]
  },
  {
   "cell_type": "markdown",
   "metadata": {},
   "source": [
    "## Building the hypothesis automata $H$ from $(S,E,T)$\n",
    "\n",
    "If an `ObservationTable` is _complete_, _consistent_, then the `Learner` can derive a deterministic automaton $H$ and submit it to the `Teacher`.\n",
    "* __States:__ each state $q$ of $H$ is identified by a prefix $s \\in S$ (in particular $\\varepsilon$ identifies the initial state). Each state is identified $\\mathrm{row}(s)$. _Separability_ guarantees that these states are distinguishable\n",
    "* __Transitions:__  for each state $q$ related to a suffix $s$, and for all $a \\in \\Sigma$, the `Learner` can examine in $T$ the signature $\\mathrm{row}(s.a)$. This identifies a unique node $q'$ because $T$ is _separable_ and _closed_. This results to a $a$-transition from $q$ to $q'$.\n",
    "\n",
    "Once $H$ is built, the `Learner` can submit an equivalence query to the `Teacher` to test whether $H$ and $M$ match. If the `Teacher` returns a counter-example, the `Learner` updates its `ObservationTable` $T$. In particular, the `Learner` needs to fill $T$ and extend it until $T$ becomes complete and consistent. This forces the `Learner` to trigger several new membership queries."
   ]
  },
  {
   "cell_type": "code",
   "execution_count": 5,
   "metadata": {
    "ExecuteTime": {
     "end_time": "2019-09-02T13:23:20.244346Z",
     "start_time": "2019-09-02T13:23:20.238434Z"
    }
   },
   "outputs": [],
   "source": [
    "from lstar.learner import Learner, make_automaton_from_observation_table"
   ]
  },
  {
   "cell_type": "markdown",
   "metadata": {},
   "source": [
    "# Tests"
   ]
  },
  {
   "cell_type": "code",
   "execution_count": 6,
   "metadata": {
    "ExecuteTime": {
     "end_time": "2019-09-02T13:23:22.207210Z",
     "start_time": "2019-09-02T13:23:21.300932Z"
    },
    "scrolled": false
   },
   "outputs": [
    {
     "data": {
      "text/html": [
       "<h3>Test G1</h3>"
      ],
      "text/plain": [
       "<IPython.core.display.HTML object>"
      ]
     },
     "metadata": {},
     "output_type": "display_data"
    },
    {
     "data": {
      "text/html": [
       "<b>Teacher</b>"
      ],
      "text/plain": [
       "<IPython.core.display.HTML object>"
      ]
     },
     "metadata": {},
     "output_type": "display_data"
    },
    {
     "data": {
      "text/html": [
       "<?xml version=\"1.0\" encoding=\"UTF-8\" standalone=\"no\"?>\n",
       "<!DOCTYPE svg PUBLIC \"-//W3C//DTD SVG 1.1//EN\"\n",
       " \"http://www.w3.org/Graphics/SVG/1.1/DTD/svg11.dtd\">\n",
       "<!-- Generated by graphviz version 2.40.1 (20161225.0304)\n",
       " -->\n",
       "<!-- Title: G Pages: 1 -->\n",
       "<svg width=\"210pt\" height=\"87pt\"\n",
       " viewBox=\"0.00 0.00 210.00 87.17\" xmlns=\"http://www.w3.org/2000/svg\" xmlns:xlink=\"http://www.w3.org/1999/xlink\">\n",
       "<g id=\"graph0\" class=\"graph\" transform=\"scale(1 1) rotate(0) translate(4 83.1696)\">\n",
       "<title>G</title>\n",
       "<!-- 0 -->\n",
       "<g id=\"node1\" class=\"node\">\n",
       "<title>0</title>\n",
       "<ellipse fill=\"none\" stroke=\"#000000\" cx=\"18\" cy=\"-24.1696\" rx=\"18\" ry=\"18\"/>\n",
       "<text text-anchor=\"middle\" x=\"18\" y=\"-20.4696\" font-family=\"Times,serif\" font-size=\"14.00\" fill=\"#000000\">0</text>\n",
       "</g>\n",
       "<!-- 0&#45;&gt;0 -->\n",
       "<g id=\"edge1\" class=\"edge\">\n",
       "<title>0&#45;&gt;0</title>\n",
       "<path fill=\"none\" stroke=\"#000000\" d=\"M11.2664,-41.2069C9.8922,-51.0275 12.1367,-60.1696 18,-60.1696 21.6646,-60.1696 23.9155,-56.5985 24.7529,-51.5225\"/>\n",
       "<polygon fill=\"#000000\" stroke=\"#000000\" points=\"28.2524,-51.2003 24.7336,-41.2069 21.2524,-51.2135 28.2524,-51.2003\"/>\n",
       "<text text-anchor=\"middle\" x=\"18\" y=\"-63.9696\" font-family=\"Times,serif\" font-size=\"14.00\" fill=\"#000000\">a</text>\n",
       "</g>\n",
       "<!-- 1 -->\n",
       "<g id=\"node2\" class=\"node\">\n",
       "<title>1</title>\n",
       "<ellipse fill=\"none\" stroke=\"#000000\" cx=\"101\" cy=\"-24.1696\" rx=\"18\" ry=\"18\"/>\n",
       "<ellipse fill=\"none\" stroke=\"#000000\" cx=\"101\" cy=\"-24.1696\" rx=\"22\" ry=\"22\"/>\n",
       "<text text-anchor=\"middle\" x=\"101\" y=\"-20.4696\" font-family=\"Times,serif\" font-size=\"14.00\" fill=\"#000000\">1</text>\n",
       "</g>\n",
       "<!-- 0&#45;&gt;1 -->\n",
       "<g id=\"edge2\" class=\"edge\">\n",
       "<title>0&#45;&gt;1</title>\n",
       "<path fill=\"none\" stroke=\"#000000\" d=\"M36.0098,-24.1696C45.5483,-24.1696 57.5554,-24.1696 68.6456,-24.1696\"/>\n",
       "<polygon fill=\"#000000\" stroke=\"#000000\" points=\"68.887,-27.6697 78.887,-24.1696 68.8869,-20.6697 68.887,-27.6697\"/>\n",
       "<text text-anchor=\"middle\" x=\"57.5\" y=\"-27.9696\" font-family=\"Times,serif\" font-size=\"14.00\" fill=\"#000000\">b</text>\n",
       "</g>\n",
       "<!-- 1&#45;&gt;1 -->\n",
       "<g id=\"edge4\" class=\"edge\">\n",
       "<title>1&#45;&gt;1</title>\n",
       "<path fill=\"none\" stroke=\"#000000\" d=\"M93.3173,-45.1603C92.3688,-55.2568 94.9297,-64.1696 101,-64.1696 104.8888,-64.1696 107.3373,-60.5118 108.3456,-55.2282\"/>\n",
       "<polygon fill=\"#000000\" stroke=\"#000000\" points=\"111.846,-55.2719 108.6827,-45.1603 104.8499,-55.0376 111.846,-55.2719\"/>\n",
       "<text text-anchor=\"middle\" x=\"101\" y=\"-67.9696\" font-family=\"Times,serif\" font-size=\"14.00\" fill=\"#000000\">b</text>\n",
       "</g>\n",
       "<!-- 2 -->\n",
       "<g id=\"node3\" class=\"node\">\n",
       "<title>2</title>\n",
       "<ellipse fill=\"none\" stroke=\"#000000\" cx=\"184\" cy=\"-24.1696\" rx=\"18\" ry=\"18\"/>\n",
       "<text text-anchor=\"middle\" x=\"184\" y=\"-20.4696\" font-family=\"Times,serif\" font-size=\"14.00\" fill=\"#000000\">2</text>\n",
       "</g>\n",
       "<!-- 1&#45;&gt;2 -->\n",
       "<g id=\"edge3\" class=\"edge\">\n",
       "<title>1&#45;&gt;2</title>\n",
       "<path fill=\"none\" stroke=\"#000000\" d=\"M119.9192,-35.5641C128.3798,-39.3617 138.5564,-42.1737 148,-40.1696 151.5188,-39.4229 155.1112,-38.3076 158.5985,-37.0068\"/>\n",
       "<polygon fill=\"#000000\" stroke=\"#000000\" points=\"160.1718,-40.141 167.9997,-33.0013 157.428,-33.7011 160.1718,-40.141\"/>\n",
       "<text text-anchor=\"middle\" x=\"144.5\" y=\"-43.9696\" font-family=\"Times,serif\" font-size=\"14.00\" fill=\"#000000\">a</text>\n",
       "</g>\n",
       "<!-- 2&#45;&gt;1 -->\n",
       "<g id=\"edge5\" class=\"edge\">\n",
       "<title>2&#45;&gt;1</title>\n",
       "<path fill=\"none\" stroke=\"#000000\" d=\"M166.0731,-22.3803C160.3086,-21.8841 153.8903,-21.4146 148,-21.1696 143.1495,-20.9678 138.0207,-21.021 133.0036,-21.2218\"/>\n",
       "<polygon fill=\"#000000\" stroke=\"#000000\" points=\"132.7662,-17.7296 122.9873,-21.8067 133.1743,-24.7177 132.7662,-17.7296\"/>\n",
       "<text text-anchor=\"middle\" x=\"144.5\" y=\"-24.9696\" font-family=\"Times,serif\" font-size=\"14.00\" fill=\"#000000\">a</text>\n",
       "</g>\n",
       "<!-- 2&#45;&gt;1 -->\n",
       "<g id=\"edge6\" class=\"edge\">\n",
       "<title>2&#45;&gt;1</title>\n",
       "<path fill=\"none\" stroke=\"#000000\" d=\"M169.8693,-12.4924C163.5789,-8.0259 155.8309,-3.4576 148,-1.1696 140.6863,.9673 133.1198,-.765 126.2513,-4.0605\"/>\n",
       "<polygon fill=\"#000000\" stroke=\"#000000\" points=\"124.2221,-1.1947 117.407,-9.3068 127.7933,-7.2152 124.2221,-1.1947\"/>\n",
       "<text text-anchor=\"middle\" x=\"144.5\" y=\"-4.9696\" font-family=\"Times,serif\" font-size=\"14.00\" fill=\"#000000\">b</text>\n",
       "</g>\n",
       "</g>\n",
       "</svg>\n"
      ],
      "text/plain": [
       "<IPython.core.display.HTML object>"
      ]
     },
     "metadata": {},
     "output_type": "display_data"
    },
    {
     "data": {
      "text/html": [
       "<b>initialize</b>"
      ],
      "text/plain": [
       "<IPython.core.display.HTML object>"
      ]
     },
     "metadata": {},
     "output_type": "display_data"
    },
    {
     "data": {
      "text/html": [
       "\n",
       "        <table>\n",
       "            <tr><th></th><td>&#x3b5;</td></tr>\n",
       "            <tr><th><font color='red'>&#x3b5;</font></th><td>False</td></tr><tr><th>'b'</th><td>True</td></tr><tr><th>'a'</th><td>False</td></tr>\n",
       "        </table>\n",
       "        "
      ],
      "text/plain": [
       "<IPython.core.display.HTML object>"
      ]
     },
     "metadata": {},
     "output_type": "display_data"
    },
    {
     "data": {
      "text/html": [
       "<b>iteration 1</b>"
      ],
      "text/plain": [
       "<IPython.core.display.HTML object>"
      ]
     },
     "metadata": {},
     "output_type": "display_data"
    },
    {
     "data": {
      "text/html": [
       "\n",
       "        <table>\n",
       "            <tr><th></th><td>&#x3b5;</td></tr>\n",
       "            <tr><th><font color='red'>&#x3b5;</font></th><td>False</td></tr><tr><th>'b'</th><td>True</td></tr><tr><th>'a'</th><td>False</td></tr>\n",
       "        </table>\n",
       "        "
      ],
      "text/plain": [
       "<IPython.core.display.HTML object>"
      ]
     },
     "metadata": {},
     "output_type": "display_data"
    },
    {
     "data": {
      "text/html": [
       "Observation table is not closed: (s1, a) = ('', 'b'), adding s1 + a = b to S"
      ],
      "text/plain": [
       "<IPython.core.display.HTML object>"
      ]
     },
     "metadata": {},
     "output_type": "display_data"
    },
    {
     "data": {
      "text/html": [
       "Observation table is closed and consistent"
      ],
      "text/plain": [
       "<IPython.core.display.HTML object>"
      ]
     },
     "metadata": {},
     "output_type": "display_data"
    },
    {
     "data": {
      "text/html": [
       "\n",
       "                    <table>\n",
       "                        <tr>\n",
       "                            <th>Teacher</th>\n",
       "                            <th>Observation table</th>\n",
       "                        </tr>\n",
       "                        <tr>\n",
       "                            <td><?xml version=\"1.0\" encoding=\"UTF-8\" standalone=\"no\"?>\n",
       "<!DOCTYPE svg PUBLIC \"-//W3C//DTD SVG 1.1//EN\"\n",
       " \"http://www.w3.org/Graphics/SVG/1.1/DTD/svg11.dtd\">\n",
       "<!-- Generated by graphviz version 2.40.1 (20161225.0304)\n",
       " -->\n",
       "<!-- Title: G Pages: 1 -->\n",
       "<svg width=\"210pt\" height=\"87pt\"\n",
       " viewBox=\"0.00 0.00 210.00 87.17\" xmlns=\"http://www.w3.org/2000/svg\" xmlns:xlink=\"http://www.w3.org/1999/xlink\">\n",
       "<g id=\"graph0\" class=\"graph\" transform=\"scale(1 1) rotate(0) translate(4 83.1696)\">\n",
       "<title>G</title>\n",
       "<!-- 0 -->\n",
       "<g id=\"node1\" class=\"node\">\n",
       "<title>0</title>\n",
       "<ellipse fill=\"none\" stroke=\"#000000\" cx=\"18\" cy=\"-24.1696\" rx=\"18\" ry=\"18\"/>\n",
       "<text text-anchor=\"middle\" x=\"18\" y=\"-20.4696\" font-family=\"Times,serif\" font-size=\"14.00\" fill=\"#000000\">0</text>\n",
       "</g>\n",
       "<!-- 0&#45;&gt;0 -->\n",
       "<g id=\"edge1\" class=\"edge\">\n",
       "<title>0&#45;&gt;0</title>\n",
       "<path fill=\"none\" stroke=\"#000000\" d=\"M11.2664,-41.2069C9.8922,-51.0275 12.1367,-60.1696 18,-60.1696 21.6646,-60.1696 23.9155,-56.5985 24.7529,-51.5225\"/>\n",
       "<polygon fill=\"#000000\" stroke=\"#000000\" points=\"28.2524,-51.2003 24.7336,-41.2069 21.2524,-51.2135 28.2524,-51.2003\"/>\n",
       "<text text-anchor=\"middle\" x=\"18\" y=\"-63.9696\" font-family=\"Times,serif\" font-size=\"14.00\" fill=\"#000000\">a</text>\n",
       "</g>\n",
       "<!-- 1 -->\n",
       "<g id=\"node2\" class=\"node\">\n",
       "<title>1</title>\n",
       "<ellipse fill=\"none\" stroke=\"#000000\" cx=\"101\" cy=\"-24.1696\" rx=\"18\" ry=\"18\"/>\n",
       "<ellipse fill=\"none\" stroke=\"#000000\" cx=\"101\" cy=\"-24.1696\" rx=\"22\" ry=\"22\"/>\n",
       "<text text-anchor=\"middle\" x=\"101\" y=\"-20.4696\" font-family=\"Times,serif\" font-size=\"14.00\" fill=\"#000000\">1</text>\n",
       "</g>\n",
       "<!-- 0&#45;&gt;1 -->\n",
       "<g id=\"edge2\" class=\"edge\">\n",
       "<title>0&#45;&gt;1</title>\n",
       "<path fill=\"none\" stroke=\"#000000\" d=\"M36.0098,-24.1696C45.5483,-24.1696 57.5554,-24.1696 68.6456,-24.1696\"/>\n",
       "<polygon fill=\"#000000\" stroke=\"#000000\" points=\"68.887,-27.6697 78.887,-24.1696 68.8869,-20.6697 68.887,-27.6697\"/>\n",
       "<text text-anchor=\"middle\" x=\"57.5\" y=\"-27.9696\" font-family=\"Times,serif\" font-size=\"14.00\" fill=\"#000000\">b</text>\n",
       "</g>\n",
       "<!-- 1&#45;&gt;1 -->\n",
       "<g id=\"edge4\" class=\"edge\">\n",
       "<title>1&#45;&gt;1</title>\n",
       "<path fill=\"none\" stroke=\"#000000\" d=\"M93.3173,-45.1603C92.3688,-55.2568 94.9297,-64.1696 101,-64.1696 104.8888,-64.1696 107.3373,-60.5118 108.3456,-55.2282\"/>\n",
       "<polygon fill=\"#000000\" stroke=\"#000000\" points=\"111.846,-55.2719 108.6827,-45.1603 104.8499,-55.0376 111.846,-55.2719\"/>\n",
       "<text text-anchor=\"middle\" x=\"101\" y=\"-67.9696\" font-family=\"Times,serif\" font-size=\"14.00\" fill=\"#000000\">b</text>\n",
       "</g>\n",
       "<!-- 2 -->\n",
       "<g id=\"node3\" class=\"node\">\n",
       "<title>2</title>\n",
       "<ellipse fill=\"none\" stroke=\"#000000\" cx=\"184\" cy=\"-24.1696\" rx=\"18\" ry=\"18\"/>\n",
       "<text text-anchor=\"middle\" x=\"184\" y=\"-20.4696\" font-family=\"Times,serif\" font-size=\"14.00\" fill=\"#000000\">2</text>\n",
       "</g>\n",
       "<!-- 1&#45;&gt;2 -->\n",
       "<g id=\"edge3\" class=\"edge\">\n",
       "<title>1&#45;&gt;2</title>\n",
       "<path fill=\"none\" stroke=\"#000000\" d=\"M119.9192,-35.5641C128.3798,-39.3617 138.5564,-42.1737 148,-40.1696 151.5188,-39.4229 155.1112,-38.3076 158.5985,-37.0068\"/>\n",
       "<polygon fill=\"#000000\" stroke=\"#000000\" points=\"160.1718,-40.141 167.9997,-33.0013 157.428,-33.7011 160.1718,-40.141\"/>\n",
       "<text text-anchor=\"middle\" x=\"144.5\" y=\"-43.9696\" font-family=\"Times,serif\" font-size=\"14.00\" fill=\"#000000\">a</text>\n",
       "</g>\n",
       "<!-- 2&#45;&gt;1 -->\n",
       "<g id=\"edge5\" class=\"edge\">\n",
       "<title>2&#45;&gt;1</title>\n",
       "<path fill=\"none\" stroke=\"#000000\" d=\"M166.0731,-22.3803C160.3086,-21.8841 153.8903,-21.4146 148,-21.1696 143.1495,-20.9678 138.0207,-21.021 133.0036,-21.2218\"/>\n",
       "<polygon fill=\"#000000\" stroke=\"#000000\" points=\"132.7662,-17.7296 122.9873,-21.8067 133.1743,-24.7177 132.7662,-17.7296\"/>\n",
       "<text text-anchor=\"middle\" x=\"144.5\" y=\"-24.9696\" font-family=\"Times,serif\" font-size=\"14.00\" fill=\"#000000\">a</text>\n",
       "</g>\n",
       "<!-- 2&#45;&gt;1 -->\n",
       "<g id=\"edge6\" class=\"edge\">\n",
       "<title>2&#45;&gt;1</title>\n",
       "<path fill=\"none\" stroke=\"#000000\" d=\"M169.8693,-12.4924C163.5789,-8.0259 155.8309,-3.4576 148,-1.1696 140.6863,.9673 133.1198,-.765 126.2513,-4.0605\"/>\n",
       "<polygon fill=\"#000000\" stroke=\"#000000\" points=\"124.2221,-1.1947 117.407,-9.3068 127.7933,-7.2152 124.2221,-1.1947\"/>\n",
       "<text text-anchor=\"middle\" x=\"144.5\" y=\"-4.9696\" font-family=\"Times,serif\" font-size=\"14.00\" fill=\"#000000\">b</text>\n",
       "</g>\n",
       "</g>\n",
       "</svg>\n",
       "</td>\n",
       "                            <td>\n",
       "        <table>\n",
       "            <tr><th></th><td>&#x3b5;</td></tr>\n",
       "            <tr><th><font color='red'>&#x3b5;</font></th><td>False</td></tr><tr><th><font color='red'>'b'</font></th><td>True</td></tr><tr><th>'a'</th><td>False</td></tr><tr><th>'ba'</th><td>False</td></tr><tr><th>'bb'</th><td>True</td></tr>\n",
       "        </table>\n",
       "        </td>\n",
       "                        </tr>\n",
       "                    </table>\n",
       "                    "
      ],
      "text/plain": [
       "<IPython.core.display.HTML object>"
      ]
     },
     "metadata": {},
     "output_type": "display_data"
    },
    {
     "data": {
      "text/html": [
       "<?xml version=\"1.0\" encoding=\"UTF-8\" standalone=\"no\"?>\n",
       "<!DOCTYPE svg PUBLIC \"-//W3C//DTD SVG 1.1//EN\"\n",
       " \"http://www.w3.org/Graphics/SVG/1.1/DTD/svg11.dtd\">\n",
       "<!-- Generated by graphviz version 2.40.1 (20161225.0304)\n",
       " -->\n",
       "<!-- Title: G Pages: 1 -->\n",
       "<svg width=\"131pt\" height=\"85pt\"\n",
       " viewBox=\"0.00 0.00 131.00 85.00\" xmlns=\"http://www.w3.org/2000/svg\" xmlns:xlink=\"http://www.w3.org/1999/xlink\">\n",
       "<g id=\"graph0\" class=\"graph\" transform=\"scale(1 1) rotate(0) translate(4 81)\">\n",
       "<title>G</title>\n",
       "<!-- 0 -->\n",
       "<g id=\"node1\" class=\"node\">\n",
       "<title>0</title>\n",
       "<ellipse fill=\"none\" stroke=\"#000000\" cx=\"18\" cy=\"-22\" rx=\"18\" ry=\"18\"/>\n",
       "<text text-anchor=\"middle\" x=\"18\" y=\"-18.3\" font-family=\"Times,serif\" font-size=\"14.00\" fill=\"#000000\">0</text>\n",
       "</g>\n",
       "<!-- 0&#45;&gt;0 -->\n",
       "<g id=\"edge2\" class=\"edge\">\n",
       "<title>0&#45;&gt;0</title>\n",
       "<path fill=\"none\" stroke=\"#000000\" d=\"M11.2664,-39.0373C9.8922,-48.8579 12.1367,-58 18,-58 21.6646,-58 23.9155,-54.4289 24.7529,-49.3529\"/>\n",
       "<polygon fill=\"#000000\" stroke=\"#000000\" points=\"28.2524,-49.0307 24.7336,-39.0373 21.2524,-49.0439 28.2524,-49.0307\"/>\n",
       "<text text-anchor=\"middle\" x=\"18\" y=\"-61.8\" font-family=\"Times,serif\" font-size=\"14.00\" fill=\"#000000\">a</text>\n",
       "</g>\n",
       "<!-- 1 -->\n",
       "<g id=\"node2\" class=\"node\">\n",
       "<title>1</title>\n",
       "<ellipse fill=\"none\" stroke=\"#000000\" cx=\"101\" cy=\"-22\" rx=\"18\" ry=\"18\"/>\n",
       "<ellipse fill=\"none\" stroke=\"#000000\" cx=\"101\" cy=\"-22\" rx=\"22\" ry=\"22\"/>\n",
       "<text text-anchor=\"middle\" x=\"101\" y=\"-18.3\" font-family=\"Times,serif\" font-size=\"14.00\" fill=\"#000000\">1</text>\n",
       "</g>\n",
       "<!-- 0&#45;&gt;1 -->\n",
       "<g id=\"edge1\" class=\"edge\">\n",
       "<title>0&#45;&gt;1</title>\n",
       "<path fill=\"none\" stroke=\"#000000\" d=\"M36.0098,-22C45.5483,-22 57.5554,-22 68.6456,-22\"/>\n",
       "<polygon fill=\"#000000\" stroke=\"#000000\" points=\"68.887,-25.5001 78.887,-22 68.8869,-18.5001 68.887,-25.5001\"/>\n",
       "<text text-anchor=\"middle\" x=\"57.5\" y=\"-25.8\" font-family=\"Times,serif\" font-size=\"14.00\" fill=\"#000000\">b</text>\n",
       "</g>\n",
       "<!-- 1&#45;&gt;0 -->\n",
       "<g id=\"edge4\" class=\"edge\">\n",
       "<title>1&#45;&gt;0</title>\n",
       "<path fill=\"none\" stroke=\"#000000\" d=\"M83.0964,-8.9656C74.4892,-4.2163 63.91,-.5453 54,-3 50.0235,-3.985 46.0019,-5.4981 42.1597,-7.2497\"/>\n",
       "<polygon fill=\"#000000\" stroke=\"#000000\" points=\"40.3818,-4.2287 33.1057,-11.93 43.5962,-10.447 40.3818,-4.2287\"/>\n",
       "<text text-anchor=\"middle\" x=\"57.5\" y=\"-6.8\" font-family=\"Times,serif\" font-size=\"14.00\" fill=\"#000000\">a</text>\n",
       "</g>\n",
       "<!-- 1&#45;&gt;1 -->\n",
       "<g id=\"edge3\" class=\"edge\">\n",
       "<title>1&#45;&gt;1</title>\n",
       "<path fill=\"none\" stroke=\"#000000\" d=\"M93.3173,-42.9908C92.3688,-53.0872 94.9297,-62 101,-62 104.8888,-62 107.3373,-58.3422 108.3456,-53.0587\"/>\n",
       "<polygon fill=\"#000000\" stroke=\"#000000\" points=\"111.846,-53.1023 108.6827,-42.9908 104.8499,-52.868 111.846,-53.1023\"/>\n",
       "<text text-anchor=\"middle\" x=\"101\" y=\"-65.8\" font-family=\"Times,serif\" font-size=\"14.00\" fill=\"#000000\">b</text>\n",
       "</g>\n",
       "</g>\n",
       "</svg>\n"
      ],
      "text/plain": [
       "<IPython.core.display.HTML object>"
      ]
     },
     "metadata": {},
     "output_type": "display_data"
    },
    {
     "data": {
      "text/html": [
       "Final states: {1}"
      ],
      "text/plain": [
       "<IPython.core.display.HTML object>"
      ]
     },
     "metadata": {},
     "output_type": "display_data"
    },
    {
     "data": {
      "text/html": [
       "The teacher disagreed: t = 'baa'"
      ],
      "text/plain": [
       "<IPython.core.display.HTML object>"
      ]
     },
     "metadata": {},
     "output_type": "display_data"
    },
    {
     "data": {
      "text/html": [
       "The following prefixes have been added to S: {'baa', 'ba', 'b'}"
      ],
      "text/plain": [
       "<IPython.core.display.HTML object>"
      ]
     },
     "metadata": {},
     "output_type": "display_data"
    },
    {
     "data": {
      "text/html": [
       "S is now equal to {'', 'ba', 'baa', 'b'}"
      ],
      "text/plain": [
       "<IPython.core.display.HTML object>"
      ]
     },
     "metadata": {},
     "output_type": "display_data"
    },
    {
     "data": {
      "text/html": [
       "\n",
       "        <table>\n",
       "            <tr><th></th><td>&#x3b5;</td></tr>\n",
       "            <tr><th><font color='red'>&#x3b5;</font></th><td>False</td></tr><tr><th><font color='red'>'b'</font></th><td>True</td></tr><tr><th>'a'</th><td>False</td></tr><tr><th><font color='red'>'ba'</font></th><td>False</td></tr><tr><th>'bb'</th><td>True</td></tr><tr><th><font color='red'>'baa'</font></th><td>True</td></tr><tr><th>'baaa'</th><td>False</td></tr><tr><th>'baab'</th><td>True</td></tr><tr><th>'bab'</th><td>True</td></tr>\n",
       "        </table>\n",
       "        "
      ],
      "text/plain": [
       "<IPython.core.display.HTML object>"
      ]
     },
     "metadata": {},
     "output_type": "display_data"
    },
    {
     "data": {
      "text/html": [
       "<b>iteration 3</b>"
      ],
      "text/plain": [
       "<IPython.core.display.HTML object>"
      ]
     },
     "metadata": {},
     "output_type": "display_data"
    },
    {
     "data": {
      "text/html": [
       "\n",
       "        <table>\n",
       "            <tr><th></th><td>&#x3b5;</td></tr>\n",
       "            <tr><th><font color='red'>&#x3b5;</font></th><td>False</td></tr><tr><th><font color='red'>'b'</font></th><td>True</td></tr><tr><th>'a'</th><td>False</td></tr><tr><th><font color='red'>'ba'</font></th><td>False</td></tr><tr><th>'bb'</th><td>True</td></tr><tr><th><font color='red'>'baa'</font></th><td>True</td></tr><tr><th>'baaa'</th><td>False</td></tr><tr><th>'baab'</th><td>True</td></tr><tr><th>'bab'</th><td>True</td></tr>\n",
       "        </table>\n",
       "        "
      ],
      "text/plain": [
       "<IPython.core.display.HTML object>"
      ]
     },
     "metadata": {},
     "output_type": "display_data"
    },
    {
     "data": {
      "text/html": [
       "Observation table is not consistent: (s1, s2, a, e) = ('', 'ba', 'a', ''), adding a to E"
      ],
      "text/plain": [
       "<IPython.core.display.HTML object>"
      ]
     },
     "metadata": {},
     "output_type": "display_data"
    },
    {
     "data": {
      "text/html": [
       "Observation table is closed and consistent"
      ],
      "text/plain": [
       "<IPython.core.display.HTML object>"
      ]
     },
     "metadata": {},
     "output_type": "display_data"
    },
    {
     "data": {
      "text/html": [
       "\n",
       "                    <table>\n",
       "                        <tr>\n",
       "                            <th>Teacher</th>\n",
       "                            <th>Observation table</th>\n",
       "                        </tr>\n",
       "                        <tr>\n",
       "                            <td><?xml version=\"1.0\" encoding=\"UTF-8\" standalone=\"no\"?>\n",
       "<!DOCTYPE svg PUBLIC \"-//W3C//DTD SVG 1.1//EN\"\n",
       " \"http://www.w3.org/Graphics/SVG/1.1/DTD/svg11.dtd\">\n",
       "<!-- Generated by graphviz version 2.40.1 (20161225.0304)\n",
       " -->\n",
       "<!-- Title: G Pages: 1 -->\n",
       "<svg width=\"210pt\" height=\"87pt\"\n",
       " viewBox=\"0.00 0.00 210.00 87.17\" xmlns=\"http://www.w3.org/2000/svg\" xmlns:xlink=\"http://www.w3.org/1999/xlink\">\n",
       "<g id=\"graph0\" class=\"graph\" transform=\"scale(1 1) rotate(0) translate(4 83.1696)\">\n",
       "<title>G</title>\n",
       "<!-- 0 -->\n",
       "<g id=\"node1\" class=\"node\">\n",
       "<title>0</title>\n",
       "<ellipse fill=\"none\" stroke=\"#000000\" cx=\"18\" cy=\"-24.1696\" rx=\"18\" ry=\"18\"/>\n",
       "<text text-anchor=\"middle\" x=\"18\" y=\"-20.4696\" font-family=\"Times,serif\" font-size=\"14.00\" fill=\"#000000\">0</text>\n",
       "</g>\n",
       "<!-- 0&#45;&gt;0 -->\n",
       "<g id=\"edge1\" class=\"edge\">\n",
       "<title>0&#45;&gt;0</title>\n",
       "<path fill=\"none\" stroke=\"#000000\" d=\"M11.2664,-41.2069C9.8922,-51.0275 12.1367,-60.1696 18,-60.1696 21.6646,-60.1696 23.9155,-56.5985 24.7529,-51.5225\"/>\n",
       "<polygon fill=\"#000000\" stroke=\"#000000\" points=\"28.2524,-51.2003 24.7336,-41.2069 21.2524,-51.2135 28.2524,-51.2003\"/>\n",
       "<text text-anchor=\"middle\" x=\"18\" y=\"-63.9696\" font-family=\"Times,serif\" font-size=\"14.00\" fill=\"#000000\">a</text>\n",
       "</g>\n",
       "<!-- 1 -->\n",
       "<g id=\"node2\" class=\"node\">\n",
       "<title>1</title>\n",
       "<ellipse fill=\"none\" stroke=\"#000000\" cx=\"101\" cy=\"-24.1696\" rx=\"18\" ry=\"18\"/>\n",
       "<ellipse fill=\"none\" stroke=\"#000000\" cx=\"101\" cy=\"-24.1696\" rx=\"22\" ry=\"22\"/>\n",
       "<text text-anchor=\"middle\" x=\"101\" y=\"-20.4696\" font-family=\"Times,serif\" font-size=\"14.00\" fill=\"#000000\">1</text>\n",
       "</g>\n",
       "<!-- 0&#45;&gt;1 -->\n",
       "<g id=\"edge2\" class=\"edge\">\n",
       "<title>0&#45;&gt;1</title>\n",
       "<path fill=\"none\" stroke=\"#000000\" d=\"M36.0098,-24.1696C45.5483,-24.1696 57.5554,-24.1696 68.6456,-24.1696\"/>\n",
       "<polygon fill=\"#000000\" stroke=\"#000000\" points=\"68.887,-27.6697 78.887,-24.1696 68.8869,-20.6697 68.887,-27.6697\"/>\n",
       "<text text-anchor=\"middle\" x=\"57.5\" y=\"-27.9696\" font-family=\"Times,serif\" font-size=\"14.00\" fill=\"#000000\">b</text>\n",
       "</g>\n",
       "<!-- 1&#45;&gt;1 -->\n",
       "<g id=\"edge4\" class=\"edge\">\n",
       "<title>1&#45;&gt;1</title>\n",
       "<path fill=\"none\" stroke=\"#000000\" d=\"M93.3173,-45.1603C92.3688,-55.2568 94.9297,-64.1696 101,-64.1696 104.8888,-64.1696 107.3373,-60.5118 108.3456,-55.2282\"/>\n",
       "<polygon fill=\"#000000\" stroke=\"#000000\" points=\"111.846,-55.2719 108.6827,-45.1603 104.8499,-55.0376 111.846,-55.2719\"/>\n",
       "<text text-anchor=\"middle\" x=\"101\" y=\"-67.9696\" font-family=\"Times,serif\" font-size=\"14.00\" fill=\"#000000\">b</text>\n",
       "</g>\n",
       "<!-- 2 -->\n",
       "<g id=\"node3\" class=\"node\">\n",
       "<title>2</title>\n",
       "<ellipse fill=\"none\" stroke=\"#000000\" cx=\"184\" cy=\"-24.1696\" rx=\"18\" ry=\"18\"/>\n",
       "<text text-anchor=\"middle\" x=\"184\" y=\"-20.4696\" font-family=\"Times,serif\" font-size=\"14.00\" fill=\"#000000\">2</text>\n",
       "</g>\n",
       "<!-- 1&#45;&gt;2 -->\n",
       "<g id=\"edge3\" class=\"edge\">\n",
       "<title>1&#45;&gt;2</title>\n",
       "<path fill=\"none\" stroke=\"#000000\" d=\"M119.9192,-35.5641C128.3798,-39.3617 138.5564,-42.1737 148,-40.1696 151.5188,-39.4229 155.1112,-38.3076 158.5985,-37.0068\"/>\n",
       "<polygon fill=\"#000000\" stroke=\"#000000\" points=\"160.1718,-40.141 167.9997,-33.0013 157.428,-33.7011 160.1718,-40.141\"/>\n",
       "<text text-anchor=\"middle\" x=\"144.5\" y=\"-43.9696\" font-family=\"Times,serif\" font-size=\"14.00\" fill=\"#000000\">a</text>\n",
       "</g>\n",
       "<!-- 2&#45;&gt;1 -->\n",
       "<g id=\"edge5\" class=\"edge\">\n",
       "<title>2&#45;&gt;1</title>\n",
       "<path fill=\"none\" stroke=\"#000000\" d=\"M166.0731,-22.3803C160.3086,-21.8841 153.8903,-21.4146 148,-21.1696 143.1495,-20.9678 138.0207,-21.021 133.0036,-21.2218\"/>\n",
       "<polygon fill=\"#000000\" stroke=\"#000000\" points=\"132.7662,-17.7296 122.9873,-21.8067 133.1743,-24.7177 132.7662,-17.7296\"/>\n",
       "<text text-anchor=\"middle\" x=\"144.5\" y=\"-24.9696\" font-family=\"Times,serif\" font-size=\"14.00\" fill=\"#000000\">a</text>\n",
       "</g>\n",
       "<!-- 2&#45;&gt;1 -->\n",
       "<g id=\"edge6\" class=\"edge\">\n",
       "<title>2&#45;&gt;1</title>\n",
       "<path fill=\"none\" stroke=\"#000000\" d=\"M169.8693,-12.4924C163.5789,-8.0259 155.8309,-3.4576 148,-1.1696 140.6863,.9673 133.1198,-.765 126.2513,-4.0605\"/>\n",
       "<polygon fill=\"#000000\" stroke=\"#000000\" points=\"124.2221,-1.1947 117.407,-9.3068 127.7933,-7.2152 124.2221,-1.1947\"/>\n",
       "<text text-anchor=\"middle\" x=\"144.5\" y=\"-4.9696\" font-family=\"Times,serif\" font-size=\"14.00\" fill=\"#000000\">b</text>\n",
       "</g>\n",
       "</g>\n",
       "</svg>\n",
       "</td>\n",
       "                            <td>\n",
       "        <table>\n",
       "            <tr><th></th><td>&#x3b5;</td><td>'a'</td></tr>\n",
       "            <tr><th><font color='red'>&#x3b5;</font></th><td>False</td><td>False</td></tr><tr><th><font color='red'>'b'</font></th><td>True</td><td>False</td></tr><tr><th>'a'</th><td>False</td><td>False</td></tr><tr><th><font color='red'>'ba'</font></th><td>False</td><td>True</td></tr><tr><th>'bb'</th><td>True</td><td>False</td></tr><tr><th><font color='red'>'baa'</font></th><td>True</td><td>False</td></tr><tr><th>'baaa'</th><td>False</td><td>True</td></tr><tr><th>'baab'</th><td>True</td><td>False</td></tr><tr><th>'bab'</th><td>True</td><td>False</td></tr>\n",
       "        </table>\n",
       "        </td>\n",
       "                        </tr>\n",
       "                    </table>\n",
       "                    "
      ],
      "text/plain": [
       "<IPython.core.display.HTML object>"
      ]
     },
     "metadata": {},
     "output_type": "display_data"
    },
    {
     "data": {
      "text/html": [
       "<?xml version=\"1.0\" encoding=\"UTF-8\" standalone=\"no\"?>\n",
       "<!DOCTYPE svg PUBLIC \"-//W3C//DTD SVG 1.1//EN\"\n",
       " \"http://www.w3.org/Graphics/SVG/1.1/DTD/svg11.dtd\">\n",
       "<!-- Generated by graphviz version 2.40.1 (20161225.0304)\n",
       " -->\n",
       "<!-- Title: G Pages: 1 -->\n",
       "<svg width=\"210pt\" height=\"87pt\"\n",
       " viewBox=\"0.00 0.00 210.00 87.17\" xmlns=\"http://www.w3.org/2000/svg\" xmlns:xlink=\"http://www.w3.org/1999/xlink\">\n",
       "<g id=\"graph0\" class=\"graph\" transform=\"scale(1 1) rotate(0) translate(4 83.1696)\">\n",
       "<title>G</title>\n",
       "<!-- 0 -->\n",
       "<g id=\"node1\" class=\"node\">\n",
       "<title>0</title>\n",
       "<ellipse fill=\"none\" stroke=\"#000000\" cx=\"18\" cy=\"-24.1696\" rx=\"18\" ry=\"18\"/>\n",
       "<text text-anchor=\"middle\" x=\"18\" y=\"-20.4696\" font-family=\"Times,serif\" font-size=\"14.00\" fill=\"#000000\">0</text>\n",
       "</g>\n",
       "<!-- 0&#45;&gt;0 -->\n",
       "<g id=\"edge2\" class=\"edge\">\n",
       "<title>0&#45;&gt;0</title>\n",
       "<path fill=\"none\" stroke=\"#000000\" d=\"M11.2664,-41.2069C9.8922,-51.0275 12.1367,-60.1696 18,-60.1696 21.6646,-60.1696 23.9155,-56.5985 24.7529,-51.5225\"/>\n",
       "<polygon fill=\"#000000\" stroke=\"#000000\" points=\"28.2524,-51.2003 24.7336,-41.2069 21.2524,-51.2135 28.2524,-51.2003\"/>\n",
       "<text text-anchor=\"middle\" x=\"18\" y=\"-63.9696\" font-family=\"Times,serif\" font-size=\"14.00\" fill=\"#000000\">a</text>\n",
       "</g>\n",
       "<!-- 1 -->\n",
       "<g id=\"node2\" class=\"node\">\n",
       "<title>1</title>\n",
       "<ellipse fill=\"none\" stroke=\"#000000\" cx=\"101\" cy=\"-24.1696\" rx=\"18\" ry=\"18\"/>\n",
       "<ellipse fill=\"none\" stroke=\"#000000\" cx=\"101\" cy=\"-24.1696\" rx=\"22\" ry=\"22\"/>\n",
       "<text text-anchor=\"middle\" x=\"101\" y=\"-20.4696\" font-family=\"Times,serif\" font-size=\"14.00\" fill=\"#000000\">1</text>\n",
       "</g>\n",
       "<!-- 0&#45;&gt;1 -->\n",
       "<g id=\"edge1\" class=\"edge\">\n",
       "<title>0&#45;&gt;1</title>\n",
       "<path fill=\"none\" stroke=\"#000000\" d=\"M36.0098,-24.1696C45.5483,-24.1696 57.5554,-24.1696 68.6456,-24.1696\"/>\n",
       "<polygon fill=\"#000000\" stroke=\"#000000\" points=\"68.887,-27.6697 78.887,-24.1696 68.8869,-20.6697 68.887,-27.6697\"/>\n",
       "<text text-anchor=\"middle\" x=\"57.5\" y=\"-27.9696\" font-family=\"Times,serif\" font-size=\"14.00\" fill=\"#000000\">b</text>\n",
       "</g>\n",
       "<!-- 1&#45;&gt;1 -->\n",
       "<g id=\"edge3\" class=\"edge\">\n",
       "<title>1&#45;&gt;1</title>\n",
       "<path fill=\"none\" stroke=\"#000000\" d=\"M93.3173,-45.1603C92.3688,-55.2568 94.9297,-64.1696 101,-64.1696 104.8888,-64.1696 107.3373,-60.5118 108.3456,-55.2282\"/>\n",
       "<polygon fill=\"#000000\" stroke=\"#000000\" points=\"111.846,-55.2719 108.6827,-45.1603 104.8499,-55.0376 111.846,-55.2719\"/>\n",
       "<text text-anchor=\"middle\" x=\"101\" y=\"-67.9696\" font-family=\"Times,serif\" font-size=\"14.00\" fill=\"#000000\">b</text>\n",
       "</g>\n",
       "<!-- 2 -->\n",
       "<g id=\"node3\" class=\"node\">\n",
       "<title>2</title>\n",
       "<ellipse fill=\"none\" stroke=\"#000000\" cx=\"184\" cy=\"-24.1696\" rx=\"18\" ry=\"18\"/>\n",
       "<text text-anchor=\"middle\" x=\"184\" y=\"-20.4696\" font-family=\"Times,serif\" font-size=\"14.00\" fill=\"#000000\">2</text>\n",
       "</g>\n",
       "<!-- 1&#45;&gt;2 -->\n",
       "<g id=\"edge4\" class=\"edge\">\n",
       "<title>1&#45;&gt;2</title>\n",
       "<path fill=\"none\" stroke=\"#000000\" d=\"M119.9192,-35.5641C128.3798,-39.3617 138.5564,-42.1737 148,-40.1696 151.5188,-39.4229 155.1112,-38.3076 158.5985,-37.0068\"/>\n",
       "<polygon fill=\"#000000\" stroke=\"#000000\" points=\"160.1718,-40.141 167.9997,-33.0013 157.428,-33.7011 160.1718,-40.141\"/>\n",
       "<text text-anchor=\"middle\" x=\"144.5\" y=\"-43.9696\" font-family=\"Times,serif\" font-size=\"14.00\" fill=\"#000000\">a</text>\n",
       "</g>\n",
       "<!-- 2&#45;&gt;1 -->\n",
       "<g id=\"edge5\" class=\"edge\">\n",
       "<title>2&#45;&gt;1</title>\n",
       "<path fill=\"none\" stroke=\"#000000\" d=\"M166.0731,-22.3803C160.3086,-21.8841 153.8903,-21.4146 148,-21.1696 143.1495,-20.9678 138.0207,-21.021 133.0036,-21.2218\"/>\n",
       "<polygon fill=\"#000000\" stroke=\"#000000\" points=\"132.7662,-17.7296 122.9873,-21.8067 133.1743,-24.7177 132.7662,-17.7296\"/>\n",
       "<text text-anchor=\"middle\" x=\"144.5\" y=\"-24.9696\" font-family=\"Times,serif\" font-size=\"14.00\" fill=\"#000000\">b</text>\n",
       "</g>\n",
       "<!-- 2&#45;&gt;1 -->\n",
       "<g id=\"edge6\" class=\"edge\">\n",
       "<title>2&#45;&gt;1</title>\n",
       "<path fill=\"none\" stroke=\"#000000\" d=\"M169.8693,-12.4924C163.5789,-8.0259 155.8309,-3.4576 148,-1.1696 140.6863,.9673 133.1198,-.765 126.2513,-4.0605\"/>\n",
       "<polygon fill=\"#000000\" stroke=\"#000000\" points=\"124.2221,-1.1947 117.407,-9.3068 127.7933,-7.2152 124.2221,-1.1947\"/>\n",
       "<text text-anchor=\"middle\" x=\"144.5\" y=\"-4.9696\" font-family=\"Times,serif\" font-size=\"14.00\" fill=\"#000000\">a</text>\n",
       "</g>\n",
       "</g>\n",
       "</svg>\n"
      ],
      "text/plain": [
       "<IPython.core.display.HTML object>"
      ]
     },
     "metadata": {},
     "output_type": "display_data"
    },
    {
     "data": {
      "text/html": [
       "Final states: {1}"
      ],
      "text/plain": [
       "<IPython.core.display.HTML object>"
      ]
     },
     "metadata": {},
     "output_type": "display_data"
    },
    {
     "data": {
      "text/html": [
       "<b>Learner</b>"
      ],
      "text/plain": [
       "<IPython.core.display.HTML object>"
      ]
     },
     "metadata": {},
     "output_type": "display_data"
    },
    {
     "data": {
      "text/html": [
       "<?xml version=\"1.0\" encoding=\"UTF-8\" standalone=\"no\"?>\n",
       "<!DOCTYPE svg PUBLIC \"-//W3C//DTD SVG 1.1//EN\"\n",
       " \"http://www.w3.org/Graphics/SVG/1.1/DTD/svg11.dtd\">\n",
       "<!-- Generated by graphviz version 2.40.1 (20161225.0304)\n",
       " -->\n",
       "<!-- Title: G Pages: 1 -->\n",
       "<svg width=\"210pt\" height=\"87pt\"\n",
       " viewBox=\"0.00 0.00 210.00 87.17\" xmlns=\"http://www.w3.org/2000/svg\" xmlns:xlink=\"http://www.w3.org/1999/xlink\">\n",
       "<g id=\"graph0\" class=\"graph\" transform=\"scale(1 1) rotate(0) translate(4 83.1696)\">\n",
       "<title>G</title>\n",
       "<!-- 0 -->\n",
       "<g id=\"node1\" class=\"node\">\n",
       "<title>0</title>\n",
       "<ellipse fill=\"none\" stroke=\"#000000\" cx=\"18\" cy=\"-24.1696\" rx=\"18\" ry=\"18\"/>\n",
       "<text text-anchor=\"middle\" x=\"18\" y=\"-20.4696\" font-family=\"Times,serif\" font-size=\"14.00\" fill=\"#000000\">0</text>\n",
       "</g>\n",
       "<!-- 0&#45;&gt;0 -->\n",
       "<g id=\"edge2\" class=\"edge\">\n",
       "<title>0&#45;&gt;0</title>\n",
       "<path fill=\"none\" stroke=\"#000000\" d=\"M11.2664,-41.2069C9.8922,-51.0275 12.1367,-60.1696 18,-60.1696 21.6646,-60.1696 23.9155,-56.5985 24.7529,-51.5225\"/>\n",
       "<polygon fill=\"#000000\" stroke=\"#000000\" points=\"28.2524,-51.2003 24.7336,-41.2069 21.2524,-51.2135 28.2524,-51.2003\"/>\n",
       "<text text-anchor=\"middle\" x=\"18\" y=\"-63.9696\" font-family=\"Times,serif\" font-size=\"14.00\" fill=\"#000000\">a</text>\n",
       "</g>\n",
       "<!-- 1 -->\n",
       "<g id=\"node2\" class=\"node\">\n",
       "<title>1</title>\n",
       "<ellipse fill=\"none\" stroke=\"#000000\" cx=\"101\" cy=\"-24.1696\" rx=\"18\" ry=\"18\"/>\n",
       "<ellipse fill=\"none\" stroke=\"#000000\" cx=\"101\" cy=\"-24.1696\" rx=\"22\" ry=\"22\"/>\n",
       "<text text-anchor=\"middle\" x=\"101\" y=\"-20.4696\" font-family=\"Times,serif\" font-size=\"14.00\" fill=\"#000000\">1</text>\n",
       "</g>\n",
       "<!-- 0&#45;&gt;1 -->\n",
       "<g id=\"edge1\" class=\"edge\">\n",
       "<title>0&#45;&gt;1</title>\n",
       "<path fill=\"none\" stroke=\"#000000\" d=\"M36.0098,-24.1696C45.5483,-24.1696 57.5554,-24.1696 68.6456,-24.1696\"/>\n",
       "<polygon fill=\"#000000\" stroke=\"#000000\" points=\"68.887,-27.6697 78.887,-24.1696 68.8869,-20.6697 68.887,-27.6697\"/>\n",
       "<text text-anchor=\"middle\" x=\"57.5\" y=\"-27.9696\" font-family=\"Times,serif\" font-size=\"14.00\" fill=\"#000000\">b</text>\n",
       "</g>\n",
       "<!-- 1&#45;&gt;1 -->\n",
       "<g id=\"edge3\" class=\"edge\">\n",
       "<title>1&#45;&gt;1</title>\n",
       "<path fill=\"none\" stroke=\"#000000\" d=\"M93.3173,-45.1603C92.3688,-55.2568 94.9297,-64.1696 101,-64.1696 104.8888,-64.1696 107.3373,-60.5118 108.3456,-55.2282\"/>\n",
       "<polygon fill=\"#000000\" stroke=\"#000000\" points=\"111.846,-55.2719 108.6827,-45.1603 104.8499,-55.0376 111.846,-55.2719\"/>\n",
       "<text text-anchor=\"middle\" x=\"101\" y=\"-67.9696\" font-family=\"Times,serif\" font-size=\"14.00\" fill=\"#000000\">b</text>\n",
       "</g>\n",
       "<!-- 2 -->\n",
       "<g id=\"node3\" class=\"node\">\n",
       "<title>2</title>\n",
       "<ellipse fill=\"none\" stroke=\"#000000\" cx=\"184\" cy=\"-24.1696\" rx=\"18\" ry=\"18\"/>\n",
       "<text text-anchor=\"middle\" x=\"184\" y=\"-20.4696\" font-family=\"Times,serif\" font-size=\"14.00\" fill=\"#000000\">2</text>\n",
       "</g>\n",
       "<!-- 1&#45;&gt;2 -->\n",
       "<g id=\"edge4\" class=\"edge\">\n",
       "<title>1&#45;&gt;2</title>\n",
       "<path fill=\"none\" stroke=\"#000000\" d=\"M119.9192,-35.5641C128.3798,-39.3617 138.5564,-42.1737 148,-40.1696 151.5188,-39.4229 155.1112,-38.3076 158.5985,-37.0068\"/>\n",
       "<polygon fill=\"#000000\" stroke=\"#000000\" points=\"160.1718,-40.141 167.9997,-33.0013 157.428,-33.7011 160.1718,-40.141\"/>\n",
       "<text text-anchor=\"middle\" x=\"144.5\" y=\"-43.9696\" font-family=\"Times,serif\" font-size=\"14.00\" fill=\"#000000\">a</text>\n",
       "</g>\n",
       "<!-- 2&#45;&gt;1 -->\n",
       "<g id=\"edge5\" class=\"edge\">\n",
       "<title>2&#45;&gt;1</title>\n",
       "<path fill=\"none\" stroke=\"#000000\" d=\"M166.0731,-22.3803C160.3086,-21.8841 153.8903,-21.4146 148,-21.1696 143.1495,-20.9678 138.0207,-21.021 133.0036,-21.2218\"/>\n",
       "<polygon fill=\"#000000\" stroke=\"#000000\" points=\"132.7662,-17.7296 122.9873,-21.8067 133.1743,-24.7177 132.7662,-17.7296\"/>\n",
       "<text text-anchor=\"middle\" x=\"144.5\" y=\"-24.9696\" font-family=\"Times,serif\" font-size=\"14.00\" fill=\"#000000\">b</text>\n",
       "</g>\n",
       "<!-- 2&#45;&gt;1 -->\n",
       "<g id=\"edge6\" class=\"edge\">\n",
       "<title>2&#45;&gt;1</title>\n",
       "<path fill=\"none\" stroke=\"#000000\" d=\"M169.8693,-12.4924C163.5789,-8.0259 155.8309,-3.4576 148,-1.1696 140.6863,.9673 133.1198,-.765 126.2513,-4.0605\"/>\n",
       "<polygon fill=\"#000000\" stroke=\"#000000\" points=\"124.2221,-1.1947 117.407,-9.3068 127.7933,-7.2152 124.2221,-1.1947\"/>\n",
       "<text text-anchor=\"middle\" x=\"144.5\" y=\"-4.9696\" font-family=\"Times,serif\" font-size=\"14.00\" fill=\"#000000\">a</text>\n",
       "</g>\n",
       "</g>\n",
       "</svg>\n"
      ],
      "text/plain": [
       "<IPython.core.display.HTML object>"
      ]
     },
     "metadata": {},
     "output_type": "display_data"
    },
    {
     "data": {
      "text/html": [
       ":-)"
      ],
      "text/plain": [
       "<IPython.core.display.HTML object>"
      ]
     },
     "metadata": {},
     "output_type": "display_data"
    },
    {
     "data": {
      "text/html": [
       "<h3>Test G2</h3>"
      ],
      "text/plain": [
       "<IPython.core.display.HTML object>"
      ]
     },
     "metadata": {},
     "output_type": "display_data"
    },
    {
     "data": {
      "text/html": [
       "<?xml version=\"1.0\" encoding=\"UTF-8\" standalone=\"no\"?>\n",
       "<!DOCTYPE svg PUBLIC \"-//W3C//DTD SVG 1.1//EN\"\n",
       " \"http://www.w3.org/Graphics/SVG/1.1/DTD/svg11.dtd\">\n",
       "<!-- Generated by graphviz version 2.40.1 (20161225.0304)\n",
       " -->\n",
       "<!-- Title: G Pages: 1 -->\n",
       "<svg width=\"131pt\" height=\"81pt\"\n",
       " viewBox=\"0.00 0.00 131.00 81.00\" xmlns=\"http://www.w3.org/2000/svg\" xmlns:xlink=\"http://www.w3.org/1999/xlink\">\n",
       "<g id=\"graph0\" class=\"graph\" transform=\"scale(1 1) rotate(0) translate(4 77)\">\n",
       "<title>G</title>\n",
       "<!-- 0 -->\n",
       "<g id=\"node1\" class=\"node\">\n",
       "<title>0</title>\n",
       "<ellipse fill=\"none\" stroke=\"#000000\" cx=\"18\" cy=\"-22\" rx=\"18\" ry=\"18\"/>\n",
       "<text text-anchor=\"middle\" x=\"18\" y=\"-18.3\" font-family=\"Times,serif\" font-size=\"14.00\" fill=\"#000000\">0</text>\n",
       "</g>\n",
       "<!-- 0&#45;&gt;0 -->\n",
       "<g id=\"edge1\" class=\"edge\">\n",
       "<title>0&#45;&gt;0</title>\n",
       "<path fill=\"none\" stroke=\"#000000\" d=\"M11.2664,-39.0373C9.8922,-48.8579 12.1367,-58 18,-58 21.6646,-58 23.9155,-54.4289 24.7529,-49.3529\"/>\n",
       "<polygon fill=\"#000000\" stroke=\"#000000\" points=\"28.2524,-49.0307 24.7336,-39.0373 21.2524,-49.0439 28.2524,-49.0307\"/>\n",
       "<text text-anchor=\"middle\" x=\"18\" y=\"-61.8\" font-family=\"Times,serif\" font-size=\"14.00\" fill=\"#000000\">a</text>\n",
       "</g>\n",
       "<!-- 1 -->\n",
       "<g id=\"node2\" class=\"node\">\n",
       "<title>1</title>\n",
       "<ellipse fill=\"none\" stroke=\"#000000\" cx=\"101\" cy=\"-22\" rx=\"18\" ry=\"18\"/>\n",
       "<ellipse fill=\"none\" stroke=\"#000000\" cx=\"101\" cy=\"-22\" rx=\"22\" ry=\"22\"/>\n",
       "<text text-anchor=\"middle\" x=\"101\" y=\"-18.3\" font-family=\"Times,serif\" font-size=\"14.00\" fill=\"#000000\">1</text>\n",
       "</g>\n",
       "<!-- 0&#45;&gt;1 -->\n",
       "<g id=\"edge2\" class=\"edge\">\n",
       "<title>0&#45;&gt;1</title>\n",
       "<path fill=\"none\" stroke=\"#000000\" d=\"M36.0098,-22C45.5483,-22 57.5554,-22 68.6456,-22\"/>\n",
       "<polygon fill=\"#000000\" stroke=\"#000000\" points=\"68.887,-25.5001 78.887,-22 68.8869,-18.5001 68.887,-25.5001\"/>\n",
       "<text text-anchor=\"middle\" x=\"57.5\" y=\"-25.8\" font-family=\"Times,serif\" font-size=\"14.00\" fill=\"#000000\">b</text>\n",
       "</g>\n",
       "</g>\n",
       "</svg>\n"
      ],
      "text/plain": [
       "<IPython.core.display.HTML object>"
      ]
     },
     "metadata": {},
     "output_type": "display_data"
    },
    {
     "data": {
      "text/html": [
       "Ignored, this automaton must be finite, deterministic and complete"
      ],
      "text/plain": [
       "<IPython.core.display.HTML object>"
      ]
     },
     "metadata": {},
     "output_type": "display_data"
    },
    {
     "data": {
      "text/html": [
       "<h3>Test G3</h3>"
      ],
      "text/plain": [
       "<IPython.core.display.HTML object>"
      ]
     },
     "metadata": {},
     "output_type": "display_data"
    },
    {
     "data": {
      "text/html": [
       "<?xml version=\"1.0\" encoding=\"UTF-8\" standalone=\"no\"?>\n",
       "<!DOCTYPE svg PUBLIC \"-//W3C//DTD SVG 1.1//EN\"\n",
       " \"http://www.w3.org/Graphics/SVG/1.1/DTD/svg11.dtd\">\n",
       "<!-- Generated by graphviz version 2.40.1 (20161225.0304)\n",
       " -->\n",
       "<!-- Title: G Pages: 1 -->\n",
       "<svg width=\"123pt\" height=\"77pt\"\n",
       " viewBox=\"0.00 0.00 123.00 77.00\" xmlns=\"http://www.w3.org/2000/svg\" xmlns:xlink=\"http://www.w3.org/1999/xlink\">\n",
       "<g id=\"graph0\" class=\"graph\" transform=\"scale(1 1) rotate(0) translate(4 73)\">\n",
       "<title>G</title>\n",
       "<!-- 0 -->\n",
       "<g id=\"node1\" class=\"node\">\n",
       "<title>0</title>\n",
       "<ellipse fill=\"none\" stroke=\"#000000\" cx=\"18\" cy=\"-18\" rx=\"18\" ry=\"18\"/>\n",
       "<text text-anchor=\"middle\" x=\"18\" y=\"-14.3\" font-family=\"Times,serif\" font-size=\"14.00\" fill=\"#000000\">0</text>\n",
       "</g>\n",
       "<!-- 0&#45;&gt;0 -->\n",
       "<g id=\"edge1\" class=\"edge\">\n",
       "<title>0&#45;&gt;0</title>\n",
       "<path fill=\"none\" stroke=\"#000000\" d=\"M11.2664,-35.0373C9.8922,-44.8579 12.1367,-54 18,-54 21.6646,-54 23.9155,-50.4289 24.7529,-45.3529\"/>\n",
       "<polygon fill=\"#000000\" stroke=\"#000000\" points=\"28.2524,-45.0307 24.7336,-35.0373 21.2524,-45.0439 28.2524,-45.0307\"/>\n",
       "<text text-anchor=\"middle\" x=\"18\" y=\"-57.8\" font-family=\"Times,serif\" font-size=\"14.00\" fill=\"#000000\">a</text>\n",
       "</g>\n",
       "<!-- 1 -->\n",
       "<g id=\"node2\" class=\"node\">\n",
       "<title>1</title>\n",
       "<ellipse fill=\"none\" stroke=\"#000000\" cx=\"97\" cy=\"-18\" rx=\"18\" ry=\"18\"/>\n",
       "<text text-anchor=\"middle\" x=\"97\" y=\"-14.3\" font-family=\"Times,serif\" font-size=\"14.00\" fill=\"#000000\">1</text>\n",
       "</g>\n",
       "<!-- 0&#45;&gt;1 -->\n",
       "<g id=\"edge2\" class=\"edge\">\n",
       "<title>0&#45;&gt;1</title>\n",
       "<path fill=\"none\" stroke=\"#000000\" d=\"M36.3228,-18C45.8947,-18 57.8223,-18 68.5629,-18\"/>\n",
       "<polygon fill=\"#000000\" stroke=\"#000000\" points=\"68.7766,-21.5001 78.7766,-18 68.7766,-14.5001 68.7766,-21.5001\"/>\n",
       "<text text-anchor=\"middle\" x=\"57.5\" y=\"-21.8\" font-family=\"Times,serif\" font-size=\"14.00\" fill=\"#000000\">b</text>\n",
       "</g>\n",
       "</g>\n",
       "</svg>\n"
      ],
      "text/plain": [
       "<IPython.core.display.HTML object>"
      ]
     },
     "metadata": {},
     "output_type": "display_data"
    },
    {
     "data": {
      "text/html": [
       "Ignored, this automaton must be finite, deterministic and complete"
      ],
      "text/plain": [
       "<IPython.core.display.HTML object>"
      ]
     },
     "metadata": {},
     "output_type": "display_data"
    },
    {
     "data": {
      "text/html": [
       "<h3>Test G4</h3>"
      ],
      "text/plain": [
       "<IPython.core.display.HTML object>"
      ]
     },
     "metadata": {},
     "output_type": "display_data"
    },
    {
     "data": {
      "text/html": [
       "<b>Teacher</b>"
      ],
      "text/plain": [
       "<IPython.core.display.HTML object>"
      ]
     },
     "metadata": {},
     "output_type": "display_data"
    },
    {
     "data": {
      "text/html": [
       "<?xml version=\"1.0\" encoding=\"UTF-8\" standalone=\"no\"?>\n",
       "<!DOCTYPE svg PUBLIC \"-//W3C//DTD SVG 1.1//EN\"\n",
       " \"http://www.w3.org/Graphics/SVG/1.1/DTD/svg11.dtd\">\n",
       "<!-- Generated by graphviz version 2.40.1 (20161225.0304)\n",
       " -->\n",
       "<!-- Title: G Pages: 1 -->\n",
       "<svg width=\"131pt\" height=\"85pt\"\n",
       " viewBox=\"0.00 0.00 131.00 85.00\" xmlns=\"http://www.w3.org/2000/svg\" xmlns:xlink=\"http://www.w3.org/1999/xlink\">\n",
       "<g id=\"graph0\" class=\"graph\" transform=\"scale(1 1) rotate(0) translate(4 81)\">\n",
       "<title>G</title>\n",
       "<!-- 0 -->\n",
       "<g id=\"node1\" class=\"node\">\n",
       "<title>0</title>\n",
       "<ellipse fill=\"none\" stroke=\"#000000\" cx=\"18\" cy=\"-22\" rx=\"18\" ry=\"18\"/>\n",
       "<text text-anchor=\"middle\" x=\"18\" y=\"-18.3\" font-family=\"Times,serif\" font-size=\"14.00\" fill=\"#000000\">0</text>\n",
       "</g>\n",
       "<!-- 0&#45;&gt;0 -->\n",
       "<g id=\"edge1\" class=\"edge\">\n",
       "<title>0&#45;&gt;0</title>\n",
       "<path fill=\"none\" stroke=\"#000000\" d=\"M11.2664,-39.0373C9.8922,-48.8579 12.1367,-58 18,-58 21.6646,-58 23.9155,-54.4289 24.7529,-49.3529\"/>\n",
       "<polygon fill=\"#000000\" stroke=\"#000000\" points=\"28.2524,-49.0307 24.7336,-39.0373 21.2524,-49.0439 28.2524,-49.0307\"/>\n",
       "<text text-anchor=\"middle\" x=\"18\" y=\"-61.8\" font-family=\"Times,serif\" font-size=\"14.00\" fill=\"#000000\">a</text>\n",
       "</g>\n",
       "<!-- 1 -->\n",
       "<g id=\"node2\" class=\"node\">\n",
       "<title>1</title>\n",
       "<ellipse fill=\"none\" stroke=\"#000000\" cx=\"101\" cy=\"-22\" rx=\"18\" ry=\"18\"/>\n",
       "<ellipse fill=\"none\" stroke=\"#000000\" cx=\"101\" cy=\"-22\" rx=\"22\" ry=\"22\"/>\n",
       "<text text-anchor=\"middle\" x=\"101\" y=\"-18.3\" font-family=\"Times,serif\" font-size=\"14.00\" fill=\"#000000\">1</text>\n",
       "</g>\n",
       "<!-- 0&#45;&gt;1 -->\n",
       "<g id=\"edge2\" class=\"edge\">\n",
       "<title>0&#45;&gt;1</title>\n",
       "<path fill=\"none\" stroke=\"#000000\" d=\"M36.0098,-22C45.5483,-22 57.5554,-22 68.6456,-22\"/>\n",
       "<polygon fill=\"#000000\" stroke=\"#000000\" points=\"68.887,-25.5001 78.887,-22 68.8869,-18.5001 68.887,-25.5001\"/>\n",
       "<text text-anchor=\"middle\" x=\"57.5\" y=\"-25.8\" font-family=\"Times,serif\" font-size=\"14.00\" fill=\"#000000\">b</text>\n",
       "</g>\n",
       "<!-- 1&#45;&gt;0 -->\n",
       "<g id=\"edge4\" class=\"edge\">\n",
       "<title>1&#45;&gt;0</title>\n",
       "<path fill=\"none\" stroke=\"#000000\" d=\"M83.0964,-8.9656C74.4892,-4.2163 63.91,-.5453 54,-3 50.0235,-3.985 46.0019,-5.4981 42.1597,-7.2497\"/>\n",
       "<polygon fill=\"#000000\" stroke=\"#000000\" points=\"40.3818,-4.2287 33.1057,-11.93 43.5962,-10.447 40.3818,-4.2287\"/>\n",
       "<text text-anchor=\"middle\" x=\"57.5\" y=\"-6.8\" font-family=\"Times,serif\" font-size=\"14.00\" fill=\"#000000\">a</text>\n",
       "</g>\n",
       "<!-- 1&#45;&gt;1 -->\n",
       "<g id=\"edge3\" class=\"edge\">\n",
       "<title>1&#45;&gt;1</title>\n",
       "<path fill=\"none\" stroke=\"#000000\" d=\"M93.3173,-42.9908C92.3688,-53.0872 94.9297,-62 101,-62 104.8888,-62 107.3373,-58.3422 108.3456,-53.0587\"/>\n",
       "<polygon fill=\"#000000\" stroke=\"#000000\" points=\"111.846,-53.1023 108.6827,-42.9908 104.8499,-52.868 111.846,-53.1023\"/>\n",
       "<text text-anchor=\"middle\" x=\"101\" y=\"-65.8\" font-family=\"Times,serif\" font-size=\"14.00\" fill=\"#000000\">b</text>\n",
       "</g>\n",
       "</g>\n",
       "</svg>\n"
      ],
      "text/plain": [
       "<IPython.core.display.HTML object>"
      ]
     },
     "metadata": {},
     "output_type": "display_data"
    },
    {
     "data": {
      "text/html": [
       "<b>initialize</b>"
      ],
      "text/plain": [
       "<IPython.core.display.HTML object>"
      ]
     },
     "metadata": {},
     "output_type": "display_data"
    },
    {
     "data": {
      "text/html": [
       "\n",
       "        <table>\n",
       "            <tr><th></th><td>&#x3b5;</td></tr>\n",
       "            <tr><th><font color='red'>&#x3b5;</font></th><td>False</td></tr><tr><th>'b'</th><td>True</td></tr><tr><th>'a'</th><td>False</td></tr>\n",
       "        </table>\n",
       "        "
      ],
      "text/plain": [
       "<IPython.core.display.HTML object>"
      ]
     },
     "metadata": {},
     "output_type": "display_data"
    },
    {
     "data": {
      "text/html": [
       "<b>iteration 1</b>"
      ],
      "text/plain": [
       "<IPython.core.display.HTML object>"
      ]
     },
     "metadata": {},
     "output_type": "display_data"
    },
    {
     "data": {
      "text/html": [
       "\n",
       "        <table>\n",
       "            <tr><th></th><td>&#x3b5;</td></tr>\n",
       "            <tr><th><font color='red'>&#x3b5;</font></th><td>False</td></tr><tr><th>'b'</th><td>True</td></tr><tr><th>'a'</th><td>False</td></tr>\n",
       "        </table>\n",
       "        "
      ],
      "text/plain": [
       "<IPython.core.display.HTML object>"
      ]
     },
     "metadata": {},
     "output_type": "display_data"
    },
    {
     "data": {
      "text/html": [
       "Observation table is not closed: (s1, a) = ('', 'b'), adding s1 + a = b to S"
      ],
      "text/plain": [
       "<IPython.core.display.HTML object>"
      ]
     },
     "metadata": {},
     "output_type": "display_data"
    },
    {
     "data": {
      "text/html": [
       "Observation table is closed and consistent"
      ],
      "text/plain": [
       "<IPython.core.display.HTML object>"
      ]
     },
     "metadata": {},
     "output_type": "display_data"
    },
    {
     "data": {
      "text/html": [
       "\n",
       "                    <table>\n",
       "                        <tr>\n",
       "                            <th>Teacher</th>\n",
       "                            <th>Observation table</th>\n",
       "                        </tr>\n",
       "                        <tr>\n",
       "                            <td><?xml version=\"1.0\" encoding=\"UTF-8\" standalone=\"no\"?>\n",
       "<!DOCTYPE svg PUBLIC \"-//W3C//DTD SVG 1.1//EN\"\n",
       " \"http://www.w3.org/Graphics/SVG/1.1/DTD/svg11.dtd\">\n",
       "<!-- Generated by graphviz version 2.40.1 (20161225.0304)\n",
       " -->\n",
       "<!-- Title: G Pages: 1 -->\n",
       "<svg width=\"131pt\" height=\"85pt\"\n",
       " viewBox=\"0.00 0.00 131.00 85.00\" xmlns=\"http://www.w3.org/2000/svg\" xmlns:xlink=\"http://www.w3.org/1999/xlink\">\n",
       "<g id=\"graph0\" class=\"graph\" transform=\"scale(1 1) rotate(0) translate(4 81)\">\n",
       "<title>G</title>\n",
       "<!-- 0 -->\n",
       "<g id=\"node1\" class=\"node\">\n",
       "<title>0</title>\n",
       "<ellipse fill=\"none\" stroke=\"#000000\" cx=\"18\" cy=\"-22\" rx=\"18\" ry=\"18\"/>\n",
       "<text text-anchor=\"middle\" x=\"18\" y=\"-18.3\" font-family=\"Times,serif\" font-size=\"14.00\" fill=\"#000000\">0</text>\n",
       "</g>\n",
       "<!-- 0&#45;&gt;0 -->\n",
       "<g id=\"edge1\" class=\"edge\">\n",
       "<title>0&#45;&gt;0</title>\n",
       "<path fill=\"none\" stroke=\"#000000\" d=\"M11.2664,-39.0373C9.8922,-48.8579 12.1367,-58 18,-58 21.6646,-58 23.9155,-54.4289 24.7529,-49.3529\"/>\n",
       "<polygon fill=\"#000000\" stroke=\"#000000\" points=\"28.2524,-49.0307 24.7336,-39.0373 21.2524,-49.0439 28.2524,-49.0307\"/>\n",
       "<text text-anchor=\"middle\" x=\"18\" y=\"-61.8\" font-family=\"Times,serif\" font-size=\"14.00\" fill=\"#000000\">a</text>\n",
       "</g>\n",
       "<!-- 1 -->\n",
       "<g id=\"node2\" class=\"node\">\n",
       "<title>1</title>\n",
       "<ellipse fill=\"none\" stroke=\"#000000\" cx=\"101\" cy=\"-22\" rx=\"18\" ry=\"18\"/>\n",
       "<ellipse fill=\"none\" stroke=\"#000000\" cx=\"101\" cy=\"-22\" rx=\"22\" ry=\"22\"/>\n",
       "<text text-anchor=\"middle\" x=\"101\" y=\"-18.3\" font-family=\"Times,serif\" font-size=\"14.00\" fill=\"#000000\">1</text>\n",
       "</g>\n",
       "<!-- 0&#45;&gt;1 -->\n",
       "<g id=\"edge2\" class=\"edge\">\n",
       "<title>0&#45;&gt;1</title>\n",
       "<path fill=\"none\" stroke=\"#000000\" d=\"M36.0098,-22C45.5483,-22 57.5554,-22 68.6456,-22\"/>\n",
       "<polygon fill=\"#000000\" stroke=\"#000000\" points=\"68.887,-25.5001 78.887,-22 68.8869,-18.5001 68.887,-25.5001\"/>\n",
       "<text text-anchor=\"middle\" x=\"57.5\" y=\"-25.8\" font-family=\"Times,serif\" font-size=\"14.00\" fill=\"#000000\">b</text>\n",
       "</g>\n",
       "<!-- 1&#45;&gt;0 -->\n",
       "<g id=\"edge4\" class=\"edge\">\n",
       "<title>1&#45;&gt;0</title>\n",
       "<path fill=\"none\" stroke=\"#000000\" d=\"M83.0964,-8.9656C74.4892,-4.2163 63.91,-.5453 54,-3 50.0235,-3.985 46.0019,-5.4981 42.1597,-7.2497\"/>\n",
       "<polygon fill=\"#000000\" stroke=\"#000000\" points=\"40.3818,-4.2287 33.1057,-11.93 43.5962,-10.447 40.3818,-4.2287\"/>\n",
       "<text text-anchor=\"middle\" x=\"57.5\" y=\"-6.8\" font-family=\"Times,serif\" font-size=\"14.00\" fill=\"#000000\">a</text>\n",
       "</g>\n",
       "<!-- 1&#45;&gt;1 -->\n",
       "<g id=\"edge3\" class=\"edge\">\n",
       "<title>1&#45;&gt;1</title>\n",
       "<path fill=\"none\" stroke=\"#000000\" d=\"M93.3173,-42.9908C92.3688,-53.0872 94.9297,-62 101,-62 104.8888,-62 107.3373,-58.3422 108.3456,-53.0587\"/>\n",
       "<polygon fill=\"#000000\" stroke=\"#000000\" points=\"111.846,-53.1023 108.6827,-42.9908 104.8499,-52.868 111.846,-53.1023\"/>\n",
       "<text text-anchor=\"middle\" x=\"101\" y=\"-65.8\" font-family=\"Times,serif\" font-size=\"14.00\" fill=\"#000000\">b</text>\n",
       "</g>\n",
       "</g>\n",
       "</svg>\n",
       "</td>\n",
       "                            <td>\n",
       "        <table>\n",
       "            <tr><th></th><td>&#x3b5;</td></tr>\n",
       "            <tr><th><font color='red'>&#x3b5;</font></th><td>False</td></tr><tr><th><font color='red'>'b'</font></th><td>True</td></tr><tr><th>'a'</th><td>False</td></tr><tr><th>'ba'</th><td>False</td></tr><tr><th>'bb'</th><td>True</td></tr>\n",
       "        </table>\n",
       "        </td>\n",
       "                        </tr>\n",
       "                    </table>\n",
       "                    "
      ],
      "text/plain": [
       "<IPython.core.display.HTML object>"
      ]
     },
     "metadata": {},
     "output_type": "display_data"
    },
    {
     "data": {
      "text/html": [
       "<?xml version=\"1.0\" encoding=\"UTF-8\" standalone=\"no\"?>\n",
       "<!DOCTYPE svg PUBLIC \"-//W3C//DTD SVG 1.1//EN\"\n",
       " \"http://www.w3.org/Graphics/SVG/1.1/DTD/svg11.dtd\">\n",
       "<!-- Generated by graphviz version 2.40.1 (20161225.0304)\n",
       " -->\n",
       "<!-- Title: G Pages: 1 -->\n",
       "<svg width=\"131pt\" height=\"85pt\"\n",
       " viewBox=\"0.00 0.00 131.00 85.00\" xmlns=\"http://www.w3.org/2000/svg\" xmlns:xlink=\"http://www.w3.org/1999/xlink\">\n",
       "<g id=\"graph0\" class=\"graph\" transform=\"scale(1 1) rotate(0) translate(4 81)\">\n",
       "<title>G</title>\n",
       "<!-- 0 -->\n",
       "<g id=\"node1\" class=\"node\">\n",
       "<title>0</title>\n",
       "<ellipse fill=\"none\" stroke=\"#000000\" cx=\"18\" cy=\"-22\" rx=\"18\" ry=\"18\"/>\n",
       "<text text-anchor=\"middle\" x=\"18\" y=\"-18.3\" font-family=\"Times,serif\" font-size=\"14.00\" fill=\"#000000\">0</text>\n",
       "</g>\n",
       "<!-- 0&#45;&gt;0 -->\n",
       "<g id=\"edge2\" class=\"edge\">\n",
       "<title>0&#45;&gt;0</title>\n",
       "<path fill=\"none\" stroke=\"#000000\" d=\"M11.2664,-39.0373C9.8922,-48.8579 12.1367,-58 18,-58 21.6646,-58 23.9155,-54.4289 24.7529,-49.3529\"/>\n",
       "<polygon fill=\"#000000\" stroke=\"#000000\" points=\"28.2524,-49.0307 24.7336,-39.0373 21.2524,-49.0439 28.2524,-49.0307\"/>\n",
       "<text text-anchor=\"middle\" x=\"18\" y=\"-61.8\" font-family=\"Times,serif\" font-size=\"14.00\" fill=\"#000000\">a</text>\n",
       "</g>\n",
       "<!-- 1 -->\n",
       "<g id=\"node2\" class=\"node\">\n",
       "<title>1</title>\n",
       "<ellipse fill=\"none\" stroke=\"#000000\" cx=\"101\" cy=\"-22\" rx=\"18\" ry=\"18\"/>\n",
       "<ellipse fill=\"none\" stroke=\"#000000\" cx=\"101\" cy=\"-22\" rx=\"22\" ry=\"22\"/>\n",
       "<text text-anchor=\"middle\" x=\"101\" y=\"-18.3\" font-family=\"Times,serif\" font-size=\"14.00\" fill=\"#000000\">1</text>\n",
       "</g>\n",
       "<!-- 0&#45;&gt;1 -->\n",
       "<g id=\"edge1\" class=\"edge\">\n",
       "<title>0&#45;&gt;1</title>\n",
       "<path fill=\"none\" stroke=\"#000000\" d=\"M36.0098,-22C45.5483,-22 57.5554,-22 68.6456,-22\"/>\n",
       "<polygon fill=\"#000000\" stroke=\"#000000\" points=\"68.887,-25.5001 78.887,-22 68.8869,-18.5001 68.887,-25.5001\"/>\n",
       "<text text-anchor=\"middle\" x=\"57.5\" y=\"-25.8\" font-family=\"Times,serif\" font-size=\"14.00\" fill=\"#000000\">b</text>\n",
       "</g>\n",
       "<!-- 1&#45;&gt;0 -->\n",
       "<g id=\"edge4\" class=\"edge\">\n",
       "<title>1&#45;&gt;0</title>\n",
       "<path fill=\"none\" stroke=\"#000000\" d=\"M83.0964,-8.9656C74.4892,-4.2163 63.91,-.5453 54,-3 50.0235,-3.985 46.0019,-5.4981 42.1597,-7.2497\"/>\n",
       "<polygon fill=\"#000000\" stroke=\"#000000\" points=\"40.3818,-4.2287 33.1057,-11.93 43.5962,-10.447 40.3818,-4.2287\"/>\n",
       "<text text-anchor=\"middle\" x=\"57.5\" y=\"-6.8\" font-family=\"Times,serif\" font-size=\"14.00\" fill=\"#000000\">a</text>\n",
       "</g>\n",
       "<!-- 1&#45;&gt;1 -->\n",
       "<g id=\"edge3\" class=\"edge\">\n",
       "<title>1&#45;&gt;1</title>\n",
       "<path fill=\"none\" stroke=\"#000000\" d=\"M93.3173,-42.9908C92.3688,-53.0872 94.9297,-62 101,-62 104.8888,-62 107.3373,-58.3422 108.3456,-53.0587\"/>\n",
       "<polygon fill=\"#000000\" stroke=\"#000000\" points=\"111.846,-53.1023 108.6827,-42.9908 104.8499,-52.868 111.846,-53.1023\"/>\n",
       "<text text-anchor=\"middle\" x=\"101\" y=\"-65.8\" font-family=\"Times,serif\" font-size=\"14.00\" fill=\"#000000\">b</text>\n",
       "</g>\n",
       "</g>\n",
       "</svg>\n"
      ],
      "text/plain": [
       "<IPython.core.display.HTML object>"
      ]
     },
     "metadata": {},
     "output_type": "display_data"
    },
    {
     "data": {
      "text/html": [
       "Final states: {1}"
      ],
      "text/plain": [
       "<IPython.core.display.HTML object>"
      ]
     },
     "metadata": {},
     "output_type": "display_data"
    },
    {
     "data": {
      "text/html": [
       "<b>Learner</b>"
      ],
      "text/plain": [
       "<IPython.core.display.HTML object>"
      ]
     },
     "metadata": {},
     "output_type": "display_data"
    },
    {
     "data": {
      "text/html": [
       "<?xml version=\"1.0\" encoding=\"UTF-8\" standalone=\"no\"?>\n",
       "<!DOCTYPE svg PUBLIC \"-//W3C//DTD SVG 1.1//EN\"\n",
       " \"http://www.w3.org/Graphics/SVG/1.1/DTD/svg11.dtd\">\n",
       "<!-- Generated by graphviz version 2.40.1 (20161225.0304)\n",
       " -->\n",
       "<!-- Title: G Pages: 1 -->\n",
       "<svg width=\"131pt\" height=\"85pt\"\n",
       " viewBox=\"0.00 0.00 131.00 85.00\" xmlns=\"http://www.w3.org/2000/svg\" xmlns:xlink=\"http://www.w3.org/1999/xlink\">\n",
       "<g id=\"graph0\" class=\"graph\" transform=\"scale(1 1) rotate(0) translate(4 81)\">\n",
       "<title>G</title>\n",
       "<!-- 0 -->\n",
       "<g id=\"node1\" class=\"node\">\n",
       "<title>0</title>\n",
       "<ellipse fill=\"none\" stroke=\"#000000\" cx=\"18\" cy=\"-22\" rx=\"18\" ry=\"18\"/>\n",
       "<text text-anchor=\"middle\" x=\"18\" y=\"-18.3\" font-family=\"Times,serif\" font-size=\"14.00\" fill=\"#000000\">0</text>\n",
       "</g>\n",
       "<!-- 0&#45;&gt;0 -->\n",
       "<g id=\"edge2\" class=\"edge\">\n",
       "<title>0&#45;&gt;0</title>\n",
       "<path fill=\"none\" stroke=\"#000000\" d=\"M11.2664,-39.0373C9.8922,-48.8579 12.1367,-58 18,-58 21.6646,-58 23.9155,-54.4289 24.7529,-49.3529\"/>\n",
       "<polygon fill=\"#000000\" stroke=\"#000000\" points=\"28.2524,-49.0307 24.7336,-39.0373 21.2524,-49.0439 28.2524,-49.0307\"/>\n",
       "<text text-anchor=\"middle\" x=\"18\" y=\"-61.8\" font-family=\"Times,serif\" font-size=\"14.00\" fill=\"#000000\">a</text>\n",
       "</g>\n",
       "<!-- 1 -->\n",
       "<g id=\"node2\" class=\"node\">\n",
       "<title>1</title>\n",
       "<ellipse fill=\"none\" stroke=\"#000000\" cx=\"101\" cy=\"-22\" rx=\"18\" ry=\"18\"/>\n",
       "<ellipse fill=\"none\" stroke=\"#000000\" cx=\"101\" cy=\"-22\" rx=\"22\" ry=\"22\"/>\n",
       "<text text-anchor=\"middle\" x=\"101\" y=\"-18.3\" font-family=\"Times,serif\" font-size=\"14.00\" fill=\"#000000\">1</text>\n",
       "</g>\n",
       "<!-- 0&#45;&gt;1 -->\n",
       "<g id=\"edge1\" class=\"edge\">\n",
       "<title>0&#45;&gt;1</title>\n",
       "<path fill=\"none\" stroke=\"#000000\" d=\"M36.0098,-22C45.5483,-22 57.5554,-22 68.6456,-22\"/>\n",
       "<polygon fill=\"#000000\" stroke=\"#000000\" points=\"68.887,-25.5001 78.887,-22 68.8869,-18.5001 68.887,-25.5001\"/>\n",
       "<text text-anchor=\"middle\" x=\"57.5\" y=\"-25.8\" font-family=\"Times,serif\" font-size=\"14.00\" fill=\"#000000\">b</text>\n",
       "</g>\n",
       "<!-- 1&#45;&gt;0 -->\n",
       "<g id=\"edge4\" class=\"edge\">\n",
       "<title>1&#45;&gt;0</title>\n",
       "<path fill=\"none\" stroke=\"#000000\" d=\"M83.0964,-8.9656C74.4892,-4.2163 63.91,-.5453 54,-3 50.0235,-3.985 46.0019,-5.4981 42.1597,-7.2497\"/>\n",
       "<polygon fill=\"#000000\" stroke=\"#000000\" points=\"40.3818,-4.2287 33.1057,-11.93 43.5962,-10.447 40.3818,-4.2287\"/>\n",
       "<text text-anchor=\"middle\" x=\"57.5\" y=\"-6.8\" font-family=\"Times,serif\" font-size=\"14.00\" fill=\"#000000\">a</text>\n",
       "</g>\n",
       "<!-- 1&#45;&gt;1 -->\n",
       "<g id=\"edge3\" class=\"edge\">\n",
       "<title>1&#45;&gt;1</title>\n",
       "<path fill=\"none\" stroke=\"#000000\" d=\"M93.3173,-42.9908C92.3688,-53.0872 94.9297,-62 101,-62 104.8888,-62 107.3373,-58.3422 108.3456,-53.0587\"/>\n",
       "<polygon fill=\"#000000\" stroke=\"#000000\" points=\"111.846,-53.1023 108.6827,-42.9908 104.8499,-52.868 111.846,-53.1023\"/>\n",
       "<text text-anchor=\"middle\" x=\"101\" y=\"-65.8\" font-family=\"Times,serif\" font-size=\"14.00\" fill=\"#000000\">b</text>\n",
       "</g>\n",
       "</g>\n",
       "</svg>\n"
      ],
      "text/plain": [
       "<IPython.core.display.HTML object>"
      ]
     },
     "metadata": {},
     "output_type": "display_data"
    },
    {
     "data": {
      "text/html": [
       ":-)"
      ],
      "text/plain": [
       "<IPython.core.display.HTML object>"
      ]
     },
     "metadata": {},
     "output_type": "display_data"
    },
    {
     "data": {
      "text/html": [
       "<h3>Test G5</h3>"
      ],
      "text/plain": [
       "<IPython.core.display.HTML object>"
      ]
     },
     "metadata": {},
     "output_type": "display_data"
    },
    {
     "data": {
      "text/html": [
       "<b>Teacher</b>"
      ],
      "text/plain": [
       "<IPython.core.display.HTML object>"
      ]
     },
     "metadata": {},
     "output_type": "display_data"
    },
    {
     "data": {
      "text/html": [
       "<?xml version=\"1.0\" encoding=\"UTF-8\" standalone=\"no\"?>\n",
       "<!DOCTYPE svg PUBLIC \"-//W3C//DTD SVG 1.1//EN\"\n",
       " \"http://www.w3.org/Graphics/SVG/1.1/DTD/svg11.dtd\">\n",
       "<!-- Generated by graphviz version 2.40.1 (20161225.0304)\n",
       " -->\n",
       "<!-- Title: G Pages: 1 -->\n",
       "<svg width=\"123pt\" height=\"79pt\"\n",
       " viewBox=\"0.00 0.00 123.00 79.24\" xmlns=\"http://www.w3.org/2000/svg\" xmlns:xlink=\"http://www.w3.org/1999/xlink\">\n",
       "<g id=\"graph0\" class=\"graph\" transform=\"scale(1 1) rotate(0) translate(4 75.2363)\">\n",
       "<title>G</title>\n",
       "<!-- 0 -->\n",
       "<g id=\"node1\" class=\"node\">\n",
       "<title>0</title>\n",
       "<ellipse fill=\"none\" stroke=\"#000000\" cx=\"18\" cy=\"-20.2363\" rx=\"18\" ry=\"18\"/>\n",
       "<text text-anchor=\"middle\" x=\"18\" y=\"-16.5363\" font-family=\"Times,serif\" font-size=\"14.00\" fill=\"#000000\">0</text>\n",
       "</g>\n",
       "<!-- 0&#45;&gt;0 -->\n",
       "<g id=\"edge1\" class=\"edge\">\n",
       "<title>0&#45;&gt;0</title>\n",
       "<path fill=\"none\" stroke=\"#000000\" d=\"M11.2664,-37.2736C9.8922,-47.0942 12.1367,-56.2363 18,-56.2363 21.6646,-56.2363 23.9155,-52.6651 24.7529,-47.5892\"/>\n",
       "<polygon fill=\"#000000\" stroke=\"#000000\" points=\"28.2524,-47.2669 24.7336,-37.2736 21.2524,-47.2801 28.2524,-47.2669\"/>\n",
       "<text text-anchor=\"middle\" x=\"18\" y=\"-60.0363\" font-family=\"Times,serif\" font-size=\"14.00\" fill=\"#000000\">a</text>\n",
       "</g>\n",
       "<!-- 1 -->\n",
       "<g id=\"node2\" class=\"node\">\n",
       "<title>1</title>\n",
       "<ellipse fill=\"none\" stroke=\"#000000\" cx=\"97\" cy=\"-20.2363\" rx=\"18\" ry=\"18\"/>\n",
       "<text text-anchor=\"middle\" x=\"97\" y=\"-16.5363\" font-family=\"Times,serif\" font-size=\"14.00\" fill=\"#000000\">1</text>\n",
       "</g>\n",
       "<!-- 0&#45;&gt;1 -->\n",
       "<g id=\"edge2\" class=\"edge\">\n",
       "<title>0&#45;&gt;1</title>\n",
       "<path fill=\"none\" stroke=\"#000000\" d=\"M36.3228,-20.2363C45.8947,-20.2363 57.8223,-20.2363 68.5629,-20.2363\"/>\n",
       "<polygon fill=\"#000000\" stroke=\"#000000\" points=\"68.7766,-23.7363 78.7766,-20.2363 68.7766,-16.7363 68.7766,-23.7363\"/>\n",
       "<text text-anchor=\"middle\" x=\"57.5\" y=\"-24.0363\" font-family=\"Times,serif\" font-size=\"14.00\" fill=\"#000000\">b</text>\n",
       "</g>\n",
       "<!-- 1&#45;&gt;0 -->\n",
       "<g id=\"edge4\" class=\"edge\">\n",
       "<title>1&#45;&gt;0</title>\n",
       "<path fill=\"none\" stroke=\"#000000\" d=\"M82.7184,-8.6008C74.5546,-3.3278 63.9819,1.2363 54,-1.2363 50.0235,-2.2212 46.0019,-3.7344 42.1597,-5.4859\"/>\n",
       "<polygon fill=\"#000000\" stroke=\"#000000\" points=\"40.3818,-2.465 33.1057,-10.1662 43.5962,-8.6833 40.3818,-2.465\"/>\n",
       "<text text-anchor=\"middle\" x=\"57.5\" y=\"-5.0363\" font-family=\"Times,serif\" font-size=\"14.00\" fill=\"#000000\">a</text>\n",
       "</g>\n",
       "<!-- 1&#45;&gt;1 -->\n",
       "<g id=\"edge3\" class=\"edge\">\n",
       "<title>1&#45;&gt;1</title>\n",
       "<path fill=\"none\" stroke=\"#000000\" d=\"M90.2664,-37.2736C88.8922,-47.0942 91.1367,-56.2363 97,-56.2363 100.6646,-56.2363 102.9155,-52.6651 103.7529,-47.5892\"/>\n",
       "<polygon fill=\"#000000\" stroke=\"#000000\" points=\"107.2524,-47.2669 103.7336,-37.2736 100.2524,-47.2801 107.2524,-47.2669\"/>\n",
       "<text text-anchor=\"middle\" x=\"97\" y=\"-60.0363\" font-family=\"Times,serif\" font-size=\"14.00\" fill=\"#000000\">b</text>\n",
       "</g>\n",
       "</g>\n",
       "</svg>\n"
      ],
      "text/plain": [
       "<IPython.core.display.HTML object>"
      ]
     },
     "metadata": {},
     "output_type": "display_data"
    },
    {
     "data": {
      "text/html": [
       "<b>initialize</b>"
      ],
      "text/plain": [
       "<IPython.core.display.HTML object>"
      ]
     },
     "metadata": {},
     "output_type": "display_data"
    },
    {
     "data": {
      "text/html": [
       "\n",
       "        <table>\n",
       "            <tr><th></th><td>&#x3b5;</td></tr>\n",
       "            <tr><th><font color='red'>&#x3b5;</font></th><td>False</td></tr><tr><th>'b'</th><td>False</td></tr><tr><th>'a'</th><td>False</td></tr>\n",
       "        </table>\n",
       "        "
      ],
      "text/plain": [
       "<IPython.core.display.HTML object>"
      ]
     },
     "metadata": {},
     "output_type": "display_data"
    },
    {
     "data": {
      "text/html": [
       "<b>iteration 1</b>"
      ],
      "text/plain": [
       "<IPython.core.display.HTML object>"
      ]
     },
     "metadata": {},
     "output_type": "display_data"
    },
    {
     "data": {
      "text/html": [
       "Observation table is closed and consistent"
      ],
      "text/plain": [
       "<IPython.core.display.HTML object>"
      ]
     },
     "metadata": {},
     "output_type": "display_data"
    },
    {
     "data": {
      "text/html": [
       "\n",
       "                    <table>\n",
       "                        <tr>\n",
       "                            <th>Teacher</th>\n",
       "                            <th>Observation table</th>\n",
       "                        </tr>\n",
       "                        <tr>\n",
       "                            <td><?xml version=\"1.0\" encoding=\"UTF-8\" standalone=\"no\"?>\n",
       "<!DOCTYPE svg PUBLIC \"-//W3C//DTD SVG 1.1//EN\"\n",
       " \"http://www.w3.org/Graphics/SVG/1.1/DTD/svg11.dtd\">\n",
       "<!-- Generated by graphviz version 2.40.1 (20161225.0304)\n",
       " -->\n",
       "<!-- Title: G Pages: 1 -->\n",
       "<svg width=\"123pt\" height=\"79pt\"\n",
       " viewBox=\"0.00 0.00 123.00 79.24\" xmlns=\"http://www.w3.org/2000/svg\" xmlns:xlink=\"http://www.w3.org/1999/xlink\">\n",
       "<g id=\"graph0\" class=\"graph\" transform=\"scale(1 1) rotate(0) translate(4 75.2363)\">\n",
       "<title>G</title>\n",
       "<!-- 0 -->\n",
       "<g id=\"node1\" class=\"node\">\n",
       "<title>0</title>\n",
       "<ellipse fill=\"none\" stroke=\"#000000\" cx=\"18\" cy=\"-20.2363\" rx=\"18\" ry=\"18\"/>\n",
       "<text text-anchor=\"middle\" x=\"18\" y=\"-16.5363\" font-family=\"Times,serif\" font-size=\"14.00\" fill=\"#000000\">0</text>\n",
       "</g>\n",
       "<!-- 0&#45;&gt;0 -->\n",
       "<g id=\"edge1\" class=\"edge\">\n",
       "<title>0&#45;&gt;0</title>\n",
       "<path fill=\"none\" stroke=\"#000000\" d=\"M11.2664,-37.2736C9.8922,-47.0942 12.1367,-56.2363 18,-56.2363 21.6646,-56.2363 23.9155,-52.6651 24.7529,-47.5892\"/>\n",
       "<polygon fill=\"#000000\" stroke=\"#000000\" points=\"28.2524,-47.2669 24.7336,-37.2736 21.2524,-47.2801 28.2524,-47.2669\"/>\n",
       "<text text-anchor=\"middle\" x=\"18\" y=\"-60.0363\" font-family=\"Times,serif\" font-size=\"14.00\" fill=\"#000000\">a</text>\n",
       "</g>\n",
       "<!-- 1 -->\n",
       "<g id=\"node2\" class=\"node\">\n",
       "<title>1</title>\n",
       "<ellipse fill=\"none\" stroke=\"#000000\" cx=\"97\" cy=\"-20.2363\" rx=\"18\" ry=\"18\"/>\n",
       "<text text-anchor=\"middle\" x=\"97\" y=\"-16.5363\" font-family=\"Times,serif\" font-size=\"14.00\" fill=\"#000000\">1</text>\n",
       "</g>\n",
       "<!-- 0&#45;&gt;1 -->\n",
       "<g id=\"edge2\" class=\"edge\">\n",
       "<title>0&#45;&gt;1</title>\n",
       "<path fill=\"none\" stroke=\"#000000\" d=\"M36.3228,-20.2363C45.8947,-20.2363 57.8223,-20.2363 68.5629,-20.2363\"/>\n",
       "<polygon fill=\"#000000\" stroke=\"#000000\" points=\"68.7766,-23.7363 78.7766,-20.2363 68.7766,-16.7363 68.7766,-23.7363\"/>\n",
       "<text text-anchor=\"middle\" x=\"57.5\" y=\"-24.0363\" font-family=\"Times,serif\" font-size=\"14.00\" fill=\"#000000\">b</text>\n",
       "</g>\n",
       "<!-- 1&#45;&gt;0 -->\n",
       "<g id=\"edge4\" class=\"edge\">\n",
       "<title>1&#45;&gt;0</title>\n",
       "<path fill=\"none\" stroke=\"#000000\" d=\"M82.7184,-8.6008C74.5546,-3.3278 63.9819,1.2363 54,-1.2363 50.0235,-2.2212 46.0019,-3.7344 42.1597,-5.4859\"/>\n",
       "<polygon fill=\"#000000\" stroke=\"#000000\" points=\"40.3818,-2.465 33.1057,-10.1662 43.5962,-8.6833 40.3818,-2.465\"/>\n",
       "<text text-anchor=\"middle\" x=\"57.5\" y=\"-5.0363\" font-family=\"Times,serif\" font-size=\"14.00\" fill=\"#000000\">a</text>\n",
       "</g>\n",
       "<!-- 1&#45;&gt;1 -->\n",
       "<g id=\"edge3\" class=\"edge\">\n",
       "<title>1&#45;&gt;1</title>\n",
       "<path fill=\"none\" stroke=\"#000000\" d=\"M90.2664,-37.2736C88.8922,-47.0942 91.1367,-56.2363 97,-56.2363 100.6646,-56.2363 102.9155,-52.6651 103.7529,-47.5892\"/>\n",
       "<polygon fill=\"#000000\" stroke=\"#000000\" points=\"107.2524,-47.2669 103.7336,-37.2736 100.2524,-47.2801 107.2524,-47.2669\"/>\n",
       "<text text-anchor=\"middle\" x=\"97\" y=\"-60.0363\" font-family=\"Times,serif\" font-size=\"14.00\" fill=\"#000000\">b</text>\n",
       "</g>\n",
       "</g>\n",
       "</svg>\n",
       "</td>\n",
       "                            <td>\n",
       "        <table>\n",
       "            <tr><th></th><td>&#x3b5;</td></tr>\n",
       "            <tr><th><font color='red'>&#x3b5;</font></th><td>False</td></tr><tr><th>'b'</th><td>False</td></tr><tr><th>'a'</th><td>False</td></tr>\n",
       "        </table>\n",
       "        </td>\n",
       "                        </tr>\n",
       "                    </table>\n",
       "                    "
      ],
      "text/plain": [
       "<IPython.core.display.HTML object>"
      ]
     },
     "metadata": {},
     "output_type": "display_data"
    },
    {
     "data": {
      "text/html": [
       "<?xml version=\"1.0\" encoding=\"UTF-8\" standalone=\"no\"?>\n",
       "<!DOCTYPE svg PUBLIC \"-//W3C//DTD SVG 1.1//EN\"\n",
       " \"http://www.w3.org/Graphics/SVG/1.1/DTD/svg11.dtd\">\n",
       "<!-- Generated by graphviz version 2.40.1 (20161225.0304)\n",
       " -->\n",
       "<!-- Title: G Pages: 1 -->\n",
       "<svg width=\"44pt\" height=\"110pt\"\n",
       " viewBox=\"0.00 0.00 44.00 110.00\" xmlns=\"http://www.w3.org/2000/svg\" xmlns:xlink=\"http://www.w3.org/1999/xlink\">\n",
       "<g id=\"graph0\" class=\"graph\" transform=\"scale(1 1) rotate(0) translate(4 106)\">\n",
       "<title>G</title>\n",
       "<!-- 0 -->\n",
       "<g id=\"node1\" class=\"node\">\n",
       "<title>0</title>\n",
       "<ellipse fill=\"none\" stroke=\"#000000\" cx=\"18\" cy=\"-18\" rx=\"18\" ry=\"18\"/>\n",
       "<text text-anchor=\"middle\" x=\"18\" y=\"-14.3\" font-family=\"Times,serif\" font-size=\"14.00\" fill=\"#000000\">0</text>\n",
       "</g>\n",
       "<!-- 0&#45;&gt;0 -->\n",
       "<g id=\"edge1\" class=\"edge\">\n",
       "<title>0&#45;&gt;0</title>\n",
       "<path fill=\"none\" stroke=\"#000000\" d=\"M14.7643,-35.7817C14.2144,-45.3149 15.293,-54 18,-54 19.6496,-54 20.6945,-50.7749 21.1347,-46.0981\"/>\n",
       "<polygon fill=\"#000000\" stroke=\"#000000\" points=\"24.6375,-45.8156 21.2357,-35.7817 17.6379,-45.7469 24.6375,-45.8156\"/>\n",
       "<text text-anchor=\"middle\" x=\"18\" y=\"-57.8\" font-family=\"Times,serif\" font-size=\"14.00\" fill=\"#000000\">b</text>\n",
       "</g>\n",
       "<!-- 0&#45;&gt;0 -->\n",
       "<g id=\"edge2\" class=\"edge\">\n",
       "<title>0&#45;&gt;0</title>\n",
       "<path fill=\"none\" stroke=\"#000000\" d=\"M12.6841,-35.4203C9.6538,-52.791 11.4258,-72 18,-72 23.2902,-72 25.4708,-59.5617 24.5419,-45.652\"/>\n",
       "<polygon fill=\"#000000\" stroke=\"#000000\" points=\"27.9808,-44.9328 23.3159,-35.4203 21.0305,-45.7657 27.9808,-44.9328\"/>\n",
       "<text text-anchor=\"middle\" x=\"18\" y=\"-75.8\" font-family=\"Times,serif\" font-size=\"14.00\" fill=\"#000000\">a</text>\n",
       "</g>\n",
       "</g>\n",
       "</svg>\n"
      ],
      "text/plain": [
       "<IPython.core.display.HTML object>"
      ]
     },
     "metadata": {},
     "output_type": "display_data"
    },
    {
     "data": {
      "text/html": [
       "Final states: set()"
      ],
      "text/plain": [
       "<IPython.core.display.HTML object>"
      ]
     },
     "metadata": {},
     "output_type": "display_data"
    },
    {
     "data": {
      "text/html": [
       "<b>Learner</b>"
      ],
      "text/plain": [
       "<IPython.core.display.HTML object>"
      ]
     },
     "metadata": {},
     "output_type": "display_data"
    },
    {
     "data": {
      "text/html": [
       "<?xml version=\"1.0\" encoding=\"UTF-8\" standalone=\"no\"?>\n",
       "<!DOCTYPE svg PUBLIC \"-//W3C//DTD SVG 1.1//EN\"\n",
       " \"http://www.w3.org/Graphics/SVG/1.1/DTD/svg11.dtd\">\n",
       "<!-- Generated by graphviz version 2.40.1 (20161225.0304)\n",
       " -->\n",
       "<!-- Title: G Pages: 1 -->\n",
       "<svg width=\"44pt\" height=\"110pt\"\n",
       " viewBox=\"0.00 0.00 44.00 110.00\" xmlns=\"http://www.w3.org/2000/svg\" xmlns:xlink=\"http://www.w3.org/1999/xlink\">\n",
       "<g id=\"graph0\" class=\"graph\" transform=\"scale(1 1) rotate(0) translate(4 106)\">\n",
       "<title>G</title>\n",
       "<!-- 0 -->\n",
       "<g id=\"node1\" class=\"node\">\n",
       "<title>0</title>\n",
       "<ellipse fill=\"none\" stroke=\"#000000\" cx=\"18\" cy=\"-18\" rx=\"18\" ry=\"18\"/>\n",
       "<text text-anchor=\"middle\" x=\"18\" y=\"-14.3\" font-family=\"Times,serif\" font-size=\"14.00\" fill=\"#000000\">0</text>\n",
       "</g>\n",
       "<!-- 0&#45;&gt;0 -->\n",
       "<g id=\"edge1\" class=\"edge\">\n",
       "<title>0&#45;&gt;0</title>\n",
       "<path fill=\"none\" stroke=\"#000000\" d=\"M14.7643,-35.7817C14.2144,-45.3149 15.293,-54 18,-54 19.6496,-54 20.6945,-50.7749 21.1347,-46.0981\"/>\n",
       "<polygon fill=\"#000000\" stroke=\"#000000\" points=\"24.6375,-45.8156 21.2357,-35.7817 17.6379,-45.7469 24.6375,-45.8156\"/>\n",
       "<text text-anchor=\"middle\" x=\"18\" y=\"-57.8\" font-family=\"Times,serif\" font-size=\"14.00\" fill=\"#000000\">b</text>\n",
       "</g>\n",
       "<!-- 0&#45;&gt;0 -->\n",
       "<g id=\"edge2\" class=\"edge\">\n",
       "<title>0&#45;&gt;0</title>\n",
       "<path fill=\"none\" stroke=\"#000000\" d=\"M12.6841,-35.4203C9.6538,-52.791 11.4258,-72 18,-72 23.2902,-72 25.4708,-59.5617 24.5419,-45.652\"/>\n",
       "<polygon fill=\"#000000\" stroke=\"#000000\" points=\"27.9808,-44.9328 23.3159,-35.4203 21.0305,-45.7657 27.9808,-44.9328\"/>\n",
       "<text text-anchor=\"middle\" x=\"18\" y=\"-75.8\" font-family=\"Times,serif\" font-size=\"14.00\" fill=\"#000000\">a</text>\n",
       "</g>\n",
       "</g>\n",
       "</svg>\n"
      ],
      "text/plain": [
       "<IPython.core.display.HTML object>"
      ]
     },
     "metadata": {},
     "output_type": "display_data"
    },
    {
     "data": {
      "text/html": [
       ":-)"
      ],
      "text/plain": [
       "<IPython.core.display.HTML object>"
      ]
     },
     "metadata": {},
     "output_type": "display_data"
    }
   ],
   "source": [
    "from pybgl.automaton            import Automaton, is_complete, make_automaton, vertices\n",
    "from pybgl.graphviz             import dotstr_to_html\n",
    "from pybgl.html                 import html\n",
    "from lstar.automaton_match      import automaton_match\n",
    "from lstar.observation_table    import ObservationTable\n",
    "from lstar.learner              import Learner, make_automaton_from_observation_table\n",
    "from lstar.teacher              import Teacher\n",
    "\n",
    "G1 = make_automaton(\n",
    "    [\n",
    "        (0, 0, 'a'), (0, 1, 'b'),\n",
    "        (1, 2, 'a'), (1, 1, 'b'),\n",
    "        (2, 1, 'a'), (2, 1, 'b'),\n",
    "    ], 0, {1}\n",
    ")\n",
    "\n",
    "G2 = make_automaton(\n",
    "    [\n",
    "        (0, 0, 'a'), (0, 1, 'b'),\n",
    "    ], 0, {1}\n",
    ")\n",
    "\n",
    "G3 = make_automaton(\n",
    "    [\n",
    "        (0, 0, 'a'), (0, 1, 'b'),\n",
    "    ], 0, {}\n",
    ")\n",
    "\n",
    "G4 = make_automaton(\n",
    "    [\n",
    "        (0, 0, 'a'), (0, 1, 'b'),\n",
    "        (1, 1, 'b'), (1, 0, 'a')\n",
    "    ], 0, {1}\n",
    ")\n",
    "\n",
    "G5 = make_automaton(\n",
    "    [\n",
    "        (0, 0, 'a'), (0, 1, 'b'),\n",
    "        (1, 1, 'b'), (1, 0, 'a')\n",
    "    ], 0, {}\n",
    ")\n",
    "\n",
    "def test_learner(g :Automaton, verbose :bool = False, write_files :bool = False):\n",
    "    if not is_complete(g):\n",
    "        html(dotstr_to_html(g.to_dot()))\n",
    "        html(\"Ignored, this automaton must be finite, deterministic and complete\")\n",
    "        return\n",
    "\n",
    "    teacher = Teacher(g)\n",
    "    html(\"<b>Teacher</b>\")\n",
    "    html(dotstr_to_html(teacher.g.to_dot()))\n",
    "\n",
    "    learner = Learner(teacher)\n",
    "    h = learner.learn(verbose = verbose, write_files = write_files)\n",
    "    html(\"<b>Learner</b>\")\n",
    "    html(dotstr_to_html(h.to_dot()))\n",
    "\n",
    "    assert automaton_match(g, h) == None\n",
    "    html(\":-)\")\n",
    "\n",
    "def test_learners(gs = [G1, G2, G3, G4, G5], verbose = False):\n",
    "    for (i, g) in enumerate(gs):\n",
    "        html(\"<h3>Test G%d</h3>\" % (i + 1))\n",
    "        test_learner(g, verbose)\n",
    "        \n",
    "test_learners(verbose = True)"
   ]
  },
  {
   "cell_type": "code",
   "execution_count": 7,
   "metadata": {
    "ExecuteTime": {
     "end_time": "2019-09-02T13:23:22.555510Z",
     "start_time": "2019-09-02T13:23:22.209877Z"
    },
    "scrolled": false
   },
   "outputs": [
    {
     "data": {
      "text/html": [
       "<b>Teacher</b>"
      ],
      "text/plain": [
       "<IPython.core.display.HTML object>"
      ]
     },
     "metadata": {},
     "output_type": "display_data"
    },
    {
     "data": {
      "text/html": [
       "<?xml version=\"1.0\" encoding=\"UTF-8\" standalone=\"no\"?>\n",
       "<!DOCTYPE svg PUBLIC \"-//W3C//DTD SVG 1.1//EN\"\n",
       " \"http://www.w3.org/Graphics/SVG/1.1/DTD/svg11.dtd\">\n",
       "<!-- Generated by graphviz version 2.40.1 (20161225.0304)\n",
       " -->\n",
       "<!-- Title: G Pages: 1 -->\n",
       "<svg width=\"210pt\" height=\"87pt\"\n",
       " viewBox=\"0.00 0.00 210.00 87.17\" xmlns=\"http://www.w3.org/2000/svg\" xmlns:xlink=\"http://www.w3.org/1999/xlink\">\n",
       "<g id=\"graph0\" class=\"graph\" transform=\"scale(1 1) rotate(0) translate(4 83.1696)\">\n",
       "<title>G</title>\n",
       "<!-- 0 -->\n",
       "<g id=\"node1\" class=\"node\">\n",
       "<title>0</title>\n",
       "<ellipse fill=\"none\" stroke=\"#000000\" cx=\"18\" cy=\"-24.1696\" rx=\"18\" ry=\"18\"/>\n",
       "<text text-anchor=\"middle\" x=\"18\" y=\"-20.4696\" font-family=\"Times,serif\" font-size=\"14.00\" fill=\"#000000\">0</text>\n",
       "</g>\n",
       "<!-- 0&#45;&gt;0 -->\n",
       "<g id=\"edge1\" class=\"edge\">\n",
       "<title>0&#45;&gt;0</title>\n",
       "<path fill=\"none\" stroke=\"#000000\" d=\"M11.2664,-41.2069C9.8922,-51.0275 12.1367,-60.1696 18,-60.1696 21.6646,-60.1696 23.9155,-56.5985 24.7529,-51.5225\"/>\n",
       "<polygon fill=\"#000000\" stroke=\"#000000\" points=\"28.2524,-51.2003 24.7336,-41.2069 21.2524,-51.2135 28.2524,-51.2003\"/>\n",
       "<text text-anchor=\"middle\" x=\"18\" y=\"-63.9696\" font-family=\"Times,serif\" font-size=\"14.00\" fill=\"#000000\">a</text>\n",
       "</g>\n",
       "<!-- 1 -->\n",
       "<g id=\"node2\" class=\"node\">\n",
       "<title>1</title>\n",
       "<ellipse fill=\"none\" stroke=\"#000000\" cx=\"101\" cy=\"-24.1696\" rx=\"18\" ry=\"18\"/>\n",
       "<ellipse fill=\"none\" stroke=\"#000000\" cx=\"101\" cy=\"-24.1696\" rx=\"22\" ry=\"22\"/>\n",
       "<text text-anchor=\"middle\" x=\"101\" y=\"-20.4696\" font-family=\"Times,serif\" font-size=\"14.00\" fill=\"#000000\">1</text>\n",
       "</g>\n",
       "<!-- 0&#45;&gt;1 -->\n",
       "<g id=\"edge2\" class=\"edge\">\n",
       "<title>0&#45;&gt;1</title>\n",
       "<path fill=\"none\" stroke=\"#000000\" d=\"M36.0098,-24.1696C45.5483,-24.1696 57.5554,-24.1696 68.6456,-24.1696\"/>\n",
       "<polygon fill=\"#000000\" stroke=\"#000000\" points=\"68.887,-27.6697 78.887,-24.1696 68.8869,-20.6697 68.887,-27.6697\"/>\n",
       "<text text-anchor=\"middle\" x=\"57.5\" y=\"-27.9696\" font-family=\"Times,serif\" font-size=\"14.00\" fill=\"#000000\">b</text>\n",
       "</g>\n",
       "<!-- 1&#45;&gt;1 -->\n",
       "<g id=\"edge4\" class=\"edge\">\n",
       "<title>1&#45;&gt;1</title>\n",
       "<path fill=\"none\" stroke=\"#000000\" d=\"M93.3173,-45.1603C92.3688,-55.2568 94.9297,-64.1696 101,-64.1696 104.8888,-64.1696 107.3373,-60.5118 108.3456,-55.2282\"/>\n",
       "<polygon fill=\"#000000\" stroke=\"#000000\" points=\"111.846,-55.2719 108.6827,-45.1603 104.8499,-55.0376 111.846,-55.2719\"/>\n",
       "<text text-anchor=\"middle\" x=\"101\" y=\"-67.9696\" font-family=\"Times,serif\" font-size=\"14.00\" fill=\"#000000\">b</text>\n",
       "</g>\n",
       "<!-- 2 -->\n",
       "<g id=\"node3\" class=\"node\">\n",
       "<title>2</title>\n",
       "<ellipse fill=\"none\" stroke=\"#000000\" cx=\"184\" cy=\"-24.1696\" rx=\"18\" ry=\"18\"/>\n",
       "<text text-anchor=\"middle\" x=\"184\" y=\"-20.4696\" font-family=\"Times,serif\" font-size=\"14.00\" fill=\"#000000\">2</text>\n",
       "</g>\n",
       "<!-- 1&#45;&gt;2 -->\n",
       "<g id=\"edge3\" class=\"edge\">\n",
       "<title>1&#45;&gt;2</title>\n",
       "<path fill=\"none\" stroke=\"#000000\" d=\"M119.9192,-35.5641C128.3798,-39.3617 138.5564,-42.1737 148,-40.1696 151.5188,-39.4229 155.1112,-38.3076 158.5985,-37.0068\"/>\n",
       "<polygon fill=\"#000000\" stroke=\"#000000\" points=\"160.1718,-40.141 167.9997,-33.0013 157.428,-33.7011 160.1718,-40.141\"/>\n",
       "<text text-anchor=\"middle\" x=\"144.5\" y=\"-43.9696\" font-family=\"Times,serif\" font-size=\"14.00\" fill=\"#000000\">a</text>\n",
       "</g>\n",
       "<!-- 2&#45;&gt;1 -->\n",
       "<g id=\"edge5\" class=\"edge\">\n",
       "<title>2&#45;&gt;1</title>\n",
       "<path fill=\"none\" stroke=\"#000000\" d=\"M166.0731,-22.3803C160.3086,-21.8841 153.8903,-21.4146 148,-21.1696 143.1495,-20.9678 138.0207,-21.021 133.0036,-21.2218\"/>\n",
       "<polygon fill=\"#000000\" stroke=\"#000000\" points=\"132.7662,-17.7296 122.9873,-21.8067 133.1743,-24.7177 132.7662,-17.7296\"/>\n",
       "<text text-anchor=\"middle\" x=\"144.5\" y=\"-24.9696\" font-family=\"Times,serif\" font-size=\"14.00\" fill=\"#000000\">a</text>\n",
       "</g>\n",
       "<!-- 2&#45;&gt;1 -->\n",
       "<g id=\"edge6\" class=\"edge\">\n",
       "<title>2&#45;&gt;1</title>\n",
       "<path fill=\"none\" stroke=\"#000000\" d=\"M169.8693,-12.4924C163.5789,-8.0259 155.8309,-3.4576 148,-1.1696 140.6863,.9673 133.1198,-.765 126.2513,-4.0605\"/>\n",
       "<polygon fill=\"#000000\" stroke=\"#000000\" points=\"124.2221,-1.1947 117.407,-9.3068 127.7933,-7.2152 124.2221,-1.1947\"/>\n",
       "<text text-anchor=\"middle\" x=\"144.5\" y=\"-4.9696\" font-family=\"Times,serif\" font-size=\"14.00\" fill=\"#000000\">b</text>\n",
       "</g>\n",
       "</g>\n",
       "</svg>\n"
      ],
      "text/plain": [
       "<IPython.core.display.HTML object>"
      ]
     },
     "metadata": {},
     "output_type": "display_data"
    },
    {
     "data": {
      "text/html": [
       "<b>initialize</b>"
      ],
      "text/plain": [
       "<IPython.core.display.HTML object>"
      ]
     },
     "metadata": {},
     "output_type": "display_data"
    },
    {
     "data": {
      "text/html": [
       "\n",
       "        <table>\n",
       "            <tr><th></th><td>&#x3b5;</td></tr>\n",
       "            <tr><th><font color='red'>&#x3b5;</font></th><td>False</td></tr><tr><th>'b'</th><td>True</td></tr><tr><th>'a'</th><td>False</td></tr>\n",
       "        </table>\n",
       "        "
      ],
      "text/plain": [
       "<IPython.core.display.HTML object>"
      ]
     },
     "metadata": {},
     "output_type": "display_data"
    },
    {
     "data": {
      "text/html": [
       "<b>iteration 1</b>"
      ],
      "text/plain": [
       "<IPython.core.display.HTML object>"
      ]
     },
     "metadata": {},
     "output_type": "display_data"
    },
    {
     "data": {
      "text/html": [
       "\n",
       "        <table>\n",
       "            <tr><th></th><td>&#x3b5;</td></tr>\n",
       "            <tr><th><font color='red'>&#x3b5;</font></th><td>False</td></tr><tr><th>'b'</th><td>True</td></tr><tr><th>'a'</th><td>False</td></tr>\n",
       "        </table>\n",
       "        "
      ],
      "text/plain": [
       "<IPython.core.display.HTML object>"
      ]
     },
     "metadata": {},
     "output_type": "display_data"
    },
    {
     "data": {
      "text/html": [
       "Observation table is not closed: (s1, a) = ('', 'b'), adding s1 + a = b to S"
      ],
      "text/plain": [
       "<IPython.core.display.HTML object>"
      ]
     },
     "metadata": {},
     "output_type": "display_data"
    },
    {
     "data": {
      "text/html": [
       "Observation table is closed and consistent"
      ],
      "text/plain": [
       "<IPython.core.display.HTML object>"
      ]
     },
     "metadata": {},
     "output_type": "display_data"
    },
    {
     "data": {
      "text/html": [
       "\n",
       "                    <table>\n",
       "                        <tr>\n",
       "                            <th>Teacher</th>\n",
       "                            <th>Observation table</th>\n",
       "                        </tr>\n",
       "                        <tr>\n",
       "                            <td><?xml version=\"1.0\" encoding=\"UTF-8\" standalone=\"no\"?>\n",
       "<!DOCTYPE svg PUBLIC \"-//W3C//DTD SVG 1.1//EN\"\n",
       " \"http://www.w3.org/Graphics/SVG/1.1/DTD/svg11.dtd\">\n",
       "<!-- Generated by graphviz version 2.40.1 (20161225.0304)\n",
       " -->\n",
       "<!-- Title: G Pages: 1 -->\n",
       "<svg width=\"210pt\" height=\"87pt\"\n",
       " viewBox=\"0.00 0.00 210.00 87.17\" xmlns=\"http://www.w3.org/2000/svg\" xmlns:xlink=\"http://www.w3.org/1999/xlink\">\n",
       "<g id=\"graph0\" class=\"graph\" transform=\"scale(1 1) rotate(0) translate(4 83.1696)\">\n",
       "<title>G</title>\n",
       "<!-- 0 -->\n",
       "<g id=\"node1\" class=\"node\">\n",
       "<title>0</title>\n",
       "<ellipse fill=\"none\" stroke=\"#000000\" cx=\"18\" cy=\"-24.1696\" rx=\"18\" ry=\"18\"/>\n",
       "<text text-anchor=\"middle\" x=\"18\" y=\"-20.4696\" font-family=\"Times,serif\" font-size=\"14.00\" fill=\"#000000\">0</text>\n",
       "</g>\n",
       "<!-- 0&#45;&gt;0 -->\n",
       "<g id=\"edge1\" class=\"edge\">\n",
       "<title>0&#45;&gt;0</title>\n",
       "<path fill=\"none\" stroke=\"#000000\" d=\"M11.2664,-41.2069C9.8922,-51.0275 12.1367,-60.1696 18,-60.1696 21.6646,-60.1696 23.9155,-56.5985 24.7529,-51.5225\"/>\n",
       "<polygon fill=\"#000000\" stroke=\"#000000\" points=\"28.2524,-51.2003 24.7336,-41.2069 21.2524,-51.2135 28.2524,-51.2003\"/>\n",
       "<text text-anchor=\"middle\" x=\"18\" y=\"-63.9696\" font-family=\"Times,serif\" font-size=\"14.00\" fill=\"#000000\">a</text>\n",
       "</g>\n",
       "<!-- 1 -->\n",
       "<g id=\"node2\" class=\"node\">\n",
       "<title>1</title>\n",
       "<ellipse fill=\"none\" stroke=\"#000000\" cx=\"101\" cy=\"-24.1696\" rx=\"18\" ry=\"18\"/>\n",
       "<ellipse fill=\"none\" stroke=\"#000000\" cx=\"101\" cy=\"-24.1696\" rx=\"22\" ry=\"22\"/>\n",
       "<text text-anchor=\"middle\" x=\"101\" y=\"-20.4696\" font-family=\"Times,serif\" font-size=\"14.00\" fill=\"#000000\">1</text>\n",
       "</g>\n",
       "<!-- 0&#45;&gt;1 -->\n",
       "<g id=\"edge2\" class=\"edge\">\n",
       "<title>0&#45;&gt;1</title>\n",
       "<path fill=\"none\" stroke=\"#000000\" d=\"M36.0098,-24.1696C45.5483,-24.1696 57.5554,-24.1696 68.6456,-24.1696\"/>\n",
       "<polygon fill=\"#000000\" stroke=\"#000000\" points=\"68.887,-27.6697 78.887,-24.1696 68.8869,-20.6697 68.887,-27.6697\"/>\n",
       "<text text-anchor=\"middle\" x=\"57.5\" y=\"-27.9696\" font-family=\"Times,serif\" font-size=\"14.00\" fill=\"#000000\">b</text>\n",
       "</g>\n",
       "<!-- 1&#45;&gt;1 -->\n",
       "<g id=\"edge4\" class=\"edge\">\n",
       "<title>1&#45;&gt;1</title>\n",
       "<path fill=\"none\" stroke=\"#000000\" d=\"M93.3173,-45.1603C92.3688,-55.2568 94.9297,-64.1696 101,-64.1696 104.8888,-64.1696 107.3373,-60.5118 108.3456,-55.2282\"/>\n",
       "<polygon fill=\"#000000\" stroke=\"#000000\" points=\"111.846,-55.2719 108.6827,-45.1603 104.8499,-55.0376 111.846,-55.2719\"/>\n",
       "<text text-anchor=\"middle\" x=\"101\" y=\"-67.9696\" font-family=\"Times,serif\" font-size=\"14.00\" fill=\"#000000\">b</text>\n",
       "</g>\n",
       "<!-- 2 -->\n",
       "<g id=\"node3\" class=\"node\">\n",
       "<title>2</title>\n",
       "<ellipse fill=\"none\" stroke=\"#000000\" cx=\"184\" cy=\"-24.1696\" rx=\"18\" ry=\"18\"/>\n",
       "<text text-anchor=\"middle\" x=\"184\" y=\"-20.4696\" font-family=\"Times,serif\" font-size=\"14.00\" fill=\"#000000\">2</text>\n",
       "</g>\n",
       "<!-- 1&#45;&gt;2 -->\n",
       "<g id=\"edge3\" class=\"edge\">\n",
       "<title>1&#45;&gt;2</title>\n",
       "<path fill=\"none\" stroke=\"#000000\" d=\"M119.9192,-35.5641C128.3798,-39.3617 138.5564,-42.1737 148,-40.1696 151.5188,-39.4229 155.1112,-38.3076 158.5985,-37.0068\"/>\n",
       "<polygon fill=\"#000000\" stroke=\"#000000\" points=\"160.1718,-40.141 167.9997,-33.0013 157.428,-33.7011 160.1718,-40.141\"/>\n",
       "<text text-anchor=\"middle\" x=\"144.5\" y=\"-43.9696\" font-family=\"Times,serif\" font-size=\"14.00\" fill=\"#000000\">a</text>\n",
       "</g>\n",
       "<!-- 2&#45;&gt;1 -->\n",
       "<g id=\"edge5\" class=\"edge\">\n",
       "<title>2&#45;&gt;1</title>\n",
       "<path fill=\"none\" stroke=\"#000000\" d=\"M166.0731,-22.3803C160.3086,-21.8841 153.8903,-21.4146 148,-21.1696 143.1495,-20.9678 138.0207,-21.021 133.0036,-21.2218\"/>\n",
       "<polygon fill=\"#000000\" stroke=\"#000000\" points=\"132.7662,-17.7296 122.9873,-21.8067 133.1743,-24.7177 132.7662,-17.7296\"/>\n",
       "<text text-anchor=\"middle\" x=\"144.5\" y=\"-24.9696\" font-family=\"Times,serif\" font-size=\"14.00\" fill=\"#000000\">a</text>\n",
       "</g>\n",
       "<!-- 2&#45;&gt;1 -->\n",
       "<g id=\"edge6\" class=\"edge\">\n",
       "<title>2&#45;&gt;1</title>\n",
       "<path fill=\"none\" stroke=\"#000000\" d=\"M169.8693,-12.4924C163.5789,-8.0259 155.8309,-3.4576 148,-1.1696 140.6863,.9673 133.1198,-.765 126.2513,-4.0605\"/>\n",
       "<polygon fill=\"#000000\" stroke=\"#000000\" points=\"124.2221,-1.1947 117.407,-9.3068 127.7933,-7.2152 124.2221,-1.1947\"/>\n",
       "<text text-anchor=\"middle\" x=\"144.5\" y=\"-4.9696\" font-family=\"Times,serif\" font-size=\"14.00\" fill=\"#000000\">b</text>\n",
       "</g>\n",
       "</g>\n",
       "</svg>\n",
       "</td>\n",
       "                            <td>\n",
       "        <table>\n",
       "            <tr><th></th><td>&#x3b5;</td></tr>\n",
       "            <tr><th><font color='red'>&#x3b5;</font></th><td>False</td></tr><tr><th><font color='red'>'b'</font></th><td>True</td></tr><tr><th>'a'</th><td>False</td></tr><tr><th>'ba'</th><td>False</td></tr><tr><th>'bb'</th><td>True</td></tr>\n",
       "        </table>\n",
       "        </td>\n",
       "                        </tr>\n",
       "                    </table>\n",
       "                    "
      ],
      "text/plain": [
       "<IPython.core.display.HTML object>"
      ]
     },
     "metadata": {},
     "output_type": "display_data"
    },
    {
     "data": {
      "text/html": [
       "<?xml version=\"1.0\" encoding=\"UTF-8\" standalone=\"no\"?>\n",
       "<!DOCTYPE svg PUBLIC \"-//W3C//DTD SVG 1.1//EN\"\n",
       " \"http://www.w3.org/Graphics/SVG/1.1/DTD/svg11.dtd\">\n",
       "<!-- Generated by graphviz version 2.40.1 (20161225.0304)\n",
       " -->\n",
       "<!-- Title: G Pages: 1 -->\n",
       "<svg width=\"131pt\" height=\"85pt\"\n",
       " viewBox=\"0.00 0.00 131.00 85.00\" xmlns=\"http://www.w3.org/2000/svg\" xmlns:xlink=\"http://www.w3.org/1999/xlink\">\n",
       "<g id=\"graph0\" class=\"graph\" transform=\"scale(1 1) rotate(0) translate(4 81)\">\n",
       "<title>G</title>\n",
       "<!-- 0 -->\n",
       "<g id=\"node1\" class=\"node\">\n",
       "<title>0</title>\n",
       "<ellipse fill=\"none\" stroke=\"#000000\" cx=\"18\" cy=\"-22\" rx=\"18\" ry=\"18\"/>\n",
       "<text text-anchor=\"middle\" x=\"18\" y=\"-18.3\" font-family=\"Times,serif\" font-size=\"14.00\" fill=\"#000000\">0</text>\n",
       "</g>\n",
       "<!-- 0&#45;&gt;0 -->\n",
       "<g id=\"edge2\" class=\"edge\">\n",
       "<title>0&#45;&gt;0</title>\n",
       "<path fill=\"none\" stroke=\"#000000\" d=\"M11.2664,-39.0373C9.8922,-48.8579 12.1367,-58 18,-58 21.6646,-58 23.9155,-54.4289 24.7529,-49.3529\"/>\n",
       "<polygon fill=\"#000000\" stroke=\"#000000\" points=\"28.2524,-49.0307 24.7336,-39.0373 21.2524,-49.0439 28.2524,-49.0307\"/>\n",
       "<text text-anchor=\"middle\" x=\"18\" y=\"-61.8\" font-family=\"Times,serif\" font-size=\"14.00\" fill=\"#000000\">a</text>\n",
       "</g>\n",
       "<!-- 1 -->\n",
       "<g id=\"node2\" class=\"node\">\n",
       "<title>1</title>\n",
       "<ellipse fill=\"none\" stroke=\"#000000\" cx=\"101\" cy=\"-22\" rx=\"18\" ry=\"18\"/>\n",
       "<ellipse fill=\"none\" stroke=\"#000000\" cx=\"101\" cy=\"-22\" rx=\"22\" ry=\"22\"/>\n",
       "<text text-anchor=\"middle\" x=\"101\" y=\"-18.3\" font-family=\"Times,serif\" font-size=\"14.00\" fill=\"#000000\">1</text>\n",
       "</g>\n",
       "<!-- 0&#45;&gt;1 -->\n",
       "<g id=\"edge1\" class=\"edge\">\n",
       "<title>0&#45;&gt;1</title>\n",
       "<path fill=\"none\" stroke=\"#000000\" d=\"M36.0098,-22C45.5483,-22 57.5554,-22 68.6456,-22\"/>\n",
       "<polygon fill=\"#000000\" stroke=\"#000000\" points=\"68.887,-25.5001 78.887,-22 68.8869,-18.5001 68.887,-25.5001\"/>\n",
       "<text text-anchor=\"middle\" x=\"57.5\" y=\"-25.8\" font-family=\"Times,serif\" font-size=\"14.00\" fill=\"#000000\">b</text>\n",
       "</g>\n",
       "<!-- 1&#45;&gt;0 -->\n",
       "<g id=\"edge4\" class=\"edge\">\n",
       "<title>1&#45;&gt;0</title>\n",
       "<path fill=\"none\" stroke=\"#000000\" d=\"M83.0964,-8.9656C74.4892,-4.2163 63.91,-.5453 54,-3 50.0235,-3.985 46.0019,-5.4981 42.1597,-7.2497\"/>\n",
       "<polygon fill=\"#000000\" stroke=\"#000000\" points=\"40.3818,-4.2287 33.1057,-11.93 43.5962,-10.447 40.3818,-4.2287\"/>\n",
       "<text text-anchor=\"middle\" x=\"57.5\" y=\"-6.8\" font-family=\"Times,serif\" font-size=\"14.00\" fill=\"#000000\">a</text>\n",
       "</g>\n",
       "<!-- 1&#45;&gt;1 -->\n",
       "<g id=\"edge3\" class=\"edge\">\n",
       "<title>1&#45;&gt;1</title>\n",
       "<path fill=\"none\" stroke=\"#000000\" d=\"M93.3173,-42.9908C92.3688,-53.0872 94.9297,-62 101,-62 104.8888,-62 107.3373,-58.3422 108.3456,-53.0587\"/>\n",
       "<polygon fill=\"#000000\" stroke=\"#000000\" points=\"111.846,-53.1023 108.6827,-42.9908 104.8499,-52.868 111.846,-53.1023\"/>\n",
       "<text text-anchor=\"middle\" x=\"101\" y=\"-65.8\" font-family=\"Times,serif\" font-size=\"14.00\" fill=\"#000000\">b</text>\n",
       "</g>\n",
       "</g>\n",
       "</svg>\n"
      ],
      "text/plain": [
       "<IPython.core.display.HTML object>"
      ]
     },
     "metadata": {},
     "output_type": "display_data"
    },
    {
     "data": {
      "text/html": [
       "Final states: {1}"
      ],
      "text/plain": [
       "<IPython.core.display.HTML object>"
      ]
     },
     "metadata": {},
     "output_type": "display_data"
    },
    {
     "data": {
      "text/html": [
       "The teacher disagreed: t = 'baa'"
      ],
      "text/plain": [
       "<IPython.core.display.HTML object>"
      ]
     },
     "metadata": {},
     "output_type": "display_data"
    },
    {
     "data": {
      "text/html": [
       "The following prefixes have been added to S: {'baa', 'ba', 'b'}"
      ],
      "text/plain": [
       "<IPython.core.display.HTML object>"
      ]
     },
     "metadata": {},
     "output_type": "display_data"
    },
    {
     "data": {
      "text/html": [
       "S is now equal to {'', 'ba', 'baa', 'b'}"
      ],
      "text/plain": [
       "<IPython.core.display.HTML object>"
      ]
     },
     "metadata": {},
     "output_type": "display_data"
    },
    {
     "data": {
      "text/html": [
       "\n",
       "        <table>\n",
       "            <tr><th></th><td>&#x3b5;</td></tr>\n",
       "            <tr><th><font color='red'>&#x3b5;</font></th><td>False</td></tr><tr><th><font color='red'>'b'</font></th><td>True</td></tr><tr><th>'a'</th><td>False</td></tr><tr><th><font color='red'>'ba'</font></th><td>False</td></tr><tr><th>'bb'</th><td>True</td></tr><tr><th><font color='red'>'baa'</font></th><td>True</td></tr><tr><th>'baaa'</th><td>False</td></tr><tr><th>'baab'</th><td>True</td></tr><tr><th>'bab'</th><td>True</td></tr>\n",
       "        </table>\n",
       "        "
      ],
      "text/plain": [
       "<IPython.core.display.HTML object>"
      ]
     },
     "metadata": {},
     "output_type": "display_data"
    },
    {
     "data": {
      "text/html": [
       "<b>iteration 3</b>"
      ],
      "text/plain": [
       "<IPython.core.display.HTML object>"
      ]
     },
     "metadata": {},
     "output_type": "display_data"
    },
    {
     "data": {
      "text/html": [
       "\n",
       "        <table>\n",
       "            <tr><th></th><td>&#x3b5;</td></tr>\n",
       "            <tr><th><font color='red'>&#x3b5;</font></th><td>False</td></tr><tr><th><font color='red'>'b'</font></th><td>True</td></tr><tr><th>'a'</th><td>False</td></tr><tr><th><font color='red'>'ba'</font></th><td>False</td></tr><tr><th>'bb'</th><td>True</td></tr><tr><th><font color='red'>'baa'</font></th><td>True</td></tr><tr><th>'baaa'</th><td>False</td></tr><tr><th>'baab'</th><td>True</td></tr><tr><th>'bab'</th><td>True</td></tr>\n",
       "        </table>\n",
       "        "
      ],
      "text/plain": [
       "<IPython.core.display.HTML object>"
      ]
     },
     "metadata": {},
     "output_type": "display_data"
    },
    {
     "data": {
      "text/html": [
       "Observation table is not consistent: (s1, s2, a, e) = ('', 'ba', 'a', ''), adding a to E"
      ],
      "text/plain": [
       "<IPython.core.display.HTML object>"
      ]
     },
     "metadata": {},
     "output_type": "display_data"
    },
    {
     "data": {
      "text/html": [
       "Observation table is closed and consistent"
      ],
      "text/plain": [
       "<IPython.core.display.HTML object>"
      ]
     },
     "metadata": {},
     "output_type": "display_data"
    },
    {
     "data": {
      "text/html": [
       "\n",
       "                    <table>\n",
       "                        <tr>\n",
       "                            <th>Teacher</th>\n",
       "                            <th>Observation table</th>\n",
       "                        </tr>\n",
       "                        <tr>\n",
       "                            <td><?xml version=\"1.0\" encoding=\"UTF-8\" standalone=\"no\"?>\n",
       "<!DOCTYPE svg PUBLIC \"-//W3C//DTD SVG 1.1//EN\"\n",
       " \"http://www.w3.org/Graphics/SVG/1.1/DTD/svg11.dtd\">\n",
       "<!-- Generated by graphviz version 2.40.1 (20161225.0304)\n",
       " -->\n",
       "<!-- Title: G Pages: 1 -->\n",
       "<svg width=\"210pt\" height=\"87pt\"\n",
       " viewBox=\"0.00 0.00 210.00 87.17\" xmlns=\"http://www.w3.org/2000/svg\" xmlns:xlink=\"http://www.w3.org/1999/xlink\">\n",
       "<g id=\"graph0\" class=\"graph\" transform=\"scale(1 1) rotate(0) translate(4 83.1696)\">\n",
       "<title>G</title>\n",
       "<!-- 0 -->\n",
       "<g id=\"node1\" class=\"node\">\n",
       "<title>0</title>\n",
       "<ellipse fill=\"none\" stroke=\"#000000\" cx=\"18\" cy=\"-24.1696\" rx=\"18\" ry=\"18\"/>\n",
       "<text text-anchor=\"middle\" x=\"18\" y=\"-20.4696\" font-family=\"Times,serif\" font-size=\"14.00\" fill=\"#000000\">0</text>\n",
       "</g>\n",
       "<!-- 0&#45;&gt;0 -->\n",
       "<g id=\"edge1\" class=\"edge\">\n",
       "<title>0&#45;&gt;0</title>\n",
       "<path fill=\"none\" stroke=\"#000000\" d=\"M11.2664,-41.2069C9.8922,-51.0275 12.1367,-60.1696 18,-60.1696 21.6646,-60.1696 23.9155,-56.5985 24.7529,-51.5225\"/>\n",
       "<polygon fill=\"#000000\" stroke=\"#000000\" points=\"28.2524,-51.2003 24.7336,-41.2069 21.2524,-51.2135 28.2524,-51.2003\"/>\n",
       "<text text-anchor=\"middle\" x=\"18\" y=\"-63.9696\" font-family=\"Times,serif\" font-size=\"14.00\" fill=\"#000000\">a</text>\n",
       "</g>\n",
       "<!-- 1 -->\n",
       "<g id=\"node2\" class=\"node\">\n",
       "<title>1</title>\n",
       "<ellipse fill=\"none\" stroke=\"#000000\" cx=\"101\" cy=\"-24.1696\" rx=\"18\" ry=\"18\"/>\n",
       "<ellipse fill=\"none\" stroke=\"#000000\" cx=\"101\" cy=\"-24.1696\" rx=\"22\" ry=\"22\"/>\n",
       "<text text-anchor=\"middle\" x=\"101\" y=\"-20.4696\" font-family=\"Times,serif\" font-size=\"14.00\" fill=\"#000000\">1</text>\n",
       "</g>\n",
       "<!-- 0&#45;&gt;1 -->\n",
       "<g id=\"edge2\" class=\"edge\">\n",
       "<title>0&#45;&gt;1</title>\n",
       "<path fill=\"none\" stroke=\"#000000\" d=\"M36.0098,-24.1696C45.5483,-24.1696 57.5554,-24.1696 68.6456,-24.1696\"/>\n",
       "<polygon fill=\"#000000\" stroke=\"#000000\" points=\"68.887,-27.6697 78.887,-24.1696 68.8869,-20.6697 68.887,-27.6697\"/>\n",
       "<text text-anchor=\"middle\" x=\"57.5\" y=\"-27.9696\" font-family=\"Times,serif\" font-size=\"14.00\" fill=\"#000000\">b</text>\n",
       "</g>\n",
       "<!-- 1&#45;&gt;1 -->\n",
       "<g id=\"edge4\" class=\"edge\">\n",
       "<title>1&#45;&gt;1</title>\n",
       "<path fill=\"none\" stroke=\"#000000\" d=\"M93.3173,-45.1603C92.3688,-55.2568 94.9297,-64.1696 101,-64.1696 104.8888,-64.1696 107.3373,-60.5118 108.3456,-55.2282\"/>\n",
       "<polygon fill=\"#000000\" stroke=\"#000000\" points=\"111.846,-55.2719 108.6827,-45.1603 104.8499,-55.0376 111.846,-55.2719\"/>\n",
       "<text text-anchor=\"middle\" x=\"101\" y=\"-67.9696\" font-family=\"Times,serif\" font-size=\"14.00\" fill=\"#000000\">b</text>\n",
       "</g>\n",
       "<!-- 2 -->\n",
       "<g id=\"node3\" class=\"node\">\n",
       "<title>2</title>\n",
       "<ellipse fill=\"none\" stroke=\"#000000\" cx=\"184\" cy=\"-24.1696\" rx=\"18\" ry=\"18\"/>\n",
       "<text text-anchor=\"middle\" x=\"184\" y=\"-20.4696\" font-family=\"Times,serif\" font-size=\"14.00\" fill=\"#000000\">2</text>\n",
       "</g>\n",
       "<!-- 1&#45;&gt;2 -->\n",
       "<g id=\"edge3\" class=\"edge\">\n",
       "<title>1&#45;&gt;2</title>\n",
       "<path fill=\"none\" stroke=\"#000000\" d=\"M119.9192,-35.5641C128.3798,-39.3617 138.5564,-42.1737 148,-40.1696 151.5188,-39.4229 155.1112,-38.3076 158.5985,-37.0068\"/>\n",
       "<polygon fill=\"#000000\" stroke=\"#000000\" points=\"160.1718,-40.141 167.9997,-33.0013 157.428,-33.7011 160.1718,-40.141\"/>\n",
       "<text text-anchor=\"middle\" x=\"144.5\" y=\"-43.9696\" font-family=\"Times,serif\" font-size=\"14.00\" fill=\"#000000\">a</text>\n",
       "</g>\n",
       "<!-- 2&#45;&gt;1 -->\n",
       "<g id=\"edge5\" class=\"edge\">\n",
       "<title>2&#45;&gt;1</title>\n",
       "<path fill=\"none\" stroke=\"#000000\" d=\"M166.0731,-22.3803C160.3086,-21.8841 153.8903,-21.4146 148,-21.1696 143.1495,-20.9678 138.0207,-21.021 133.0036,-21.2218\"/>\n",
       "<polygon fill=\"#000000\" stroke=\"#000000\" points=\"132.7662,-17.7296 122.9873,-21.8067 133.1743,-24.7177 132.7662,-17.7296\"/>\n",
       "<text text-anchor=\"middle\" x=\"144.5\" y=\"-24.9696\" font-family=\"Times,serif\" font-size=\"14.00\" fill=\"#000000\">a</text>\n",
       "</g>\n",
       "<!-- 2&#45;&gt;1 -->\n",
       "<g id=\"edge6\" class=\"edge\">\n",
       "<title>2&#45;&gt;1</title>\n",
       "<path fill=\"none\" stroke=\"#000000\" d=\"M169.8693,-12.4924C163.5789,-8.0259 155.8309,-3.4576 148,-1.1696 140.6863,.9673 133.1198,-.765 126.2513,-4.0605\"/>\n",
       "<polygon fill=\"#000000\" stroke=\"#000000\" points=\"124.2221,-1.1947 117.407,-9.3068 127.7933,-7.2152 124.2221,-1.1947\"/>\n",
       "<text text-anchor=\"middle\" x=\"144.5\" y=\"-4.9696\" font-family=\"Times,serif\" font-size=\"14.00\" fill=\"#000000\">b</text>\n",
       "</g>\n",
       "</g>\n",
       "</svg>\n",
       "</td>\n",
       "                            <td>\n",
       "        <table>\n",
       "            <tr><th></th><td>&#x3b5;</td><td>'a'</td></tr>\n",
       "            <tr><th><font color='red'>&#x3b5;</font></th><td>False</td><td>False</td></tr><tr><th><font color='red'>'b'</font></th><td>True</td><td>False</td></tr><tr><th>'a'</th><td>False</td><td>False</td></tr><tr><th><font color='red'>'ba'</font></th><td>False</td><td>True</td></tr><tr><th>'bb'</th><td>True</td><td>False</td></tr><tr><th><font color='red'>'baa'</font></th><td>True</td><td>False</td></tr><tr><th>'baaa'</th><td>False</td><td>True</td></tr><tr><th>'baab'</th><td>True</td><td>False</td></tr><tr><th>'bab'</th><td>True</td><td>False</td></tr>\n",
       "        </table>\n",
       "        </td>\n",
       "                        </tr>\n",
       "                    </table>\n",
       "                    "
      ],
      "text/plain": [
       "<IPython.core.display.HTML object>"
      ]
     },
     "metadata": {},
     "output_type": "display_data"
    },
    {
     "data": {
      "text/html": [
       "<?xml version=\"1.0\" encoding=\"UTF-8\" standalone=\"no\"?>\n",
       "<!DOCTYPE svg PUBLIC \"-//W3C//DTD SVG 1.1//EN\"\n",
       " \"http://www.w3.org/Graphics/SVG/1.1/DTD/svg11.dtd\">\n",
       "<!-- Generated by graphviz version 2.40.1 (20161225.0304)\n",
       " -->\n",
       "<!-- Title: G Pages: 1 -->\n",
       "<svg width=\"210pt\" height=\"87pt\"\n",
       " viewBox=\"0.00 0.00 210.00 87.17\" xmlns=\"http://www.w3.org/2000/svg\" xmlns:xlink=\"http://www.w3.org/1999/xlink\">\n",
       "<g id=\"graph0\" class=\"graph\" transform=\"scale(1 1) rotate(0) translate(4 83.1696)\">\n",
       "<title>G</title>\n",
       "<!-- 0 -->\n",
       "<g id=\"node1\" class=\"node\">\n",
       "<title>0</title>\n",
       "<ellipse fill=\"none\" stroke=\"#000000\" cx=\"18\" cy=\"-24.1696\" rx=\"18\" ry=\"18\"/>\n",
       "<text text-anchor=\"middle\" x=\"18\" y=\"-20.4696\" font-family=\"Times,serif\" font-size=\"14.00\" fill=\"#000000\">0</text>\n",
       "</g>\n",
       "<!-- 0&#45;&gt;0 -->\n",
       "<g id=\"edge2\" class=\"edge\">\n",
       "<title>0&#45;&gt;0</title>\n",
       "<path fill=\"none\" stroke=\"#000000\" d=\"M11.2664,-41.2069C9.8922,-51.0275 12.1367,-60.1696 18,-60.1696 21.6646,-60.1696 23.9155,-56.5985 24.7529,-51.5225\"/>\n",
       "<polygon fill=\"#000000\" stroke=\"#000000\" points=\"28.2524,-51.2003 24.7336,-41.2069 21.2524,-51.2135 28.2524,-51.2003\"/>\n",
       "<text text-anchor=\"middle\" x=\"18\" y=\"-63.9696\" font-family=\"Times,serif\" font-size=\"14.00\" fill=\"#000000\">a</text>\n",
       "</g>\n",
       "<!-- 1 -->\n",
       "<g id=\"node2\" class=\"node\">\n",
       "<title>1</title>\n",
       "<ellipse fill=\"none\" stroke=\"#000000\" cx=\"101\" cy=\"-24.1696\" rx=\"18\" ry=\"18\"/>\n",
       "<ellipse fill=\"none\" stroke=\"#000000\" cx=\"101\" cy=\"-24.1696\" rx=\"22\" ry=\"22\"/>\n",
       "<text text-anchor=\"middle\" x=\"101\" y=\"-20.4696\" font-family=\"Times,serif\" font-size=\"14.00\" fill=\"#000000\">1</text>\n",
       "</g>\n",
       "<!-- 0&#45;&gt;1 -->\n",
       "<g id=\"edge1\" class=\"edge\">\n",
       "<title>0&#45;&gt;1</title>\n",
       "<path fill=\"none\" stroke=\"#000000\" d=\"M36.0098,-24.1696C45.5483,-24.1696 57.5554,-24.1696 68.6456,-24.1696\"/>\n",
       "<polygon fill=\"#000000\" stroke=\"#000000\" points=\"68.887,-27.6697 78.887,-24.1696 68.8869,-20.6697 68.887,-27.6697\"/>\n",
       "<text text-anchor=\"middle\" x=\"57.5\" y=\"-27.9696\" font-family=\"Times,serif\" font-size=\"14.00\" fill=\"#000000\">b</text>\n",
       "</g>\n",
       "<!-- 1&#45;&gt;1 -->\n",
       "<g id=\"edge3\" class=\"edge\">\n",
       "<title>1&#45;&gt;1</title>\n",
       "<path fill=\"none\" stroke=\"#000000\" d=\"M93.3173,-45.1603C92.3688,-55.2568 94.9297,-64.1696 101,-64.1696 104.8888,-64.1696 107.3373,-60.5118 108.3456,-55.2282\"/>\n",
       "<polygon fill=\"#000000\" stroke=\"#000000\" points=\"111.846,-55.2719 108.6827,-45.1603 104.8499,-55.0376 111.846,-55.2719\"/>\n",
       "<text text-anchor=\"middle\" x=\"101\" y=\"-67.9696\" font-family=\"Times,serif\" font-size=\"14.00\" fill=\"#000000\">b</text>\n",
       "</g>\n",
       "<!-- 2 -->\n",
       "<g id=\"node3\" class=\"node\">\n",
       "<title>2</title>\n",
       "<ellipse fill=\"none\" stroke=\"#000000\" cx=\"184\" cy=\"-24.1696\" rx=\"18\" ry=\"18\"/>\n",
       "<text text-anchor=\"middle\" x=\"184\" y=\"-20.4696\" font-family=\"Times,serif\" font-size=\"14.00\" fill=\"#000000\">2</text>\n",
       "</g>\n",
       "<!-- 1&#45;&gt;2 -->\n",
       "<g id=\"edge4\" class=\"edge\">\n",
       "<title>1&#45;&gt;2</title>\n",
       "<path fill=\"none\" stroke=\"#000000\" d=\"M119.9192,-35.5641C128.3798,-39.3617 138.5564,-42.1737 148,-40.1696 151.5188,-39.4229 155.1112,-38.3076 158.5985,-37.0068\"/>\n",
       "<polygon fill=\"#000000\" stroke=\"#000000\" points=\"160.1718,-40.141 167.9997,-33.0013 157.428,-33.7011 160.1718,-40.141\"/>\n",
       "<text text-anchor=\"middle\" x=\"144.5\" y=\"-43.9696\" font-family=\"Times,serif\" font-size=\"14.00\" fill=\"#000000\">a</text>\n",
       "</g>\n",
       "<!-- 2&#45;&gt;1 -->\n",
       "<g id=\"edge5\" class=\"edge\">\n",
       "<title>2&#45;&gt;1</title>\n",
       "<path fill=\"none\" stroke=\"#000000\" d=\"M166.0731,-22.3803C160.3086,-21.8841 153.8903,-21.4146 148,-21.1696 143.1495,-20.9678 138.0207,-21.021 133.0036,-21.2218\"/>\n",
       "<polygon fill=\"#000000\" stroke=\"#000000\" points=\"132.7662,-17.7296 122.9873,-21.8067 133.1743,-24.7177 132.7662,-17.7296\"/>\n",
       "<text text-anchor=\"middle\" x=\"144.5\" y=\"-24.9696\" font-family=\"Times,serif\" font-size=\"14.00\" fill=\"#000000\">b</text>\n",
       "</g>\n",
       "<!-- 2&#45;&gt;1 -->\n",
       "<g id=\"edge6\" class=\"edge\">\n",
       "<title>2&#45;&gt;1</title>\n",
       "<path fill=\"none\" stroke=\"#000000\" d=\"M169.8693,-12.4924C163.5789,-8.0259 155.8309,-3.4576 148,-1.1696 140.6863,.9673 133.1198,-.765 126.2513,-4.0605\"/>\n",
       "<polygon fill=\"#000000\" stroke=\"#000000\" points=\"124.2221,-1.1947 117.407,-9.3068 127.7933,-7.2152 124.2221,-1.1947\"/>\n",
       "<text text-anchor=\"middle\" x=\"144.5\" y=\"-4.9696\" font-family=\"Times,serif\" font-size=\"14.00\" fill=\"#000000\">a</text>\n",
       "</g>\n",
       "</g>\n",
       "</svg>\n"
      ],
      "text/plain": [
       "<IPython.core.display.HTML object>"
      ]
     },
     "metadata": {},
     "output_type": "display_data"
    },
    {
     "data": {
      "text/html": [
       "Final states: {1}"
      ],
      "text/plain": [
       "<IPython.core.display.HTML object>"
      ]
     },
     "metadata": {},
     "output_type": "display_data"
    },
    {
     "data": {
      "text/html": [
       "<b>Learner</b>"
      ],
      "text/plain": [
       "<IPython.core.display.HTML object>"
      ]
     },
     "metadata": {},
     "output_type": "display_data"
    },
    {
     "data": {
      "text/html": [
       "<?xml version=\"1.0\" encoding=\"UTF-8\" standalone=\"no\"?>\n",
       "<!DOCTYPE svg PUBLIC \"-//W3C//DTD SVG 1.1//EN\"\n",
       " \"http://www.w3.org/Graphics/SVG/1.1/DTD/svg11.dtd\">\n",
       "<!-- Generated by graphviz version 2.40.1 (20161225.0304)\n",
       " -->\n",
       "<!-- Title: G Pages: 1 -->\n",
       "<svg width=\"210pt\" height=\"87pt\"\n",
       " viewBox=\"0.00 0.00 210.00 87.17\" xmlns=\"http://www.w3.org/2000/svg\" xmlns:xlink=\"http://www.w3.org/1999/xlink\">\n",
       "<g id=\"graph0\" class=\"graph\" transform=\"scale(1 1) rotate(0) translate(4 83.1696)\">\n",
       "<title>G</title>\n",
       "<!-- 0 -->\n",
       "<g id=\"node1\" class=\"node\">\n",
       "<title>0</title>\n",
       "<ellipse fill=\"none\" stroke=\"#000000\" cx=\"18\" cy=\"-24.1696\" rx=\"18\" ry=\"18\"/>\n",
       "<text text-anchor=\"middle\" x=\"18\" y=\"-20.4696\" font-family=\"Times,serif\" font-size=\"14.00\" fill=\"#000000\">0</text>\n",
       "</g>\n",
       "<!-- 0&#45;&gt;0 -->\n",
       "<g id=\"edge2\" class=\"edge\">\n",
       "<title>0&#45;&gt;0</title>\n",
       "<path fill=\"none\" stroke=\"#000000\" d=\"M11.2664,-41.2069C9.8922,-51.0275 12.1367,-60.1696 18,-60.1696 21.6646,-60.1696 23.9155,-56.5985 24.7529,-51.5225\"/>\n",
       "<polygon fill=\"#000000\" stroke=\"#000000\" points=\"28.2524,-51.2003 24.7336,-41.2069 21.2524,-51.2135 28.2524,-51.2003\"/>\n",
       "<text text-anchor=\"middle\" x=\"18\" y=\"-63.9696\" font-family=\"Times,serif\" font-size=\"14.00\" fill=\"#000000\">a</text>\n",
       "</g>\n",
       "<!-- 1 -->\n",
       "<g id=\"node2\" class=\"node\">\n",
       "<title>1</title>\n",
       "<ellipse fill=\"none\" stroke=\"#000000\" cx=\"101\" cy=\"-24.1696\" rx=\"18\" ry=\"18\"/>\n",
       "<ellipse fill=\"none\" stroke=\"#000000\" cx=\"101\" cy=\"-24.1696\" rx=\"22\" ry=\"22\"/>\n",
       "<text text-anchor=\"middle\" x=\"101\" y=\"-20.4696\" font-family=\"Times,serif\" font-size=\"14.00\" fill=\"#000000\">1</text>\n",
       "</g>\n",
       "<!-- 0&#45;&gt;1 -->\n",
       "<g id=\"edge1\" class=\"edge\">\n",
       "<title>0&#45;&gt;1</title>\n",
       "<path fill=\"none\" stroke=\"#000000\" d=\"M36.0098,-24.1696C45.5483,-24.1696 57.5554,-24.1696 68.6456,-24.1696\"/>\n",
       "<polygon fill=\"#000000\" stroke=\"#000000\" points=\"68.887,-27.6697 78.887,-24.1696 68.8869,-20.6697 68.887,-27.6697\"/>\n",
       "<text text-anchor=\"middle\" x=\"57.5\" y=\"-27.9696\" font-family=\"Times,serif\" font-size=\"14.00\" fill=\"#000000\">b</text>\n",
       "</g>\n",
       "<!-- 1&#45;&gt;1 -->\n",
       "<g id=\"edge3\" class=\"edge\">\n",
       "<title>1&#45;&gt;1</title>\n",
       "<path fill=\"none\" stroke=\"#000000\" d=\"M93.3173,-45.1603C92.3688,-55.2568 94.9297,-64.1696 101,-64.1696 104.8888,-64.1696 107.3373,-60.5118 108.3456,-55.2282\"/>\n",
       "<polygon fill=\"#000000\" stroke=\"#000000\" points=\"111.846,-55.2719 108.6827,-45.1603 104.8499,-55.0376 111.846,-55.2719\"/>\n",
       "<text text-anchor=\"middle\" x=\"101\" y=\"-67.9696\" font-family=\"Times,serif\" font-size=\"14.00\" fill=\"#000000\">b</text>\n",
       "</g>\n",
       "<!-- 2 -->\n",
       "<g id=\"node3\" class=\"node\">\n",
       "<title>2</title>\n",
       "<ellipse fill=\"none\" stroke=\"#000000\" cx=\"184\" cy=\"-24.1696\" rx=\"18\" ry=\"18\"/>\n",
       "<text text-anchor=\"middle\" x=\"184\" y=\"-20.4696\" font-family=\"Times,serif\" font-size=\"14.00\" fill=\"#000000\">2</text>\n",
       "</g>\n",
       "<!-- 1&#45;&gt;2 -->\n",
       "<g id=\"edge4\" class=\"edge\">\n",
       "<title>1&#45;&gt;2</title>\n",
       "<path fill=\"none\" stroke=\"#000000\" d=\"M119.9192,-35.5641C128.3798,-39.3617 138.5564,-42.1737 148,-40.1696 151.5188,-39.4229 155.1112,-38.3076 158.5985,-37.0068\"/>\n",
       "<polygon fill=\"#000000\" stroke=\"#000000\" points=\"160.1718,-40.141 167.9997,-33.0013 157.428,-33.7011 160.1718,-40.141\"/>\n",
       "<text text-anchor=\"middle\" x=\"144.5\" y=\"-43.9696\" font-family=\"Times,serif\" font-size=\"14.00\" fill=\"#000000\">a</text>\n",
       "</g>\n",
       "<!-- 2&#45;&gt;1 -->\n",
       "<g id=\"edge5\" class=\"edge\">\n",
       "<title>2&#45;&gt;1</title>\n",
       "<path fill=\"none\" stroke=\"#000000\" d=\"M166.0731,-22.3803C160.3086,-21.8841 153.8903,-21.4146 148,-21.1696 143.1495,-20.9678 138.0207,-21.021 133.0036,-21.2218\"/>\n",
       "<polygon fill=\"#000000\" stroke=\"#000000\" points=\"132.7662,-17.7296 122.9873,-21.8067 133.1743,-24.7177 132.7662,-17.7296\"/>\n",
       "<text text-anchor=\"middle\" x=\"144.5\" y=\"-24.9696\" font-family=\"Times,serif\" font-size=\"14.00\" fill=\"#000000\">b</text>\n",
       "</g>\n",
       "<!-- 2&#45;&gt;1 -->\n",
       "<g id=\"edge6\" class=\"edge\">\n",
       "<title>2&#45;&gt;1</title>\n",
       "<path fill=\"none\" stroke=\"#000000\" d=\"M169.8693,-12.4924C163.5789,-8.0259 155.8309,-3.4576 148,-1.1696 140.6863,.9673 133.1198,-.765 126.2513,-4.0605\"/>\n",
       "<polygon fill=\"#000000\" stroke=\"#000000\" points=\"124.2221,-1.1947 117.407,-9.3068 127.7933,-7.2152 124.2221,-1.1947\"/>\n",
       "<text text-anchor=\"middle\" x=\"144.5\" y=\"-4.9696\" font-family=\"Times,serif\" font-size=\"14.00\" fill=\"#000000\">a</text>\n",
       "</g>\n",
       "</g>\n",
       "</svg>\n"
      ],
      "text/plain": [
       "<IPython.core.display.HTML object>"
      ]
     },
     "metadata": {},
     "output_type": "display_data"
    },
    {
     "data": {
      "text/html": [
       ":-)"
      ],
      "text/plain": [
       "<IPython.core.display.HTML object>"
      ]
     },
     "metadata": {},
     "output_type": "display_data"
    }
   ],
   "source": [
    "G_DEMO = make_automaton(\n",
    "    [\n",
    "        (0, 0, 'a'), (0, 1, 'b'),\n",
    "        (1, 2, 'a'), (1, 1, 'b'),\n",
    "        (2, 1, 'a'), (2, 1, 'b'),\n",
    "    ], 0, {1}\n",
    ")\n",
    "\n",
    "test_learner(G_DEMO, verbose=True)"
   ]
  },
  {
   "cell_type": "markdown",
   "metadata": {},
   "source": [
    "# Sandbox (for slides)"
   ]
  },
  {
   "cell_type": "code",
   "execution_count": 9,
   "metadata": {
    "ExecuteTime": {
     "end_time": "2019-09-02T13:23:29.706216Z",
     "start_time": "2019-09-02T13:23:29.647404Z"
    }
   },
   "outputs": [
    {
     "data": {
      "text/html": [
       "<?xml version=\"1.0\" encoding=\"UTF-8\" standalone=\"no\"?>\n",
       "<!DOCTYPE svg PUBLIC \"-//W3C//DTD SVG 1.1//EN\"\n",
       " \"http://www.w3.org/Graphics/SVG/1.1/DTD/svg11.dtd\">\n",
       "<!-- Generated by graphviz version 2.40.1 (20161225.0304)\n",
       " -->\n",
       "<!-- Title: G Pages: 1 -->\n",
       "<svg width=\"210pt\" height=\"87pt\"\n",
       " viewBox=\"0.00 0.00 210.00 87.17\" xmlns=\"http://www.w3.org/2000/svg\" xmlns:xlink=\"http://www.w3.org/1999/xlink\">\n",
       "<g id=\"graph0\" class=\"graph\" transform=\"scale(1 1) rotate(0) translate(4 83.1696)\">\n",
       "<title>G</title>\n",
       "<!-- 0 -->\n",
       "<g id=\"node1\" class=\"node\">\n",
       "<title>0</title>\n",
       "<ellipse fill=\"none\" stroke=\"#000000\" cx=\"18\" cy=\"-24.1696\" rx=\"18\" ry=\"18\"/>\n",
       "<text text-anchor=\"middle\" x=\"18\" y=\"-20.4696\" font-family=\"Times,serif\" font-size=\"14.00\" fill=\"#000000\">0</text>\n",
       "</g>\n",
       "<!-- 0&#45;&gt;0 -->\n",
       "<g id=\"edge1\" class=\"edge\">\n",
       "<title>0&#45;&gt;0</title>\n",
       "<path fill=\"none\" stroke=\"#000000\" d=\"M11.2664,-41.2069C9.8922,-51.0275 12.1367,-60.1696 18,-60.1696 21.6646,-60.1696 23.9155,-56.5985 24.7529,-51.5225\"/>\n",
       "<polygon fill=\"#000000\" stroke=\"#000000\" points=\"28.2524,-51.2003 24.7336,-41.2069 21.2524,-51.2135 28.2524,-51.2003\"/>\n",
       "<text text-anchor=\"middle\" x=\"18\" y=\"-63.9696\" font-family=\"Times,serif\" font-size=\"14.00\" fill=\"#000000\">a</text>\n",
       "</g>\n",
       "<!-- 1 -->\n",
       "<g id=\"node2\" class=\"node\">\n",
       "<title>1</title>\n",
       "<ellipse fill=\"none\" stroke=\"#000000\" cx=\"101\" cy=\"-24.1696\" rx=\"18\" ry=\"18\"/>\n",
       "<ellipse fill=\"none\" stroke=\"#000000\" cx=\"101\" cy=\"-24.1696\" rx=\"22\" ry=\"22\"/>\n",
       "<text text-anchor=\"middle\" x=\"101\" y=\"-20.4696\" font-family=\"Times,serif\" font-size=\"14.00\" fill=\"#000000\">1</text>\n",
       "</g>\n",
       "<!-- 0&#45;&gt;1 -->\n",
       "<g id=\"edge2\" class=\"edge\">\n",
       "<title>0&#45;&gt;1</title>\n",
       "<path fill=\"none\" stroke=\"#000000\" d=\"M36.0098,-24.1696C45.5483,-24.1696 57.5554,-24.1696 68.6456,-24.1696\"/>\n",
       "<polygon fill=\"#000000\" stroke=\"#000000\" points=\"68.887,-27.6697 78.887,-24.1696 68.8869,-20.6697 68.887,-27.6697\"/>\n",
       "<text text-anchor=\"middle\" x=\"57.5\" y=\"-27.9696\" font-family=\"Times,serif\" font-size=\"14.00\" fill=\"#000000\">b</text>\n",
       "</g>\n",
       "<!-- 1&#45;&gt;1 -->\n",
       "<g id=\"edge4\" class=\"edge\">\n",
       "<title>1&#45;&gt;1</title>\n",
       "<path fill=\"none\" stroke=\"#000000\" d=\"M93.3173,-45.1603C92.3688,-55.2568 94.9297,-64.1696 101,-64.1696 104.8888,-64.1696 107.3373,-60.5118 108.3456,-55.2282\"/>\n",
       "<polygon fill=\"#000000\" stroke=\"#000000\" points=\"111.846,-55.2719 108.6827,-45.1603 104.8499,-55.0376 111.846,-55.2719\"/>\n",
       "<text text-anchor=\"middle\" x=\"101\" y=\"-67.9696\" font-family=\"Times,serif\" font-size=\"14.00\" fill=\"#000000\">b</text>\n",
       "</g>\n",
       "<!-- 2 -->\n",
       "<g id=\"node3\" class=\"node\">\n",
       "<title>2</title>\n",
       "<ellipse fill=\"none\" stroke=\"#000000\" cx=\"184\" cy=\"-24.1696\" rx=\"18\" ry=\"18\"/>\n",
       "<text text-anchor=\"middle\" x=\"184\" y=\"-20.4696\" font-family=\"Times,serif\" font-size=\"14.00\" fill=\"#000000\">2</text>\n",
       "</g>\n",
       "<!-- 1&#45;&gt;2 -->\n",
       "<g id=\"edge3\" class=\"edge\">\n",
       "<title>1&#45;&gt;2</title>\n",
       "<path fill=\"none\" stroke=\"#000000\" d=\"M119.9192,-35.5641C128.3798,-39.3617 138.5564,-42.1737 148,-40.1696 151.5188,-39.4229 155.1112,-38.3076 158.5985,-37.0068\"/>\n",
       "<polygon fill=\"#000000\" stroke=\"#000000\" points=\"160.1718,-40.141 167.9997,-33.0013 157.428,-33.7011 160.1718,-40.141\"/>\n",
       "<text text-anchor=\"middle\" x=\"144.5\" y=\"-43.9696\" font-family=\"Times,serif\" font-size=\"14.00\" fill=\"#000000\">a</text>\n",
       "</g>\n",
       "<!-- 2&#45;&gt;1 -->\n",
       "<g id=\"edge5\" class=\"edge\">\n",
       "<title>2&#45;&gt;1</title>\n",
       "<path fill=\"none\" stroke=\"#000000\" d=\"M166.0731,-22.3803C160.3086,-21.8841 153.8903,-21.4146 148,-21.1696 143.1495,-20.9678 138.0207,-21.021 133.0036,-21.2218\"/>\n",
       "<polygon fill=\"#000000\" stroke=\"#000000\" points=\"132.7662,-17.7296 122.9873,-21.8067 133.1743,-24.7177 132.7662,-17.7296\"/>\n",
       "<text text-anchor=\"middle\" x=\"144.5\" y=\"-24.9696\" font-family=\"Times,serif\" font-size=\"14.00\" fill=\"#000000\">a</text>\n",
       "</g>\n",
       "<!-- 2&#45;&gt;1 -->\n",
       "<g id=\"edge6\" class=\"edge\">\n",
       "<title>2&#45;&gt;1</title>\n",
       "<path fill=\"none\" stroke=\"#000000\" d=\"M169.8693,-12.4924C163.5789,-8.0259 155.8309,-3.4576 148,-1.1696 140.6863,.9673 133.1198,-.765 126.2513,-4.0605\"/>\n",
       "<polygon fill=\"#000000\" stroke=\"#000000\" points=\"124.2221,-1.1947 117.407,-9.3068 127.7933,-7.2152 124.2221,-1.1947\"/>\n",
       "<text text-anchor=\"middle\" x=\"144.5\" y=\"-4.9696\" font-family=\"Times,serif\" font-size=\"14.00\" fill=\"#000000\">b</text>\n",
       "</g>\n",
       "</g>\n",
       "</svg>\n"
      ],
      "text/plain": [
       "<IPython.core.display.HTML object>"
      ]
     },
     "metadata": {},
     "output_type": "display_data"
    },
    {
     "name": "stdout",
     "output_type": "stream",
     "text": [
      "Writting [./out_automaton.svg]\n"
     ]
    }
   ],
   "source": [
    "import os\n",
    "from pybgl.graphviz import dotstr_to_html\n",
    "from pybgl.html     import html\n",
    "\n",
    "PREFIX = \"./\"\n",
    "\n",
    "def write_automaton(g :Automaton, filename :str):\n",
    "    svg = dotstr_to_html(g.to_dot())\n",
    "    html(svg)\n",
    "    with open(filename, \"w\") as f:\n",
    "        print(\"Writting [%s]\" % filename)\n",
    "        print(svg, file=f)\n",
    "    \n",
    "write_automaton(G1, os.path.join(PREFIX, \"out_automaton.svg\"))"
   ]
  },
  {
   "cell_type": "code",
   "execution_count": 10,
   "metadata": {
    "ExecuteTime": {
     "end_time": "2019-09-02T13:23:30.528184Z",
     "start_time": "2019-09-02T13:23:30.445258Z"
    }
   },
   "outputs": [
    {
     "data": {
      "text/html": [
       "<?xml version=\"1.0\" encoding=\"UTF-8\" standalone=\"no\"?>\n",
       "<!DOCTYPE svg PUBLIC \"-//W3C//DTD SVG 1.1//EN\"\n",
       " \"http://www.w3.org/Graphics/SVG/1.1/DTD/svg11.dtd\">\n",
       "<!-- Generated by graphviz version 2.40.1 (20161225.0304)\n",
       " -->\n",
       "<!-- Title: G Pages: 1 -->\n",
       "<svg width=\"131pt\" height=\"85pt\"\n",
       " viewBox=\"0.00 0.00 131.00 85.00\" xmlns=\"http://www.w3.org/2000/svg\" xmlns:xlink=\"http://www.w3.org/1999/xlink\">\n",
       "<g id=\"graph0\" class=\"graph\" transform=\"scale(1 1) rotate(0) translate(4 81)\">\n",
       "<title>G</title>\n",
       "<!-- 0 -->\n",
       "<g id=\"node1\" class=\"node\">\n",
       "<title>0</title>\n",
       "<ellipse fill=\"none\" stroke=\"#000000\" cx=\"18\" cy=\"-22\" rx=\"18\" ry=\"18\"/>\n",
       "<text text-anchor=\"middle\" x=\"18\" y=\"-18.3\" font-family=\"Times,serif\" font-size=\"14.00\" fill=\"#000000\">0</text>\n",
       "</g>\n",
       "<!-- 0&#45;&gt;0 -->\n",
       "<g id=\"edge1\" class=\"edge\">\n",
       "<title>0&#45;&gt;0</title>\n",
       "<path fill=\"none\" stroke=\"#000000\" d=\"M11.2664,-39.0373C9.8922,-48.8579 12.1367,-58 18,-58 21.6646,-58 23.9155,-54.4289 24.7529,-49.3529\"/>\n",
       "<polygon fill=\"#000000\" stroke=\"#000000\" points=\"28.2524,-49.0307 24.7336,-39.0373 21.2524,-49.0439 28.2524,-49.0307\"/>\n",
       "<text text-anchor=\"middle\" x=\"18\" y=\"-61.8\" font-family=\"Times,serif\" font-size=\"14.00\" fill=\"#000000\">a</text>\n",
       "</g>\n",
       "<!-- 1 -->\n",
       "<g id=\"node2\" class=\"node\">\n",
       "<title>1</title>\n",
       "<ellipse fill=\"none\" stroke=\"#000000\" cx=\"101\" cy=\"-22\" rx=\"18\" ry=\"18\"/>\n",
       "<ellipse fill=\"none\" stroke=\"#000000\" cx=\"101\" cy=\"-22\" rx=\"22\" ry=\"22\"/>\n",
       "<text text-anchor=\"middle\" x=\"101\" y=\"-18.3\" font-family=\"Times,serif\" font-size=\"14.00\" fill=\"#000000\">1</text>\n",
       "</g>\n",
       "<!-- 0&#45;&gt;1 -->\n",
       "<g id=\"edge2\" class=\"edge\">\n",
       "<title>0&#45;&gt;1</title>\n",
       "<path fill=\"none\" stroke=\"#000000\" d=\"M36.0098,-22C45.5483,-22 57.5554,-22 68.6456,-22\"/>\n",
       "<polygon fill=\"#000000\" stroke=\"#000000\" points=\"68.887,-25.5001 78.887,-22 68.8869,-18.5001 68.887,-25.5001\"/>\n",
       "<text text-anchor=\"middle\" x=\"57.5\" y=\"-25.8\" font-family=\"Times,serif\" font-size=\"14.00\" fill=\"#000000\">b</text>\n",
       "</g>\n",
       "<!-- 1&#45;&gt;0 -->\n",
       "<g id=\"edge4\" class=\"edge\">\n",
       "<title>1&#45;&gt;0</title>\n",
       "<path fill=\"none\" stroke=\"#000000\" d=\"M83.0964,-8.9656C74.4892,-4.2163 63.91,-.5453 54,-3 50.0235,-3.985 46.0019,-5.4981 42.1597,-7.2497\"/>\n",
       "<polygon fill=\"#000000\" stroke=\"#000000\" points=\"40.3818,-4.2287 33.1057,-11.93 43.5962,-10.447 40.3818,-4.2287\"/>\n",
       "<text text-anchor=\"middle\" x=\"57.5\" y=\"-6.8\" font-family=\"Times,serif\" font-size=\"14.00\" fill=\"#000000\">a</text>\n",
       "</g>\n",
       "<!-- 1&#45;&gt;1 -->\n",
       "<g id=\"edge3\" class=\"edge\">\n",
       "<title>1&#45;&gt;1</title>\n",
       "<path fill=\"none\" stroke=\"#000000\" d=\"M93.3173,-42.9908C92.3688,-53.0872 94.9297,-62 101,-62 104.8888,-62 107.3373,-58.3422 108.3456,-53.0587\"/>\n",
       "<polygon fill=\"#000000\" stroke=\"#000000\" points=\"111.846,-53.1023 108.6827,-42.9908 104.8499,-52.868 111.846,-53.1023\"/>\n",
       "<text text-anchor=\"middle\" x=\"101\" y=\"-65.8\" font-family=\"Times,serif\" font-size=\"14.00\" fill=\"#000000\">b</text>\n",
       "</g>\n",
       "</g>\n",
       "</svg>\n"
      ],
      "text/plain": [
       "<IPython.core.display.HTML object>"
      ]
     },
     "metadata": {},
     "output_type": "display_data"
    },
    {
     "name": "stdout",
     "output_type": "stream",
     "text": [
      "Writting [./small_dfa.svg]\n"
     ]
    }
   ],
   "source": [
    "SMALL_DFA = make_automaton(\n",
    "    [\n",
    "        (0, 0, 'a'), (0, 1, 'b'),\n",
    "        (1, 1, 'b'), (1, 0, 'a')\n",
    "    ], 0, {1}\n",
    ")\n",
    "\n",
    "write_automaton(SMALL_DFA, os.path.join(PREFIX, \"small_dfa.svg\"))"
   ]
  },
  {
   "cell_type": "code",
   "execution_count": 11,
   "metadata": {
    "ExecuteTime": {
     "end_time": "2019-09-02T13:23:31.080076Z",
     "start_time": "2019-09-02T13:23:31.027244Z"
    }
   },
   "outputs": [
    {
     "data": {
      "text/html": [
       "<?xml version=\"1.0\" encoding=\"UTF-8\" standalone=\"no\"?>\n",
       "<!DOCTYPE svg PUBLIC \"-//W3C//DTD SVG 1.1//EN\"\n",
       " \"http://www.w3.org/Graphics/SVG/1.1/DTD/svg11.dtd\">\n",
       "<!-- Generated by graphviz version 2.40.1 (20161225.0304)\n",
       " -->\n",
       "<!-- Title: G Pages: 1 -->\n",
       "<svg width=\"297pt\" height=\"145pt\"\n",
       " viewBox=\"0.00 0.00 297.00 145.00\" xmlns=\"http://www.w3.org/2000/svg\" xmlns:xlink=\"http://www.w3.org/1999/xlink\">\n",
       "<g id=\"graph0\" class=\"graph\" transform=\"scale(1 1) rotate(0) translate(4 141)\">\n",
       "<title>G</title>\n",
       "<!-- 0 -->\n",
       "<g id=\"node1\" class=\"node\">\n",
       "<title>0</title>\n",
       "<ellipse fill=\"none\" stroke=\"#000000\" cx=\"18\" cy=\"-41\" rx=\"18\" ry=\"18\"/>\n",
       "<text text-anchor=\"middle\" x=\"18\" y=\"-37.3\" font-family=\"Times,serif\" font-size=\"14.00\" fill=\"#000000\">0</text>\n",
       "</g>\n",
       "<!-- 1 -->\n",
       "<g id=\"node2\" class=\"node\">\n",
       "<title>1</title>\n",
       "<ellipse fill=\"none\" stroke=\"#000000\" cx=\"97\" cy=\"-41\" rx=\"18\" ry=\"18\"/>\n",
       "<text text-anchor=\"middle\" x=\"97\" y=\"-37.3\" font-family=\"Times,serif\" font-size=\"14.00\" fill=\"#000000\">1</text>\n",
       "</g>\n",
       "<!-- 0&#45;&gt;1 -->\n",
       "<g id=\"edge1\" class=\"edge\">\n",
       "<title>0&#45;&gt;1</title>\n",
       "<path fill=\"none\" stroke=\"#000000\" d=\"M36.3228,-41C45.8947,-41 57.8223,-41 68.5629,-41\"/>\n",
       "<polygon fill=\"#000000\" stroke=\"#000000\" points=\"68.7766,-44.5001 78.7766,-41 68.7766,-37.5001 68.7766,-44.5001\"/>\n",
       "<text text-anchor=\"middle\" x=\"57.5\" y=\"-44.8\" font-family=\"Times,serif\" font-size=\"14.00\" fill=\"#000000\">a</text>\n",
       "</g>\n",
       "<!-- 2 -->\n",
       "<g id=\"node3\" class=\"node\">\n",
       "<title>2</title>\n",
       "<ellipse fill=\"none\" stroke=\"#000000\" cx=\"180\" cy=\"-84\" rx=\"18\" ry=\"18\"/>\n",
       "<ellipse fill=\"none\" stroke=\"#000000\" cx=\"180\" cy=\"-84\" rx=\"22\" ry=\"22\"/>\n",
       "<text text-anchor=\"middle\" x=\"180\" y=\"-80.3\" font-family=\"Times,serif\" font-size=\"14.00\" fill=\"#000000\">2</text>\n",
       "</g>\n",
       "<!-- 1&#45;&gt;2 -->\n",
       "<g id=\"edge2\" class=\"edge\">\n",
       "<title>1&#45;&gt;2</title>\n",
       "<path fill=\"none\" stroke=\"#000000\" d=\"M113.0032,-49.2908C123.8445,-54.9074 138.4759,-62.4875 151.2998,-69.1312\"/>\n",
       "<polygon fill=\"#000000\" stroke=\"#000000\" points=\"149.7488,-72.2695 160.2381,-73.7619 152.9689,-66.0541 149.7488,-72.2695\"/>\n",
       "<text text-anchor=\"middle\" x=\"136.5\" y=\"-65.8\" font-family=\"Times,serif\" font-size=\"14.00\" fill=\"#000000\">b</text>\n",
       "</g>\n",
       "<!-- 5 -->\n",
       "<g id=\"node6\" class=\"node\">\n",
       "<title>5</title>\n",
       "<ellipse fill=\"none\" stroke=\"#000000\" cx=\"180\" cy=\"-22\" rx=\"18\" ry=\"18\"/>\n",
       "<ellipse fill=\"none\" stroke=\"#000000\" cx=\"180\" cy=\"-22\" rx=\"22\" ry=\"22\"/>\n",
       "<text text-anchor=\"middle\" x=\"180\" y=\"-18.3\" font-family=\"Times,serif\" font-size=\"14.00\" fill=\"#000000\">5</text>\n",
       "</g>\n",
       "<!-- 1&#45;&gt;5 -->\n",
       "<g id=\"edge3\" class=\"edge\">\n",
       "<title>1&#45;&gt;5</title>\n",
       "<path fill=\"none\" stroke=\"#000000\" d=\"M114.6022,-36.9706C124.3662,-34.7355 136.8075,-31.8874 148.212,-29.2768\"/>\n",
       "<polygon fill=\"#000000\" stroke=\"#000000\" points=\"149.3208,-32.6136 158.2876,-26.9703 147.7587,-25.7901 149.3208,-32.6136\"/>\n",
       "<text text-anchor=\"middle\" x=\"136.5\" y=\"-36.8\" font-family=\"Times,serif\" font-size=\"14.00\" fill=\"#000000\">x</text>\n",
       "</g>\n",
       "<!-- 3 -->\n",
       "<g id=\"node4\" class=\"node\">\n",
       "<title>3</title>\n",
       "<ellipse fill=\"none\" stroke=\"#000000\" cx=\"267\" cy=\"-115\" rx=\"18\" ry=\"18\"/>\n",
       "<ellipse fill=\"none\" stroke=\"#000000\" cx=\"267\" cy=\"-115\" rx=\"22\" ry=\"22\"/>\n",
       "<text text-anchor=\"middle\" x=\"267\" y=\"-111.3\" font-family=\"Times,serif\" font-size=\"14.00\" fill=\"#000000\">3</text>\n",
       "</g>\n",
       "<!-- 2&#45;&gt;3 -->\n",
       "<g id=\"edge4\" class=\"edge\">\n",
       "<title>2&#45;&gt;3</title>\n",
       "<path fill=\"none\" stroke=\"#000000\" d=\"M201.0603,-91.5042C211.7467,-95.312 224.9211,-100.0064 236.6775,-104.1954\"/>\n",
       "<polygon fill=\"#000000\" stroke=\"#000000\" points=\"235.539,-107.5053 246.1337,-107.5649 237.8886,-100.9113 235.539,-107.5053\"/>\n",
       "<text text-anchor=\"middle\" x=\"223.5\" y=\"-103.8\" font-family=\"Times,serif\" font-size=\"14.00\" fill=\"#000000\">a</text>\n",
       "</g>\n",
       "<!-- 4 -->\n",
       "<g id=\"node5\" class=\"node\">\n",
       "<title>4</title>\n",
       "<ellipse fill=\"none\" stroke=\"#000000\" cx=\"267\" cy=\"-53\" rx=\"18\" ry=\"18\"/>\n",
       "<ellipse fill=\"none\" stroke=\"#000000\" cx=\"267\" cy=\"-53\" rx=\"22\" ry=\"22\"/>\n",
       "<text text-anchor=\"middle\" x=\"267\" y=\"-49.3\" font-family=\"Times,serif\" font-size=\"14.00\" fill=\"#000000\">4</text>\n",
       "</g>\n",
       "<!-- 2&#45;&gt;4 -->\n",
       "<g id=\"edge5\" class=\"edge\">\n",
       "<title>2&#45;&gt;4</title>\n",
       "<path fill=\"none\" stroke=\"#000000\" d=\"M201.0603,-76.4958C211.7467,-72.688 224.9211,-67.9936 236.6775,-63.8046\"/>\n",
       "<polygon fill=\"#000000\" stroke=\"#000000\" points=\"237.8886,-67.0887 246.1337,-60.4351 235.539,-60.4947 237.8886,-67.0887\"/>\n",
       "<text text-anchor=\"middle\" x=\"223.5\" y=\"-72.8\" font-family=\"Times,serif\" font-size=\"14.00\" fill=\"#000000\">b</text>\n",
       "</g>\n",
       "</g>\n",
       "</svg>\n"
      ],
      "text/plain": [
       "<IPython.core.display.HTML object>"
      ]
     },
     "metadata": {},
     "output_type": "display_data"
    },
    {
     "name": "stdout",
     "output_type": "stream",
     "text": [
      "Writting [./small_trie.svg]\n"
     ]
    }
   ],
   "source": [
    "SMALL_TRIE = make_automaton(\n",
    "    [\n",
    "        (0, 1, 'a'), (1, 2, 'b'), (2, 3, 'a'), (2, 4, 'b'),\n",
    "        (1, 5, 'x')\n",
    "    ], 0, {2,3,4,5}\n",
    ")\n",
    "\n",
    "write_automaton(SMALL_TRIE, os.path.join(PREFIX, \"small_trie.svg\"))"
   ]
  }
 ],
 "metadata": {
  "kernelspec": {
   "display_name": "Python 3",
   "language": "python",
   "name": "python3"
  },
  "language_info": {
   "codemirror_mode": {
    "name": "ipython",
    "version": 3
   },
   "file_extension": ".py",
   "mimetype": "text/x-python",
   "name": "python",
   "nbconvert_exporter": "python",
   "pygments_lexer": "ipython3",
   "version": "3.7.4"
  },
  "latex_envs": {
   "LaTeX_envs_menu_present": true,
   "autocomplete": true,
   "bibliofile": "biblio.bib",
   "cite_by": "apalike",
   "current_citInitial": 1,
   "eqLabelWithNumbers": true,
   "eqNumInitial": 1,
   "hotkeys": {
    "equation": "Ctrl-E",
    "itemize": "Ctrl-I"
   },
   "labels_anchors": false,
   "latex_user_defs": false,
   "report_style_numbering": false,
   "user_envs_cfg": false
  },
  "toc": {
   "base_numbering": 1,
   "nav_menu": {},
   "number_sections": true,
   "sideBar": true,
   "skip_h1_title": false,
   "title_cell": "Table of Contents",
   "title_sidebar": "Contents",
   "toc_cell": false,
   "toc_position": {},
   "toc_section_display": true,
   "toc_window_display": false
  }
 },
 "nbformat": 4,
 "nbformat_minor": 2
}
